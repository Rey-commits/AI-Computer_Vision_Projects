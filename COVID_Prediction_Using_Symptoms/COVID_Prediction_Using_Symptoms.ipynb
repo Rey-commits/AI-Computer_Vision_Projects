{
 "cells": [
  {
   "cell_type": "code",
   "execution_count": 1,
   "id": "dcedb7e2",
   "metadata": {},
   "outputs": [],
   "source": [
    "# !pip install pandas numpy plotly matplotlib scikit-learn seaborn --quiet"
   ]
  },
  {
   "cell_type": "code",
   "execution_count": 2,
   "id": "d2c96bd0",
   "metadata": {},
   "outputs": [],
   "source": [
    "import plotly.express as px\n",
    "import pickle\n",
    "import matplotlib.pyplot as plt\n",
    "import seaborn as sns\n",
    "import pandas as pd\n",
    "import numpy as np\n",
    "import matplotlib\n",
    "import os\n",
    "%matplotlib inline\n",
    "\n",
    "import random\n",
    "def reset_random_seeds():\n",
    "   os.environ['PYTHONHASHSEED']=str(42)\n",
    "   np.random.seed(42)\n",
    "   random.seed(42)\n",
    "reset_random_seeds()\n",
    "\n",
    "pd.set_option('display.max_columns', None)\n",
    "pd.set_option('display.max_rows', 150)\n",
    "sns.set_style('darkgrid')\n",
    "matplotlib.rcParams['font.size'] = 14\n",
    "matplotlib.rcParams['figure.figsize'] = (10, 6)\n",
    "matplotlib.rcParams['figure.facecolor'] = '#00000000'"
   ]
  },
  {
   "cell_type": "markdown",
   "id": "c957577f",
   "metadata": {},
   "source": [
    "<strong>Loading the data</strong>"
   ]
  },
  {
   "cell_type": "markdown",
   "id": "23a58b97",
   "metadata": {},
   "source": [
    "Source of data: https://github.com/BDBC-KG-NLP/COVID-19-tracker"
   ]
  },
  {
   "cell_type": "code",
   "execution_count": 3,
   "id": "bb4940de",
   "metadata": {},
   "outputs": [],
   "source": [
    "raw_df = pd.read_csv(\"covid_early_stage_symptoms/covid_early_stage_symptoms.csv\")"
   ]
  },
  {
   "cell_type": "code",
   "execution_count": 4,
   "id": "95002702",
   "metadata": {},
   "outputs": [
    {
     "data": {
      "text/html": [
       "<div>\n",
       "<style scoped>\n",
       "    .dataframe tbody tr th:only-of-type {\n",
       "        vertical-align: middle;\n",
       "    }\n",
       "\n",
       "    .dataframe tbody tr th {\n",
       "        vertical-align: top;\n",
       "    }\n",
       "\n",
       "    .dataframe thead th {\n",
       "        text-align: right;\n",
       "    }\n",
       "</style>\n",
       "<table border=\"1\" class=\"dataframe\">\n",
       "  <thead>\n",
       "    <tr style=\"text-align: right;\">\n",
       "      <th></th>\n",
       "      <th>gender</th>\n",
       "      <th>age_year</th>\n",
       "      <th>fever</th>\n",
       "      <th>cough</th>\n",
       "      <th>runny_nose</th>\n",
       "      <th>muscle_soreness</th>\n",
       "      <th>pneumonia</th>\n",
       "      <th>diarrhea</th>\n",
       "      <th>lung_infection</th>\n",
       "      <th>travel_history</th>\n",
       "      <th>isolation_treatment</th>\n",
       "      <th>SARS-CoV-2 Positive</th>\n",
       "    </tr>\n",
       "  </thead>\n",
       "  <tbody>\n",
       "    <tr>\n",
       "      <th>0</th>\n",
       "      <td>male</td>\n",
       "      <td>89</td>\n",
       "      <td>1</td>\n",
       "      <td>1</td>\n",
       "      <td>0</td>\n",
       "      <td>0</td>\n",
       "      <td>0</td>\n",
       "      <td>0</td>\n",
       "      <td>0</td>\n",
       "      <td>1</td>\n",
       "      <td>0</td>\n",
       "      <td>0</td>\n",
       "    </tr>\n",
       "    <tr>\n",
       "      <th>1</th>\n",
       "      <td>male</td>\n",
       "      <td>68</td>\n",
       "      <td>1</td>\n",
       "      <td>0</td>\n",
       "      <td>0</td>\n",
       "      <td>0</td>\n",
       "      <td>0</td>\n",
       "      <td>0</td>\n",
       "      <td>0</td>\n",
       "      <td>0</td>\n",
       "      <td>0</td>\n",
       "      <td>0</td>\n",
       "    </tr>\n",
       "    <tr>\n",
       "      <th>2</th>\n",
       "      <td>male</td>\n",
       "      <td>68</td>\n",
       "      <td>0</td>\n",
       "      <td>0</td>\n",
       "      <td>0</td>\n",
       "      <td>0</td>\n",
       "      <td>0</td>\n",
       "      <td>0</td>\n",
       "      <td>0</td>\n",
       "      <td>1</td>\n",
       "      <td>0</td>\n",
       "      <td>0</td>\n",
       "    </tr>\n",
       "    <tr>\n",
       "      <th>3</th>\n",
       "      <td>male</td>\n",
       "      <td>68</td>\n",
       "      <td>1</td>\n",
       "      <td>1</td>\n",
       "      <td>0</td>\n",
       "      <td>0</td>\n",
       "      <td>0</td>\n",
       "      <td>0</td>\n",
       "      <td>0</td>\n",
       "      <td>1</td>\n",
       "      <td>1</td>\n",
       "      <td>1</td>\n",
       "    </tr>\n",
       "    <tr>\n",
       "      <th>4</th>\n",
       "      <td>male</td>\n",
       "      <td>50</td>\n",
       "      <td>1</td>\n",
       "      <td>1</td>\n",
       "      <td>1</td>\n",
       "      <td>0</td>\n",
       "      <td>1</td>\n",
       "      <td>0</td>\n",
       "      <td>0</td>\n",
       "      <td>1</td>\n",
       "      <td>0</td>\n",
       "      <td>1</td>\n",
       "    </tr>\n",
       "    <tr>\n",
       "      <th>...</th>\n",
       "      <td>...</td>\n",
       "      <td>...</td>\n",
       "      <td>...</td>\n",
       "      <td>...</td>\n",
       "      <td>...</td>\n",
       "      <td>...</td>\n",
       "      <td>...</td>\n",
       "      <td>...</td>\n",
       "      <td>...</td>\n",
       "      <td>...</td>\n",
       "      <td>...</td>\n",
       "      <td>...</td>\n",
       "    </tr>\n",
       "    <tr>\n",
       "      <th>6507</th>\n",
       "      <td>female</td>\n",
       "      <td>44</td>\n",
       "      <td>1</td>\n",
       "      <td>1</td>\n",
       "      <td>0</td>\n",
       "      <td>0</td>\n",
       "      <td>0</td>\n",
       "      <td>0</td>\n",
       "      <td>0</td>\n",
       "      <td>1</td>\n",
       "      <td>0</td>\n",
       "      <td>1</td>\n",
       "    </tr>\n",
       "    <tr>\n",
       "      <th>6508</th>\n",
       "      <td>female</td>\n",
       "      <td>44</td>\n",
       "      <td>1</td>\n",
       "      <td>1</td>\n",
       "      <td>0</td>\n",
       "      <td>0</td>\n",
       "      <td>0</td>\n",
       "      <td>0</td>\n",
       "      <td>0</td>\n",
       "      <td>0</td>\n",
       "      <td>0</td>\n",
       "      <td>0</td>\n",
       "    </tr>\n",
       "    <tr>\n",
       "      <th>6509</th>\n",
       "      <td>female</td>\n",
       "      <td>58</td>\n",
       "      <td>0</td>\n",
       "      <td>0</td>\n",
       "      <td>0</td>\n",
       "      <td>0</td>\n",
       "      <td>0</td>\n",
       "      <td>0</td>\n",
       "      <td>0</td>\n",
       "      <td>0</td>\n",
       "      <td>0</td>\n",
       "      <td>0</td>\n",
       "    </tr>\n",
       "    <tr>\n",
       "      <th>6510</th>\n",
       "      <td>female</td>\n",
       "      <td>58</td>\n",
       "      <td>1</td>\n",
       "      <td>1</td>\n",
       "      <td>0</td>\n",
       "      <td>0</td>\n",
       "      <td>0</td>\n",
       "      <td>0</td>\n",
       "      <td>0</td>\n",
       "      <td>0</td>\n",
       "      <td>0</td>\n",
       "      <td>0</td>\n",
       "    </tr>\n",
       "    <tr>\n",
       "      <th>6511</th>\n",
       "      <td>male</td>\n",
       "      <td>12</td>\n",
       "      <td>1</td>\n",
       "      <td>1</td>\n",
       "      <td>0</td>\n",
       "      <td>0</td>\n",
       "      <td>0</td>\n",
       "      <td>0</td>\n",
       "      <td>0</td>\n",
       "      <td>0</td>\n",
       "      <td>1</td>\n",
       "      <td>0</td>\n",
       "    </tr>\n",
       "  </tbody>\n",
       "</table>\n",
       "<p>6512 rows × 12 columns</p>\n",
       "</div>"
      ],
      "text/plain": [
       "      gender  age_year  fever  cough  runny_nose  muscle_soreness  pneumonia  \\\n",
       "0       male        89      1      1           0                0          0   \n",
       "1       male        68      1      0           0                0          0   \n",
       "2       male        68      0      0           0                0          0   \n",
       "3       male        68      1      1           0                0          0   \n",
       "4       male        50      1      1           1                0          1   \n",
       "...      ...       ...    ...    ...         ...              ...        ...   \n",
       "6507  female        44      1      1           0                0          0   \n",
       "6508  female        44      1      1           0                0          0   \n",
       "6509  female        58      0      0           0                0          0   \n",
       "6510  female        58      1      1           0                0          0   \n",
       "6511    male        12      1      1           0                0          0   \n",
       "\n",
       "      diarrhea  lung_infection  travel_history  isolation_treatment  \\\n",
       "0            0               0               1                    0   \n",
       "1            0               0               0                    0   \n",
       "2            0               0               1                    0   \n",
       "3            0               0               1                    1   \n",
       "4            0               0               1                    0   \n",
       "...        ...             ...             ...                  ...   \n",
       "6507         0               0               1                    0   \n",
       "6508         0               0               0                    0   \n",
       "6509         0               0               0                    0   \n",
       "6510         0               0               0                    0   \n",
       "6511         0               0               0                    1   \n",
       "\n",
       "      SARS-CoV-2 Positive  \n",
       "0                       0  \n",
       "1                       0  \n",
       "2                       0  \n",
       "3                       1  \n",
       "4                       1  \n",
       "...                   ...  \n",
       "6507                    1  \n",
       "6508                    0  \n",
       "6509                    0  \n",
       "6510                    0  \n",
       "6511                    0  \n",
       "\n",
       "[6512 rows x 12 columns]"
      ]
     },
     "execution_count": 4,
     "metadata": {},
     "output_type": "execute_result"
    }
   ],
   "source": [
    "raw_df"
   ]
  },
  {
   "cell_type": "code",
   "execution_count": 5,
   "id": "9770966d",
   "metadata": {},
   "outputs": [],
   "source": [
    "raw_df[\"gender\"].replace({\"male\":1, \"female\":0}, inplace=True)"
   ]
  },
  {
   "cell_type": "code",
   "execution_count": 6,
   "id": "621cdedc",
   "metadata": {},
   "outputs": [
    {
     "name": "stdout",
     "output_type": "stream",
     "text": [
      "<class 'pandas.core.frame.DataFrame'>\n",
      "RangeIndex: 6512 entries, 0 to 6511\n",
      "Data columns (total 12 columns):\n",
      " #   Column               Non-Null Count  Dtype\n",
      "---  ------               --------------  -----\n",
      " 0   gender               6512 non-null   int64\n",
      " 1   age_year             6512 non-null   int64\n",
      " 2   fever                6512 non-null   int64\n",
      " 3   cough                6512 non-null   int64\n",
      " 4   runny_nose           6512 non-null   int64\n",
      " 5   muscle_soreness      6512 non-null   int64\n",
      " 6   pneumonia            6512 non-null   int64\n",
      " 7   diarrhea             6512 non-null   int64\n",
      " 8   lung_infection       6512 non-null   int64\n",
      " 9   travel_history       6512 non-null   int64\n",
      " 10  isolation_treatment  6512 non-null   int64\n",
      " 11  Result               6512 non-null   int64\n",
      "dtypes: int64(12)\n",
      "memory usage: 610.6 KB\n"
     ]
    }
   ],
   "source": [
    "raw_df = raw_df.rename(columns={\"SARS-CoV-2 Positive\":\"Result\"})\n",
    "raw_df.info()"
   ]
  },
  {
   "cell_type": "code",
   "execution_count": 7,
   "id": "f6f73b8c",
   "metadata": {},
   "outputs": [
    {
     "data": {
      "text/html": [
       "<div>\n",
       "<style scoped>\n",
       "    .dataframe tbody tr th:only-of-type {\n",
       "        vertical-align: middle;\n",
       "    }\n",
       "\n",
       "    .dataframe tbody tr th {\n",
       "        vertical-align: top;\n",
       "    }\n",
       "\n",
       "    .dataframe thead th {\n",
       "        text-align: right;\n",
       "    }\n",
       "</style>\n",
       "<table border=\"1\" class=\"dataframe\">\n",
       "  <thead>\n",
       "    <tr style=\"text-align: right;\">\n",
       "      <th></th>\n",
       "      <th>gender</th>\n",
       "      <th>age_year</th>\n",
       "      <th>fever</th>\n",
       "      <th>cough</th>\n",
       "      <th>runny_nose</th>\n",
       "      <th>muscle_soreness</th>\n",
       "      <th>pneumonia</th>\n",
       "      <th>diarrhea</th>\n",
       "      <th>lung_infection</th>\n",
       "      <th>travel_history</th>\n",
       "      <th>isolation_treatment</th>\n",
       "      <th>Result</th>\n",
       "    </tr>\n",
       "  </thead>\n",
       "  <tbody>\n",
       "    <tr>\n",
       "      <th>0</th>\n",
       "      <td>1</td>\n",
       "      <td>89</td>\n",
       "      <td>1</td>\n",
       "      <td>1</td>\n",
       "      <td>0</td>\n",
       "      <td>0</td>\n",
       "      <td>0</td>\n",
       "      <td>0</td>\n",
       "      <td>0</td>\n",
       "      <td>1</td>\n",
       "      <td>0</td>\n",
       "      <td>0</td>\n",
       "    </tr>\n",
       "    <tr>\n",
       "      <th>1</th>\n",
       "      <td>1</td>\n",
       "      <td>68</td>\n",
       "      <td>1</td>\n",
       "      <td>0</td>\n",
       "      <td>0</td>\n",
       "      <td>0</td>\n",
       "      <td>0</td>\n",
       "      <td>0</td>\n",
       "      <td>0</td>\n",
       "      <td>0</td>\n",
       "      <td>0</td>\n",
       "      <td>0</td>\n",
       "    </tr>\n",
       "    <tr>\n",
       "      <th>2</th>\n",
       "      <td>1</td>\n",
       "      <td>68</td>\n",
       "      <td>0</td>\n",
       "      <td>0</td>\n",
       "      <td>0</td>\n",
       "      <td>0</td>\n",
       "      <td>0</td>\n",
       "      <td>0</td>\n",
       "      <td>0</td>\n",
       "      <td>1</td>\n",
       "      <td>0</td>\n",
       "      <td>0</td>\n",
       "    </tr>\n",
       "    <tr>\n",
       "      <th>3</th>\n",
       "      <td>1</td>\n",
       "      <td>68</td>\n",
       "      <td>1</td>\n",
       "      <td>1</td>\n",
       "      <td>0</td>\n",
       "      <td>0</td>\n",
       "      <td>0</td>\n",
       "      <td>0</td>\n",
       "      <td>0</td>\n",
       "      <td>1</td>\n",
       "      <td>1</td>\n",
       "      <td>1</td>\n",
       "    </tr>\n",
       "    <tr>\n",
       "      <th>4</th>\n",
       "      <td>1</td>\n",
       "      <td>50</td>\n",
       "      <td>1</td>\n",
       "      <td>1</td>\n",
       "      <td>1</td>\n",
       "      <td>0</td>\n",
       "      <td>1</td>\n",
       "      <td>0</td>\n",
       "      <td>0</td>\n",
       "      <td>1</td>\n",
       "      <td>0</td>\n",
       "      <td>1</td>\n",
       "    </tr>\n",
       "    <tr>\n",
       "      <th>...</th>\n",
       "      <td>...</td>\n",
       "      <td>...</td>\n",
       "      <td>...</td>\n",
       "      <td>...</td>\n",
       "      <td>...</td>\n",
       "      <td>...</td>\n",
       "      <td>...</td>\n",
       "      <td>...</td>\n",
       "      <td>...</td>\n",
       "      <td>...</td>\n",
       "      <td>...</td>\n",
       "      <td>...</td>\n",
       "    </tr>\n",
       "    <tr>\n",
       "      <th>6507</th>\n",
       "      <td>0</td>\n",
       "      <td>44</td>\n",
       "      <td>1</td>\n",
       "      <td>1</td>\n",
       "      <td>0</td>\n",
       "      <td>0</td>\n",
       "      <td>0</td>\n",
       "      <td>0</td>\n",
       "      <td>0</td>\n",
       "      <td>1</td>\n",
       "      <td>0</td>\n",
       "      <td>1</td>\n",
       "    </tr>\n",
       "    <tr>\n",
       "      <th>6508</th>\n",
       "      <td>0</td>\n",
       "      <td>44</td>\n",
       "      <td>1</td>\n",
       "      <td>1</td>\n",
       "      <td>0</td>\n",
       "      <td>0</td>\n",
       "      <td>0</td>\n",
       "      <td>0</td>\n",
       "      <td>0</td>\n",
       "      <td>0</td>\n",
       "      <td>0</td>\n",
       "      <td>0</td>\n",
       "    </tr>\n",
       "    <tr>\n",
       "      <th>6509</th>\n",
       "      <td>0</td>\n",
       "      <td>58</td>\n",
       "      <td>0</td>\n",
       "      <td>0</td>\n",
       "      <td>0</td>\n",
       "      <td>0</td>\n",
       "      <td>0</td>\n",
       "      <td>0</td>\n",
       "      <td>0</td>\n",
       "      <td>0</td>\n",
       "      <td>0</td>\n",
       "      <td>0</td>\n",
       "    </tr>\n",
       "    <tr>\n",
       "      <th>6510</th>\n",
       "      <td>0</td>\n",
       "      <td>58</td>\n",
       "      <td>1</td>\n",
       "      <td>1</td>\n",
       "      <td>0</td>\n",
       "      <td>0</td>\n",
       "      <td>0</td>\n",
       "      <td>0</td>\n",
       "      <td>0</td>\n",
       "      <td>0</td>\n",
       "      <td>0</td>\n",
       "      <td>0</td>\n",
       "    </tr>\n",
       "    <tr>\n",
       "      <th>6511</th>\n",
       "      <td>1</td>\n",
       "      <td>12</td>\n",
       "      <td>1</td>\n",
       "      <td>1</td>\n",
       "      <td>0</td>\n",
       "      <td>0</td>\n",
       "      <td>0</td>\n",
       "      <td>0</td>\n",
       "      <td>0</td>\n",
       "      <td>0</td>\n",
       "      <td>1</td>\n",
       "      <td>0</td>\n",
       "    </tr>\n",
       "  </tbody>\n",
       "</table>\n",
       "<p>6512 rows × 12 columns</p>\n",
       "</div>"
      ],
      "text/plain": [
       "      gender  age_year  fever  cough  runny_nose  muscle_soreness  pneumonia  \\\n",
       "0          1        89      1      1           0                0          0   \n",
       "1          1        68      1      0           0                0          0   \n",
       "2          1        68      0      0           0                0          0   \n",
       "3          1        68      1      1           0                0          0   \n",
       "4          1        50      1      1           1                0          1   \n",
       "...      ...       ...    ...    ...         ...              ...        ...   \n",
       "6507       0        44      1      1           0                0          0   \n",
       "6508       0        44      1      1           0                0          0   \n",
       "6509       0        58      0      0           0                0          0   \n",
       "6510       0        58      1      1           0                0          0   \n",
       "6511       1        12      1      1           0                0          0   \n",
       "\n",
       "      diarrhea  lung_infection  travel_history  isolation_treatment  Result  \n",
       "0            0               0               1                    0       0  \n",
       "1            0               0               0                    0       0  \n",
       "2            0               0               1                    0       0  \n",
       "3            0               0               1                    1       1  \n",
       "4            0               0               1                    0       1  \n",
       "...        ...             ...             ...                  ...     ...  \n",
       "6507         0               0               1                    0       1  \n",
       "6508         0               0               0                    0       0  \n",
       "6509         0               0               0                    0       0  \n",
       "6510         0               0               0                    0       0  \n",
       "6511         0               0               0                    1       0  \n",
       "\n",
       "[6512 rows x 12 columns]"
      ]
     },
     "execution_count": 7,
     "metadata": {},
     "output_type": "execute_result"
    }
   ],
   "source": [
    "raw_df"
   ]
  },
  {
   "cell_type": "markdown",
   "id": "6e7029ad",
   "metadata": {},
   "source": [
    "<strong>Data Analysis</strong>"
   ]
  },
  {
   "cell_type": "code",
   "execution_count": 8,
   "id": "3544bb6c",
   "metadata": {},
   "outputs": [
    {
     "data": {
      "text/plain": [
       "<AxesSubplot:title={'center':'No. of Data for COVID and Non-COVID'}, xlabel='Result', ylabel='count'>"
      ]
     },
     "execution_count": 8,
     "metadata": {},
     "output_type": "execute_result"
    },
    {
     "data": {
      "image/png": "[encoded data removed]",
      "text/plain": [
       "<Figure size 720x432 with 1 Axes>"
      ]
     },
     "metadata": {
      "needs_background": "light"
     },
     "output_type": "display_data"
    }
   ],
   "source": [
    "plt.title(\"No. of Data for COVID and Non-COVID\")\n",
    "sns.countplot(x=raw_df.Result, palette=['r','g'])"
   ]
  },
  {
   "cell_type": "code",
   "execution_count": 9,
   "id": "c94e67d4",
   "metadata": {},
   "outputs": [
    {
     "data": {
      "text/plain": [
       "Text(0.5, 1.0, 'Correlation Matrix')"
      ]
     },
     "execution_count": 9,
     "metadata": {},
     "output_type": "execute_result"
    },
    {
     "data": {
      "image/png": "[encoded data removed]",
      "text/plain": [
       "<Figure size 1440x720 with 2 Axes>"
      ]
     },
     "metadata": {
      "needs_background": "light"
     },
     "output_type": "display_data"
    }
   ],
   "source": [
    "fig, ax = plt.subplots(figsize=(20,10))\n",
    "sns.heatmap(raw_df.corr(), ax=ax, cmap=\"ocean\")\n",
    "plt.title(\"Correlation Matrix\")"
   ]
  },
  {
   "cell_type": "markdown",
   "id": "5f6bc927",
   "metadata": {},
   "source": [
    "<strong>Data Preparation</strong>"
   ]
  },
  {
   "cell_type": "code",
   "execution_count": 10,
   "id": "a4c45799",
   "metadata": {},
   "outputs": [],
   "source": [
    "from sklearn.model_selection import train_test_split"
   ]
  },
  {
   "cell_type": "code",
   "execution_count": 11,
   "id": "1b2cbed5",
   "metadata": {},
   "outputs": [],
   "source": [
    "train_val_df, test_df = train_test_split(raw_df, test_size=0.1525, random_state=42)\n",
    "train_df, val_df = train_test_split(train_val_df, test_size=0.18, random_state=42)"
   ]
  },
  {
   "cell_type": "code",
   "execution_count": 12,
   "id": "d2ed74b7",
   "metadata": {},
   "outputs": [
    {
     "name": "stdout",
     "output_type": "stream",
     "text": [
      "train_df.shape : (4524, 12)\n",
      "val_df.shape : (994, 12)\n",
      "test_df.shape : (994, 12)\n"
     ]
    }
   ],
   "source": [
    "print('train_df.shape :', train_df.shape)\n",
    "print('val_df.shape :', val_df.shape)\n",
    "print('test_df.shape :', test_df.shape)"
   ]
  },
  {
   "cell_type": "code",
   "execution_count": 13,
   "id": "a57258ac",
   "metadata": {},
   "outputs": [],
   "source": [
    "input_cols = list(train_df.columns)[0:-1]\n",
    "target_col = \"Result\""
   ]
  },
  {
   "cell_type": "code",
   "execution_count": 14,
   "id": "e250cbed",
   "metadata": {},
   "outputs": [
    {
     "name": "stdout",
     "output_type": "stream",
     "text": [
      "input_cols = ['gender', 'age_year', 'fever', 'cough', 'runny_nose', 'muscle_soreness', 'pneumonia', 'diarrhea', 'lung_infection', 'travel_history', 'isolation_treatment']\n",
      "------------------------------\n",
      "target_col = Result\n"
     ]
    }
   ],
   "source": [
    "print(\"input_cols =\", input_cols)\n",
    "print(\"------------------------------\")\n",
    "print(\"target_col =\", target_col)"
   ]
  },
  {
   "cell_type": "code",
   "execution_count": 15,
   "id": "20a729fe",
   "metadata": {},
   "outputs": [],
   "source": [
    "train_inputs = train_df[input_cols].copy()\n",
    "train_targets = train_df[target_col].copy()\n",
    "\n",
    "val_inputs = val_df[input_cols].copy()\n",
    "val_targets = val_df[target_col].copy()\n",
    "\n",
    "test_inputs = test_df[input_cols].copy()\n",
    "test_targets = test_df[target_col].copy()"
   ]
  },
  {
   "cell_type": "code",
   "execution_count": 16,
   "id": "6e21e9ea",
   "metadata": {},
   "outputs": [
    {
     "data": {
      "text/plain": [
       "(['gender',\n",
       "  'age_year',\n",
       "  'fever',\n",
       "  'cough',\n",
       "  'runny_nose',\n",
       "  'muscle_soreness',\n",
       "  'pneumonia',\n",
       "  'diarrhea',\n",
       "  'lung_infection',\n",
       "  'travel_history',\n",
       "  'isolation_treatment'],\n",
       " 11)"
      ]
     },
     "execution_count": 16,
     "metadata": {},
     "output_type": "execute_result"
    }
   ],
   "source": [
    "numeric_cols = train_inputs.select_dtypes(include=np.number).columns.tolist()\n",
    "numeric_cols, len(numeric_cols)"
   ]
  },
  {
   "cell_type": "code",
   "execution_count": 17,
   "id": "31b53292",
   "metadata": {},
   "outputs": [
    {
     "data": {
      "text/html": [
       "<div>\n",
       "<style scoped>\n",
       "    .dataframe tbody tr th:only-of-type {\n",
       "        vertical-align: middle;\n",
       "    }\n",
       "\n",
       "    .dataframe tbody tr th {\n",
       "        vertical-align: top;\n",
       "    }\n",
       "\n",
       "    .dataframe thead th {\n",
       "        text-align: right;\n",
       "    }\n",
       "</style>\n",
       "<table border=\"1\" class=\"dataframe\">\n",
       "  <thead>\n",
       "    <tr style=\"text-align: right;\">\n",
       "      <th></th>\n",
       "      <th>gender</th>\n",
       "      <th>age_year</th>\n",
       "      <th>fever</th>\n",
       "      <th>cough</th>\n",
       "      <th>runny_nose</th>\n",
       "      <th>muscle_soreness</th>\n",
       "      <th>pneumonia</th>\n",
       "      <th>diarrhea</th>\n",
       "      <th>lung_infection</th>\n",
       "      <th>travel_history</th>\n",
       "      <th>isolation_treatment</th>\n",
       "    </tr>\n",
       "  </thead>\n",
       "  <tbody>\n",
       "    <tr>\n",
       "      <th>count</th>\n",
       "      <td>6512.000000</td>\n",
       "      <td>6512.000000</td>\n",
       "      <td>6512.000000</td>\n",
       "      <td>6512.000000</td>\n",
       "      <td>6512.000000</td>\n",
       "      <td>6512.000000</td>\n",
       "      <td>6512.000000</td>\n",
       "      <td>6512.000000</td>\n",
       "      <td>6512.000000</td>\n",
       "      <td>6512.000000</td>\n",
       "      <td>6512.000000</td>\n",
       "    </tr>\n",
       "    <tr>\n",
       "      <th>mean</th>\n",
       "      <td>0.517045</td>\n",
       "      <td>44.019502</td>\n",
       "      <td>0.410780</td>\n",
       "      <td>0.303286</td>\n",
       "      <td>0.084306</td>\n",
       "      <td>0.003993</td>\n",
       "      <td>0.074785</td>\n",
       "      <td>0.005682</td>\n",
       "      <td>0.131296</td>\n",
       "      <td>0.650952</td>\n",
       "      <td>0.216984</td>\n",
       "    </tr>\n",
       "    <tr>\n",
       "      <th>std</th>\n",
       "      <td>0.499748</td>\n",
       "      <td>16.112865</td>\n",
       "      <td>0.492013</td>\n",
       "      <td>0.459713</td>\n",
       "      <td>0.277867</td>\n",
       "      <td>0.063066</td>\n",
       "      <td>0.263064</td>\n",
       "      <td>0.075169</td>\n",
       "      <td>0.337750</td>\n",
       "      <td>0.476706</td>\n",
       "      <td>0.412223</td>\n",
       "    </tr>\n",
       "    <tr>\n",
       "      <th>min</th>\n",
       "      <td>0.000000</td>\n",
       "      <td>1.000000</td>\n",
       "      <td>0.000000</td>\n",
       "      <td>0.000000</td>\n",
       "      <td>0.000000</td>\n",
       "      <td>0.000000</td>\n",
       "      <td>0.000000</td>\n",
       "      <td>0.000000</td>\n",
       "      <td>0.000000</td>\n",
       "      <td>0.000000</td>\n",
       "      <td>0.000000</td>\n",
       "    </tr>\n",
       "    <tr>\n",
       "      <th>25%</th>\n",
       "      <td>0.000000</td>\n",
       "      <td>32.000000</td>\n",
       "      <td>0.000000</td>\n",
       "      <td>0.000000</td>\n",
       "      <td>0.000000</td>\n",
       "      <td>0.000000</td>\n",
       "      <td>0.000000</td>\n",
       "      <td>0.000000</td>\n",
       "      <td>0.000000</td>\n",
       "      <td>0.000000</td>\n",
       "      <td>0.000000</td>\n",
       "    </tr>\n",
       "    <tr>\n",
       "      <th>50%</th>\n",
       "      <td>1.000000</td>\n",
       "      <td>43.000000</td>\n",
       "      <td>0.000000</td>\n",
       "      <td>0.000000</td>\n",
       "      <td>0.000000</td>\n",
       "      <td>0.000000</td>\n",
       "      <td>0.000000</td>\n",
       "      <td>0.000000</td>\n",
       "      <td>0.000000</td>\n",
       "      <td>1.000000</td>\n",
       "      <td>0.000000</td>\n",
       "    </tr>\n",
       "    <tr>\n",
       "      <th>75%</th>\n",
       "      <td>1.000000</td>\n",
       "      <td>55.000000</td>\n",
       "      <td>1.000000</td>\n",
       "      <td>1.000000</td>\n",
       "      <td>0.000000</td>\n",
       "      <td>0.000000</td>\n",
       "      <td>0.000000</td>\n",
       "      <td>0.000000</td>\n",
       "      <td>0.000000</td>\n",
       "      <td>1.000000</td>\n",
       "      <td>0.000000</td>\n",
       "    </tr>\n",
       "    <tr>\n",
       "      <th>max</th>\n",
       "      <td>1.000000</td>\n",
       "      <td>96.000000</td>\n",
       "      <td>1.000000</td>\n",
       "      <td>1.000000</td>\n",
       "      <td>1.000000</td>\n",
       "      <td>1.000000</td>\n",
       "      <td>1.000000</td>\n",
       "      <td>1.000000</td>\n",
       "      <td>1.000000</td>\n",
       "      <td>1.000000</td>\n",
       "      <td>1.000000</td>\n",
       "    </tr>\n",
       "  </tbody>\n",
       "</table>\n",
       "</div>"
      ],
      "text/plain": [
       "            gender     age_year        fever        cough   runny_nose  \\\n",
       "count  6512.000000  6512.000000  6512.000000  6512.000000  6512.000000   \n",
       "mean      0.517045    44.019502     0.410780     0.303286     0.084306   \n",
       "std       0.499748    16.112865     0.492013     0.459713     0.277867   \n",
       "min       0.000000     1.000000     0.000000     0.000000     0.000000   \n",
       "25%       0.000000    32.000000     0.000000     0.000000     0.000000   \n",
       "50%       1.000000    43.000000     0.000000     0.000000     0.000000   \n",
       "75%       1.000000    55.000000     1.000000     1.000000     0.000000   \n",
       "max       1.000000    96.000000     1.000000     1.000000     1.000000   \n",
       "\n",
       "       muscle_soreness    pneumonia     diarrhea  lung_infection  \\\n",
       "count      6512.000000  6512.000000  6512.000000     6512.000000   \n",
       "mean          0.003993     0.074785     0.005682        0.131296   \n",
       "std           0.063066     0.263064     0.075169        0.337750   \n",
       "min           0.000000     0.000000     0.000000        0.000000   \n",
       "25%           0.000000     0.000000     0.000000        0.000000   \n",
       "50%           0.000000     0.000000     0.000000        0.000000   \n",
       "75%           0.000000     0.000000     0.000000        0.000000   \n",
       "max           1.000000     1.000000     1.000000        1.000000   \n",
       "\n",
       "       travel_history  isolation_treatment  \n",
       "count     6512.000000          6512.000000  \n",
       "mean         0.650952             0.216984  \n",
       "std          0.476706             0.412223  \n",
       "min          0.000000             0.000000  \n",
       "25%          0.000000             0.000000  \n",
       "50%          1.000000             0.000000  \n",
       "75%          1.000000             0.000000  \n",
       "max          1.000000             1.000000  "
      ]
     },
     "execution_count": 17,
     "metadata": {},
     "output_type": "execute_result"
    }
   ],
   "source": [
    "raw_df[numeric_cols].describe()"
   ]
  },
  {
   "cell_type": "code",
   "execution_count": 18,
   "id": "4433771a",
   "metadata": {},
   "outputs": [],
   "source": [
    "from sklearn.impute import SimpleImputer"
   ]
  },
  {
   "cell_type": "code",
   "execution_count": 19,
   "id": "e90022d5",
   "metadata": {},
   "outputs": [],
   "source": [
    "imputer = SimpleImputer().fit(raw_df[numeric_cols])\n",
    "train_inputs[numeric_cols] = imputer.transform(train_inputs[numeric_cols])\n",
    "val_inputs[numeric_cols] = imputer.transform(val_inputs[numeric_cols])\n",
    "test_inputs[numeric_cols] = imputer.transform(test_inputs[numeric_cols])"
   ]
  },
  {
   "cell_type": "code",
   "execution_count": 20,
   "id": "9812b0fb",
   "metadata": {},
   "outputs": [],
   "source": [
    "# Aliasing for convenience\n",
    "train_inputs = train_inputs[numeric_cols]\n",
    "val_inputs = val_inputs[numeric_cols]\n",
    "test_inputs = test_inputs[numeric_cols]"
   ]
  },
  {
   "cell_type": "code",
   "execution_count": 21,
   "id": "5cdedb43",
   "metadata": {},
   "outputs": [
    {
     "name": "stdout",
     "output_type": "stream",
     "text": [
      "<class 'pandas.core.frame.DataFrame'>\n",
      "Int64Index: 4524 entries, 2829 to 113\n",
      "Data columns (total 11 columns):\n",
      " #   Column               Non-Null Count  Dtype  \n",
      "---  ------               --------------  -----  \n",
      " 0   gender               4524 non-null   float64\n",
      " 1   age_year             4524 non-null   float64\n",
      " 2   fever                4524 non-null   float64\n",
      " 3   cough                4524 non-null   float64\n",
      " 4   runny_nose           4524 non-null   float64\n",
      " 5   muscle_soreness      4524 non-null   float64\n",
      " 6   pneumonia            4524 non-null   float64\n",
      " 7   diarrhea             4524 non-null   float64\n",
      " 8   lung_infection       4524 non-null   float64\n",
      " 9   travel_history       4524 non-null   float64\n",
      " 10  isolation_treatment  4524 non-null   float64\n",
      "dtypes: float64(11)\n",
      "memory usage: 424.1 KB\n"
     ]
    }
   ],
   "source": [
    "train_inputs.info()"
   ]
  },
  {
   "cell_type": "code",
   "execution_count": 22,
   "id": "ab819b78",
   "metadata": {},
   "outputs": [
    {
     "data": {
      "text/plain": [
       "(4524,)"
      ]
     },
     "execution_count": 22,
     "metadata": {},
     "output_type": "execute_result"
    }
   ],
   "source": [
    "train_targets.shape"
   ]
  },
  {
   "cell_type": "code",
   "execution_count": 23,
   "id": "24c707d0",
   "metadata": {},
   "outputs": [
    {
     "name": "stdout",
     "output_type": "stream",
     "text": [
      "<class 'pandas.core.frame.DataFrame'>\n",
      "Int64Index: 994 entries, 5558 to 4748\n",
      "Data columns (total 11 columns):\n",
      " #   Column               Non-Null Count  Dtype  \n",
      "---  ------               --------------  -----  \n",
      " 0   gender               994 non-null    float64\n",
      " 1   age_year             994 non-null    float64\n",
      " 2   fever                994 non-null    float64\n",
      " 3   cough                994 non-null    float64\n",
      " 4   runny_nose           994 non-null    float64\n",
      " 5   muscle_soreness      994 non-null    float64\n",
      " 6   pneumonia            994 non-null    float64\n",
      " 7   diarrhea             994 non-null    float64\n",
      " 8   lung_infection       994 non-null    float64\n",
      " 9   travel_history       994 non-null    float64\n",
      " 10  isolation_treatment  994 non-null    float64\n",
      "dtypes: float64(11)\n",
      "memory usage: 93.2 KB\n"
     ]
    }
   ],
   "source": [
    "val_inputs.info()"
   ]
  },
  {
   "cell_type": "code",
   "execution_count": 24,
   "id": "b9aac5c1",
   "metadata": {},
   "outputs": [
    {
     "data": {
      "text/plain": [
       "(994,)"
      ]
     },
     "execution_count": 24,
     "metadata": {},
     "output_type": "execute_result"
    }
   ],
   "source": [
    "val_targets.shape"
   ]
  },
  {
   "cell_type": "code",
   "execution_count": 25,
   "id": "12912411",
   "metadata": {},
   "outputs": [
    {
     "name": "stdout",
     "output_type": "stream",
     "text": [
      "<class 'pandas.core.frame.DataFrame'>\n",
      "Int64Index: 994 entries, 1263 to 586\n",
      "Data columns (total 11 columns):\n",
      " #   Column               Non-Null Count  Dtype  \n",
      "---  ------               --------------  -----  \n",
      " 0   gender               994 non-null    float64\n",
      " 1   age_year             994 non-null    float64\n",
      " 2   fever                994 non-null    float64\n",
      " 3   cough                994 non-null    float64\n",
      " 4   runny_nose           994 non-null    float64\n",
      " 5   muscle_soreness      994 non-null    float64\n",
      " 6   pneumonia            994 non-null    float64\n",
      " 7   diarrhea             994 non-null    float64\n",
      " 8   lung_infection       994 non-null    float64\n",
      " 9   travel_history       994 non-null    float64\n",
      " 10  isolation_treatment  994 non-null    float64\n",
      "dtypes: float64(11)\n",
      "memory usage: 93.2 KB\n"
     ]
    }
   ],
   "source": [
    "test_inputs.info()"
   ]
  },
  {
   "cell_type": "code",
   "execution_count": 26,
   "id": "7b15d294",
   "metadata": {},
   "outputs": [
    {
     "data": {
      "text/plain": [
       "(994,)"
      ]
     },
     "execution_count": 26,
     "metadata": {},
     "output_type": "execute_result"
    }
   ],
   "source": [
    "test_targets.shape"
   ]
  },
  {
   "cell_type": "code",
   "execution_count": 27,
   "id": "10ee9c91",
   "metadata": {},
   "outputs": [],
   "source": [
    "# !pip install pyarrow --quiet"
   ]
  },
  {
   "cell_type": "code",
   "execution_count": 28,
   "id": "6f87e1d6",
   "metadata": {},
   "outputs": [],
   "source": [
    "train_inputs.to_parquet('saved_dataset/train_inputs.parquet')\n",
    "val_inputs.to_parquet('saved_dataset/val_inputs.parquet')\n",
    "test_inputs.to_parquet('saved_dataset/test_inputs.parquet')"
   ]
  },
  {
   "cell_type": "code",
   "execution_count": 29,
   "id": "0fe4b34a",
   "metadata": {},
   "outputs": [
    {
     "name": "stdout",
     "output_type": "stream",
     "text": [
      "CPU times: user 16.6 ms, sys: 4.1 ms, total: 20.7 ms\n",
      "Wall time: 19.7 ms\n"
     ]
    }
   ],
   "source": [
    "%%time\n",
    "pd.DataFrame(train_targets).to_parquet('saved_dataset/train_targets.parquet')\n",
    "pd.DataFrame(val_targets).to_parquet('saved_dataset/val_targets.parquet')\n",
    "pd.DataFrame(test_targets).to_parquet('saved_dataset/test_targets.parquet')"
   ]
  },
  {
   "cell_type": "code",
   "execution_count": 30,
   "id": "c11462a0",
   "metadata": {},
   "outputs": [
    {
     "name": "stdout",
     "output_type": "stream",
     "text": [
      "CPU times: user 74.4 ms, sys: 8.33 ms, total: 82.8 ms\n",
      "Wall time: 71.9 ms\n"
     ]
    }
   ],
   "source": [
    "%%time\n",
    "\n",
    "train_inputs = pd.read_parquet('saved_dataset/train_inputs.parquet')\n",
    "val_inputs = pd.read_parquet('saved_dataset/val_inputs.parquet')\n",
    "test_inputs = pd.read_parquet('saved_dataset/test_inputs.parquet')\n",
    "\n",
    "train_targets = pd.read_parquet('saved_dataset/train_targets.parquet')[target_col]\n",
    "val_targets = pd.read_parquet('saved_dataset/val_targets.parquet')[target_col]\n",
    "test_targets = pd.read_parquet('saved_dataset/test_targets.parquet')[target_col]"
   ]
  },
  {
   "cell_type": "markdown",
   "id": "b95c4800",
   "metadata": {},
   "source": [
    "<strong>Training the Models</strong>"
   ]
  },
  {
   "cell_type": "markdown",
   "id": "12f2f85b",
   "metadata": {},
   "source": [
    "<strong>First Model Training and Evaluation: Random Forest Classifier Model</strong>"
   ]
  },
  {
   "cell_type": "code",
   "execution_count": 31,
   "id": "ea0b8ebb",
   "metadata": {},
   "outputs": [],
   "source": [
    "from sklearn.ensemble import RandomForestClassifier\n",
    "from sklearn.metrics import f1_score, accuracy_score, precision_score, recall_score, confusion_matrix\n",
    "# ?RandomForestClassifier"
   ]
  },
  {
   "cell_type": "code",
   "execution_count": 32,
   "id": "ed29d949",
   "metadata": {},
   "outputs": [],
   "source": [
    "RandomForest = RandomForestClassifier(n_jobs=-1, random_state=42)"
   ]
  },
  {
   "cell_type": "code",
   "execution_count": 33,
   "id": "6872e0a0",
   "metadata": {},
   "outputs": [
    {
     "name": "stdout",
     "output_type": "stream",
     "text": [
      "The val F1 Score is 0.7079646017699116\n",
      "The val accuracy Score is 0.8672032193158954\n",
      "The val precision Score is 0.6722689075630253\n",
      "The val recall Score is 0.7476635514018691\n",
      "Time consumed for training: 0.319 seconds\n",
      "Time consumed for prediction: 0.05945 seconds\n"
     ]
    }
   ],
   "source": [
    "import time\n",
    "training_start = time.perf_counter()\n",
    "RandomForest.fit(train_inputs[numeric_cols], train_targets)\n",
    "training_end = time.perf_counter()\n",
    "\n",
    "pickle.dump(RandomForest, open(\"saved_models/RandomForest.pkl\", \"wb\"))\n",
    "RandomForest = pickle.load(open('saved_models/RandomForest.pkl', 'rb'))\n",
    "\n",
    "prediction_start = time.perf_counter()\n",
    "train_preds = RandomForest.predict(train_inputs)\n",
    "# test_preds = RandomForest.predict(test_inputs)\n",
    "val_preds = RandomForest.predict(val_inputs)\n",
    "prediction_end = time.perf_counter()\n",
    "\n",
    "print('The val F1 Score is', f1_score(val_preds, val_targets)) # primary performace metrics (f1-score)\n",
    "print('The val accuracy Score is', accuracy_score(val_preds, val_targets))\n",
    "print('The val precision Score is', precision_score(val_preds, val_targets))\n",
    "print('The val recall Score is', recall_score(val_preds, val_targets))\n",
    "\n",
    "train_time = training_end - training_start\n",
    "prediction_time = prediction_end - prediction_start\n",
    "print(\"Time consumed for training: %4.3f seconds\" % (train_time))\n",
    "print(\"Time consumed for prediction: %6.5f seconds\" % (prediction_time))"
   ]
  },
  {
   "cell_type": "code",
   "execution_count": 34,
   "id": "9348b843",
   "metadata": {},
   "outputs": [],
   "source": [
    "# plt.figure(figsize=(30,15))\n",
    "\n",
    "# importance_df = pd.DataFrame({\n",
    "#     \"feature\": train_inputs.columns,\n",
    "#     \"importance\": RFC_model.feature_importances_\n",
    "# }).sort_values(\"importance\", ascending=False)\n",
    "# plt.title(\"Feature Importance\")\n",
    "# sns.barplot(data=importance_df.head(10), x=\"importance\", y=\"feature\")"
   ]
  },
  {
   "cell_type": "code",
   "execution_count": 35,
   "id": "da200b92",
   "metadata": {},
   "outputs": [],
   "source": [
    "# importance_df"
   ]
  },
  {
   "cell_type": "markdown",
   "id": "bd2ff4ff",
   "metadata": {},
   "source": [
    "<strong>Second Model Training and Evaluation: XGBoost Classifier Model</strong>"
   ]
  },
  {
   "cell_type": "code",
   "execution_count": 56,
   "id": "34b9433a",
   "metadata": {},
   "outputs": [
    {
     "name": "stdout",
     "output_type": "stream",
     "text": [
      "Collecting xgboost==0.82\n",
      "  Downloading xgboost-0.82-py2.py3-none-manylinux1_x86_64.whl (114.0 MB)\n",
      "\u001b[K     |████████████████████████████████| 114.0 MB 13 kB/s  eta 0:00:01    |██████████▋                     | 38.0 MB 3.9 MB/s eta 0:00:20\n",
      "\u001b[?25hRequirement already satisfied: scipy in /home/reymond/anaconda3/lib/python3.9/site-packages (from xgboost==0.82) (1.7.1)\n",
      "Requirement already satisfied: numpy in /home/reymond/anaconda3/lib/python3.9/site-packages (from xgboost==0.82) (1.20.3)\n",
      "Installing collected packages: xgboost\n",
      "  Attempting uninstall: xgboost\n",
      "    Found existing installation: xgboost 1.5.1\n",
      "    Uninstalling xgboost-1.5.1:\n",
      "      Successfully uninstalled xgboost-1.5.1\n",
      "Successfully installed xgboost-0.82\n"
     ]
    }
   ],
   "source": [
    "!pip install xgboost==0.82"
   ]
  },
  {
   "cell_type": "code",
   "execution_count": 57,
   "id": "645cad57",
   "metadata": {},
   "outputs": [],
   "source": [
    "from xgboost import XGBClassifier"
   ]
  },
  {
   "cell_type": "code",
   "execution_count": 58,
   "id": "a6ee5417",
   "metadata": {},
   "outputs": [],
   "source": [
    "XGBoost = XGBClassifier(n_jobs=-1, random_state=42, use_label_encoder=False)"
   ]
  },
  {
   "cell_type": "code",
   "execution_count": 59,
   "id": "8171e7eb",
   "metadata": {},
   "outputs": [
    {
     "name": "stdout",
     "output_type": "stream",
     "text": [
      "The val F1 Score is 0.7106598984771574\n",
      "The val accuracy Score is 0.8853118712273642\n",
      "The val precision Score is 0.5882352941176471\n",
      "The val recall Score is 0.8974358974358975\n",
      "The test F1 Score is 0.7307692307692308\n",
      "The test accuracy Score is 0.8916887709991158\n",
      "Time consumed for training: 0.368 seconds\n",
      "Time consumed for prediction: 0.01029 seconds\n"
     ]
    }
   ],
   "source": [
    "training_start = time.perf_counter()\n",
    "XGBoost.fit(train_inputs[numeric_cols], train_targets)\n",
    "training_end = time.perf_counter()\n",
    "\n",
    "pickle.dump(XGBoost, open(\"saved_models/XGBoost.pkl\", \"wb\"))\n",
    "XGBoost = pickle.load(open('saved_models/XGBoost.pkl', 'rb'))\n",
    "\n",
    "prediction_start = time.perf_counter()\n",
    "train_preds = XGBoost.predict(train_inputs)\n",
    "test_preds = XGBoost.predict(test_inputs)\n",
    "val_preds = XGBoost.predict(val_inputs)\n",
    "prediction_end = time.perf_counter()\n",
    "\n",
    "print('The val F1 Score is', f1_score(val_preds, val_targets)) # primary performace metrics (f1-score)\n",
    "print('The val accuracy Score is', accuracy_score(val_preds, val_targets))\n",
    "print('The val precision Score is', precision_score(val_preds, val_targets))\n",
    "print('The val recall Score is', recall_score(val_preds, val_targets))\n",
    "print('The test F1 Score is', f1_score(train_preds, train_targets))\n",
    "print('The test accuracy Score is', accuracy_score(train_preds, train_targets))\n",
    "\n",
    "\n",
    "train_time = training_end - training_start\n",
    "prediction_time = prediction_end - prediction_start\n",
    "print(\"Time consumed for training: %4.3f seconds\" % (train_time))\n",
    "print(\"Time consumed for prediction: %6.5f seconds\" % (prediction_time))"
   ]
  },
  {
   "cell_type": "code",
   "execution_count": 40,
   "id": "3db570da",
   "metadata": {},
   "outputs": [],
   "source": [
    "# plt.figure(figsize=(30,15))\n",
    "\n",
    "# importance_df = pd.DataFrame({\n",
    "#     \"feature\": train_inputs.columns,\n",
    "#     \"importance\": XGB_model.feature_importances_\n",
    "# }).sort_values(\"importance\", ascending=False)\n",
    "# plt.title(\"Feature Importance\")\n",
    "# sns.barplot(data=importance_df.head(10), x=\"importance\", y=\"feature\")"
   ]
  },
  {
   "cell_type": "code",
   "execution_count": 41,
   "id": "37ffd863",
   "metadata": {},
   "outputs": [],
   "source": [
    "# importance_df"
   ]
  },
  {
   "cell_type": "markdown",
   "id": "cfe54c7e",
   "metadata": {},
   "source": [
    "<strong>Third Model Training and Evaluation: Support Vector Machine Classifier Model</strong>"
   ]
  },
  {
   "cell_type": "code",
   "execution_count": 42,
   "id": "e338dd1d",
   "metadata": {},
   "outputs": [],
   "source": [
    "# !pip install SVC"
   ]
  },
  {
   "cell_type": "code",
   "execution_count": 43,
   "id": "fdc000c4",
   "metadata": {},
   "outputs": [],
   "source": [
    "from sklearn.svm import SVC\n",
    "SVMC = SVC(random_state=42)"
   ]
  },
  {
   "cell_type": "code",
   "execution_count": 44,
   "id": "48865971",
   "metadata": {},
   "outputs": [
    {
     "name": "stdout",
     "output_type": "stream",
     "text": [
      "The val F1 Score is 0.3\n",
      "The val accuracy Score is 0.8028169014084507\n",
      "The val precision Score is 0.17647058823529413\n",
      "The val recall Score is 1.0\n",
      "Time consumed for training: 0.535 seconds\n",
      "Time consumed for prediction: 0.79134 seconds\n"
     ]
    }
   ],
   "source": [
    "training_start = time.perf_counter()\n",
    "SVMC.fit(train_inputs[numeric_cols], train_targets)\n",
    "training_end = time.perf_counter()\n",
    "\n",
    "pickle.dump(SVMC, open(\"saved_models/SVMC.pkl\", \"wb\"))\n",
    "SVMC = pickle.load(open('saved_models/SVMC.pkl', 'rb'))\n",
    "\n",
    "prediction_start = time.perf_counter()\n",
    "train_preds = SVMC.predict(train_inputs)\n",
    "test_preds = SVMC.predict(test_inputs)\n",
    "val_preds = SVMC.predict(val_inputs)\n",
    "prediction_end = time.perf_counter()\n",
    "\n",
    "print('The val F1 Score is', f1_score(val_preds, val_targets)) # primary performace metrics (f1-score)\n",
    "print('The val accuracy Score is', accuracy_score(val_preds, val_targets))\n",
    "print('The val precision Score is', precision_score(val_preds, val_targets))\n",
    "print('The val recall Score is', recall_score(val_preds, val_targets))\n",
    "\n",
    "train_time = training_end - training_start\n",
    "prediction_time = prediction_end - prediction_start\n",
    "print(\"Time consumed for training: %4.3f seconds\" % (train_time))\n",
    "print(\"Time consumed for prediction: %6.5f seconds\" % (prediction_time))"
   ]
  },
  {
   "cell_type": "markdown",
   "id": "f76831d7",
   "metadata": {},
   "source": [
    "<strong>Fourth Model Training and Evaluation: Gaussian Naive Bayes Classifier Model</strong>"
   ]
  },
  {
   "cell_type": "code",
   "execution_count": 45,
   "id": "a8355802",
   "metadata": {},
   "outputs": [],
   "source": [
    "from sklearn.naive_bayes import GaussianNB"
   ]
  },
  {
   "cell_type": "code",
   "execution_count": 46,
   "id": "cc794ba8",
   "metadata": {},
   "outputs": [
    {
     "name": "stdout",
     "output_type": "stream",
     "text": [
      "The val F1 Score is 0.6819338422391857\n",
      "The val accuracy Score is 0.8742454728370221\n",
      "The val precision Score is 0.5630252100840336\n",
      "The val recall Score is 0.864516129032258\n",
      "Time consumed for training: 0.013 seconds\n",
      "Time consumed for prediction: 0.01316 seconds\n"
     ]
    }
   ],
   "source": [
    "NaiveBayes = GaussianNB()\n",
    "training_start = time.perf_counter()\n",
    "NaiveBayes.fit(train_inputs[numeric_cols], train_targets)\n",
    "training_end = time.perf_counter()\n",
    "\n",
    "pickle.dump(NaiveBayes, open(\"saved_models/NaiveBayes.pkl\", \"wb\"))\n",
    "NaiveBayes = pickle.load(open('saved_models/NaiveBayes.pkl', 'rb'))\n",
    "\n",
    "prediction_start = time.perf_counter()\n",
    "train_preds = NaiveBayes.predict(train_inputs)\n",
    "test_preds = NaiveBayes.predict(test_inputs)\n",
    "val_preds = NaiveBayes.predict(val_inputs)\n",
    "prediction_end = time.perf_counter()\n",
    "\n",
    "print('The val F1 Score is', f1_score(val_preds, val_targets)) # primary performace metrics (f1-score)\n",
    "print('The val accuracy Score is', accuracy_score(val_preds, val_targets))\n",
    "print('The val precision Score is', precision_score(val_preds, val_targets))\n",
    "print('The val recall Score is', recall_score(val_preds, val_targets))\n",
    "\n",
    "train_time = training_end - training_start\n",
    "prediction_time = prediction_end - prediction_start\n",
    "print(\"Time consumed for training: %4.3f seconds\" % (train_time))\n",
    "print(\"Time consumed for prediction: %6.5f seconds\" % (prediction_time))"
   ]
  },
  {
   "cell_type": "markdown",
   "id": "3b4366cc",
   "metadata": {},
   "source": [
    "<strong>Fifth Model Training and Evaluation: Support Vector Machine Classifier Model</strong>"
   ]
  },
  {
   "cell_type": "code",
   "execution_count": 47,
   "id": "a5cf91eb",
   "metadata": {},
   "outputs": [],
   "source": [
    "from sklearn.neighbors  import KNeighborsClassifier"
   ]
  },
  {
   "cell_type": "code",
   "execution_count": 48,
   "id": "8506b013",
   "metadata": {},
   "outputs": [
    {
     "name": "stdout",
     "output_type": "stream",
     "text": [
      "The val F1 Score is 0.6697892271662763\n",
      "The val accuracy Score is 0.858148893360161\n",
      "The val precision Score is 0.6008403361344538\n",
      "The val recall Score is 0.7566137566137566\n",
      "Time consumed for training: 0.009 seconds\n",
      "Time consumed for prediction: 0.19854 seconds\n"
     ]
    }
   ],
   "source": [
    "KNeighbors = KNeighborsClassifier(n_jobs=-1)\n",
    "training_start = time.perf_counter()\n",
    "KNeighbors.fit(train_inputs[numeric_cols], train_targets)\n",
    "training_end = time.perf_counter()\n",
    "\n",
    "pickle.dump(KNeighbors, open(\"saved_models/KNeighbors.pkl\", \"wb\"))\n",
    "KNeighbors = pickle.load(open('saved_models/KNeighbors.pkl', 'rb'))\n",
    "\n",
    "prediction_start = time.perf_counter()\n",
    "train_preds = KNeighbors.predict(train_inputs)\n",
    "test_preds = KNeighbors.predict(test_inputs)\n",
    "val_preds = KNeighbors.predict(val_inputs)\n",
    "prediction_end = time.perf_counter()\n",
    "\n",
    "print('The val F1 Score is', f1_score(val_preds, val_targets)) # primary performace metrics (f1-score)\n",
    "print('The val accuracy Score is', accuracy_score(val_preds, val_targets))\n",
    "print('The val precision Score is', precision_score(val_preds, val_targets))\n",
    "print('The val recall Score is', recall_score(val_preds, val_targets))\n",
    "\n",
    "train_time = training_end - training_start\n",
    "prediction_time = prediction_end - prediction_start\n",
    "print(\"Time consumed for training: %4.3f seconds\" % (train_time))\n",
    "print(\"Time consumed for prediction: %6.5f seconds\" % (prediction_time))"
   ]
  },
  {
   "cell_type": "markdown",
   "id": "adf15239",
   "metadata": {},
   "source": [
    "<strong>Sixth Model Training and Evaluation: Logistic Regressor Classifier Model</strong>"
   ]
  },
  {
   "cell_type": "code",
   "execution_count": 49,
   "id": "f8853b59",
   "metadata": {},
   "outputs": [
    {
     "name": "stdout",
     "output_type": "stream",
     "text": [
      "The val F1 Score is 0.6994818652849741\n",
      "The val accuracy Score is 0.8832997987927566\n",
      "The val precision Score is 0.5672268907563025\n",
      "The val recall Score is 0.9121621621621622\n",
      "Time consumed for training: 0.935 seconds\n",
      "Time consumed for prediction: 0.00479 seconds\n"
     ]
    }
   ],
   "source": [
    "from sklearn.linear_model import LogisticRegression\n",
    "\n",
    "LogRegession = LogisticRegression(n_jobs=-1, random_state=42, max_iter=1000)\n",
    "training_start = time.perf_counter()\n",
    "LogRegession.fit(train_inputs[numeric_cols], train_targets)\n",
    "training_end = time.perf_counter()\n",
    "\n",
    "pickle.dump(LogRegession, open(\"saved_models/LogRegession.pkl\", \"wb\"))\n",
    "LogRegession = pickle.load(open('saved_models/LogRegession.pkl', 'rb'))\n",
    "\n",
    "prediction_start = time.perf_counter()\n",
    "train_preds = LogRegession.predict(train_inputs)\n",
    "test_preds = LogRegession.predict(test_inputs)\n",
    "val_preds = LogRegession.predict(val_inputs)\n",
    "prediction_end = time.perf_counter()\n",
    "\n",
    "print('The val F1 Score is', f1_score(val_preds, val_targets)) # primary performace metrics (f1-score)\n",
    "print('The val accuracy Score is', accuracy_score(val_preds, val_targets))\n",
    "print('The val precision Score is', precision_score(val_preds, val_targets))\n",
    "print('The val recall Score is', recall_score(val_preds, val_targets))\n",
    "\n",
    "train_time = training_end - training_start\n",
    "prediction_time = prediction_end - prediction_start\n",
    "print(\"Time consumed for training: %4.3f seconds\" % (train_time))\n",
    "print(\"Time consumed for prediction: %6.5f seconds\" % (prediction_time))"
   ]
  },
  {
   "cell_type": "markdown",
   "id": "ab54c505",
   "metadata": {},
   "source": [
    "<strong>Seventh Model Training and Evaluation: LGBM Classifier Model</strong>"
   ]
  },
  {
   "cell_type": "code",
   "execution_count": 50,
   "id": "57fb22ea",
   "metadata": {},
   "outputs": [],
   "source": [
    "# !pip install lightgbm"
   ]
  },
  {
   "cell_type": "code",
   "execution_count": 51,
   "id": "0d243e90",
   "metadata": {},
   "outputs": [
    {
     "name": "stdout",
     "output_type": "stream",
     "text": [
      "The val F1 Score is 0.7281105990783411\n",
      "The val accuracy Score is 0.8812877263581489\n",
      "The val precision Score is 0.6638655462184874\n",
      "The val recall Score is 0.8061224489795918\n",
      "Time consumed for training: 0.069 seconds\n",
      "Time consumed for prediction: 0.01874 seconds\n"
     ]
    }
   ],
   "source": [
    "import lightgbm as lgbm\n",
    "\n",
    "LGBM = lgbm.LGBMClassifier(n_jobs=-1, random_state=42)\n",
    "training_start = time.perf_counter()\n",
    "LGBM.fit(train_inputs[numeric_cols], train_targets)\n",
    "training_end = time.perf_counter()\n",
    "\n",
    "pickle.dump(LGBM, open(\"saved_models/LGBM.pkl\", \"wb\"))\n",
    "LGBM = pickle.load(open('saved_models/LGBM.pkl', 'rb'))\n",
    "\n",
    "prediction_start = time.perf_counter()\n",
    "train_preds = LGBM.predict(train_inputs)\n",
    "test_preds = LGBM.predict(test_inputs)\n",
    "val_preds = LGBM.predict(val_inputs)\n",
    "prediction_end = time.perf_counter()\n",
    "\n",
    "print('The val F1 Score is', f1_score(val_preds, val_targets)) # primary performace metrics (f1-score)\n",
    "print('The val accuracy Score is', accuracy_score(val_preds, val_targets))\n",
    "print('The val precision Score is', precision_score(val_preds, val_targets))\n",
    "print('The val recall Score is', recall_score(val_preds, val_targets))\n",
    "\n",
    "train_time = training_end - training_start\n",
    "prediction_time = prediction_end - prediction_start\n",
    "print(\"Time consumed for training: %4.3f seconds\" % (train_time))\n",
    "print(\"Time consumed for prediction: %6.5f seconds\" % (prediction_time))"
   ]
  },
  {
   "cell_type": "code",
   "execution_count": null,
   "id": "38f1ea3a",
   "metadata": {},
   "outputs": [],
   "source": []
  },
  {
   "cell_type": "code",
   "execution_count": null,
   "id": "aa662be2",
   "metadata": {},
   "outputs": [],
   "source": []
  },
  {
   "cell_type": "code",
   "execution_count": null,
   "id": "121f91b8",
   "metadata": {},
   "outputs": [],
   "source": []
  },
  {
   "cell_type": "code",
   "execution_count": null,
   "id": "5a50edd9",
   "metadata": {},
   "outputs": [],
   "source": []
  },
  {
   "cell_type": "code",
   "execution_count": null,
   "id": "41d98633",
   "metadata": {},
   "outputs": [],
   "source": []
  },
  {
   "cell_type": "code",
   "execution_count": null,
   "id": "ba22a8db",
   "metadata": {},
   "outputs": [],
   "source": []
  },
  {
   "cell_type": "code",
   "execution_count": null,
   "id": "3cf0e847",
   "metadata": {},
   "outputs": [],
   "source": []
  },
  {
   "cell_type": "code",
   "execution_count": null,
   "id": "4edd8032",
   "metadata": {},
   "outputs": [],
   "source": []
  },
  {
   "cell_type": "code",
   "execution_count": null,
   "id": "3a8f5881",
   "metadata": {},
   "outputs": [],
   "source": []
  },
  {
   "cell_type": "code",
   "execution_count": null,
   "id": "8be7f464",
   "metadata": {},
   "outputs": [],
   "source": []
  },
  {
   "cell_type": "code",
   "execution_count": null,
   "id": "0680360f",
   "metadata": {},
   "outputs": [],
   "source": []
  },
  {
   "cell_type": "code",
   "execution_count": null,
   "id": "fe0e83aa",
   "metadata": {},
   "outputs": [],
   "source": []
  },
  {
   "cell_type": "code",
   "execution_count": null,
   "id": "754f0fb8",
   "metadata": {},
   "outputs": [],
   "source": []
  },
  {
   "cell_type": "code",
   "execution_count": null,
   "id": "5b804a5e",
   "metadata": {},
   "outputs": [],
   "source": []
  },
  {
   "cell_type": "code",
   "execution_count": null,
   "id": "90e7527a",
   "metadata": {},
   "outputs": [],
   "source": []
  },
  {
   "cell_type": "code",
   "execution_count": null,
   "id": "d997f59f",
   "metadata": {},
   "outputs": [],
   "source": []
  },
  {
   "cell_type": "code",
   "execution_count": null,
   "id": "1bfc4a75",
   "metadata": {},
   "outputs": [],
   "source": []
  },
  {
   "cell_type": "code",
   "execution_count": null,
   "id": "0c162ec0",
   "metadata": {},
   "outputs": [],
   "source": []
  },
  {
   "cell_type": "code",
   "execution_count": null,
   "id": "da609ba9",
   "metadata": {},
   "outputs": [],
   "source": []
  },
  {
   "cell_type": "code",
   "execution_count": null,
   "id": "05aab22a",
   "metadata": {},
   "outputs": [],
   "source": []
  },
  {
   "cell_type": "code",
   "execution_count": null,
   "id": "2b3b09a0",
   "metadata": {},
   "outputs": [],
   "source": []
  },
  {
   "cell_type": "code",
   "execution_count": null,
   "id": "82be7b73",
   "metadata": {},
   "outputs": [],
   "source": []
  },
  {
   "cell_type": "code",
   "execution_count": null,
   "id": "7b039684",
   "metadata": {},
   "outputs": [],
   "source": []
  },
  {
   "cell_type": "code",
   "execution_count": null,
   "id": "7cc0eed4",
   "metadata": {},
   "outputs": [],
   "source": []
  },
  {
   "cell_type": "code",
   "execution_count": null,
   "id": "4e6e284b",
   "metadata": {},
   "outputs": [],
   "source": []
  },
  {
   "cell_type": "code",
   "execution_count": null,
   "id": "6cbc3a3b",
   "metadata": {},
   "outputs": [],
   "source": []
  },
  {
   "cell_type": "code",
   "execution_count": null,
   "id": "7455f5ba",
   "metadata": {},
   "outputs": [],
   "source": []
  },
  {
   "cell_type": "code",
   "execution_count": null,
   "id": "f6a53440",
   "metadata": {},
   "outputs": [],
   "source": []
  },
  {
   "cell_type": "code",
   "execution_count": null,
   "id": "db7b07db",
   "metadata": {},
   "outputs": [],
   "source": []
  },
  {
   "cell_type": "code",
   "execution_count": null,
   "id": "0dd778cf",
   "metadata": {},
   "outputs": [],
   "source": []
  },
  {
   "cell_type": "code",
   "execution_count": null,
   "id": "e2532f11",
   "metadata": {},
   "outputs": [],
   "source": []
  },
  {
   "cell_type": "code",
   "execution_count": null,
   "id": "f5af11d0",
   "metadata": {},
   "outputs": [],
   "source": []
  },
  {
   "cell_type": "code",
   "execution_count": null,
   "id": "2738ddbb",
   "metadata": {},
   "outputs": [],
   "source": []
  },
  {
   "cell_type": "code",
   "execution_count": null,
   "id": "47535e49",
   "metadata": {},
   "outputs": [],
   "source": []
  },
  {
   "cell_type": "code",
   "execution_count": null,
   "id": "5bfc06a3",
   "metadata": {},
   "outputs": [],
   "source": []
  },
  {
   "cell_type": "code",
   "execution_count": null,
   "id": "fc5db7a5",
   "metadata": {},
   "outputs": [],
   "source": []
  },
  {
   "cell_type": "code",
   "execution_count": null,
   "id": "3929414c",
   "metadata": {},
   "outputs": [],
   "source": []
  },
  {
   "cell_type": "code",
   "execution_count": null,
   "id": "f70d27a0",
   "metadata": {},
   "outputs": [],
   "source": []
  },
  {
   "cell_type": "code",
   "execution_count": null,
   "id": "d7c28a92",
   "metadata": {},
   "outputs": [],
   "source": []
  },
  {
   "cell_type": "code",
   "execution_count": null,
   "id": "fde27e08",
   "metadata": {},
   "outputs": [],
   "source": []
  },
  {
   "cell_type": "code",
   "execution_count": null,
   "id": "e4edac33",
   "metadata": {},
   "outputs": [],
   "source": []
  },
  {
   "cell_type": "code",
   "execution_count": null,
   "id": "415f0e22",
   "metadata": {},
   "outputs": [],
   "source": []
  },
  {
   "cell_type": "code",
   "execution_count": null,
   "id": "24283905",
   "metadata": {},
   "outputs": [],
   "source": []
  },
  {
   "cell_type": "code",
   "execution_count": null,
   "id": "52169dd5",
   "metadata": {},
   "outputs": [],
   "source": []
  }
 ],
 "metadata": {
  "kernelspec": {
   "display_name": "Python 3 (ipykernel)",
   "language": "python",
   "name": "python3"
  },
  "language_info": {
   "codemirror_mode": {
    "name": "ipython",
    "version": 3
   },
   "file_extension": ".py",
   "mimetype": "text/x-python",
   "name": "python",
   "nbconvert_exporter": "python",
   "pygments_lexer": "ipython3",
   "version": "3.9.7"
  }
 },
 "nbformat": 4,
 "nbformat_minor": 5
}
