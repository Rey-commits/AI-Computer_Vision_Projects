{
 "cells": [
  {
   "cell_type": "code",
   "execution_count": 1,
   "id": "dcedb7e2",
   "metadata": {},
   "outputs": [],
   "source": [
    "# !pip install pandas numpy plotly matplotlib scikit-learn seaborn --quiet"
   ]
  },
  {
   "cell_type": "code",
   "execution_count": 2,
   "id": "d2c96bd0",
   "metadata": {},
   "outputs": [],
   "source": [
    "import plotly.express as px\n",
    "import pickle\n",
    "import matplotlib.pyplot as plt\n",
    "import seaborn as sns\n",
    "import pandas as pd\n",
    "import numpy as np\n",
    "import matplotlib\n",
    "import os\n",
    "%matplotlib inline\n",
    "\n",
    "pd.set_option('display.max_columns', None)\n",
    "pd.set_option('display.max_rows', 150)\n",
    "sns.set_style('darkgrid')\n",
    "matplotlib.rcParams['font.size'] = 14\n",
    "matplotlib.rcParams['figure.figsize'] = (10, 6)\n",
    "matplotlib.rcParams['figure.facecolor'] = '#00000000'"
   ]
  },
  {
   "cell_type": "markdown",
   "id": "c957577f",
   "metadata": {},
   "source": [
    "<strong>Loading the data</strong>"
   ]
  },
  {
   "cell_type": "markdown",
   "id": "23a58b97",
   "metadata": {},
   "source": [
    "Source of data: https://github.com/BDBC-KG-NLP/COVID-19-tracker"
   ]
  },
  {
   "cell_type": "code",
   "execution_count": 3,
   "id": "bb4940de",
   "metadata": {},
   "outputs": [],
   "source": [
    "raw_df = pd.read_csv(\"covid_early_stage_symptoms/covid_early_stage_symptoms.csv\")"
   ]
  },
  {
   "cell_type": "code",
   "execution_count": 4,
   "id": "95002702",
   "metadata": {},
   "outputs": [
    {
     "data": {
      "text/html": [
       "<div>\n",
       "<style scoped>\n",
       "    .dataframe tbody tr th:only-of-type {\n",
       "        vertical-align: middle;\n",
       "    }\n",
       "\n",
       "    .dataframe tbody tr th {\n",
       "        vertical-align: top;\n",
       "    }\n",
       "\n",
       "    .dataframe thead th {\n",
       "        text-align: right;\n",
       "    }\n",
       "</style>\n",
       "<table border=\"1\" class=\"dataframe\">\n",
       "  <thead>\n",
       "    <tr style=\"text-align: right;\">\n",
       "      <th></th>\n",
       "      <th>gender</th>\n",
       "      <th>age_year</th>\n",
       "      <th>fever</th>\n",
       "      <th>cough</th>\n",
       "      <th>runny_nose</th>\n",
       "      <th>muscle_soreness</th>\n",
       "      <th>pneumonia</th>\n",
       "      <th>diarrhea</th>\n",
       "      <th>lung_infection</th>\n",
       "      <th>travel_history</th>\n",
       "      <th>isolation_treatment</th>\n",
       "      <th>SARS-CoV-2 Positive</th>\n",
       "    </tr>\n",
       "  </thead>\n",
       "  <tbody>\n",
       "    <tr>\n",
       "      <th>0</th>\n",
       "      <td>male</td>\n",
       "      <td>89</td>\n",
       "      <td>1</td>\n",
       "      <td>1</td>\n",
       "      <td>0</td>\n",
       "      <td>0</td>\n",
       "      <td>0</td>\n",
       "      <td>0</td>\n",
       "      <td>0</td>\n",
       "      <td>1</td>\n",
       "      <td>0</td>\n",
       "      <td>0</td>\n",
       "    </tr>\n",
       "    <tr>\n",
       "      <th>1</th>\n",
       "      <td>male</td>\n",
       "      <td>68</td>\n",
       "      <td>1</td>\n",
       "      <td>0</td>\n",
       "      <td>0</td>\n",
       "      <td>0</td>\n",
       "      <td>0</td>\n",
       "      <td>0</td>\n",
       "      <td>0</td>\n",
       "      <td>0</td>\n",
       "      <td>0</td>\n",
       "      <td>0</td>\n",
       "    </tr>\n",
       "    <tr>\n",
       "      <th>2</th>\n",
       "      <td>male</td>\n",
       "      <td>68</td>\n",
       "      <td>0</td>\n",
       "      <td>0</td>\n",
       "      <td>0</td>\n",
       "      <td>0</td>\n",
       "      <td>0</td>\n",
       "      <td>0</td>\n",
       "      <td>0</td>\n",
       "      <td>1</td>\n",
       "      <td>0</td>\n",
       "      <td>0</td>\n",
       "    </tr>\n",
       "    <tr>\n",
       "      <th>3</th>\n",
       "      <td>male</td>\n",
       "      <td>68</td>\n",
       "      <td>1</td>\n",
       "      <td>1</td>\n",
       "      <td>0</td>\n",
       "      <td>0</td>\n",
       "      <td>0</td>\n",
       "      <td>0</td>\n",
       "      <td>0</td>\n",
       "      <td>1</td>\n",
       "      <td>1</td>\n",
       "      <td>1</td>\n",
       "    </tr>\n",
       "    <tr>\n",
       "      <th>4</th>\n",
       "      <td>male</td>\n",
       "      <td>50</td>\n",
       "      <td>1</td>\n",
       "      <td>1</td>\n",
       "      <td>1</td>\n",
       "      <td>0</td>\n",
       "      <td>1</td>\n",
       "      <td>0</td>\n",
       "      <td>0</td>\n",
       "      <td>1</td>\n",
       "      <td>0</td>\n",
       "      <td>1</td>\n",
       "    </tr>\n",
       "    <tr>\n",
       "      <th>...</th>\n",
       "      <td>...</td>\n",
       "      <td>...</td>\n",
       "      <td>...</td>\n",
       "      <td>...</td>\n",
       "      <td>...</td>\n",
       "      <td>...</td>\n",
       "      <td>...</td>\n",
       "      <td>...</td>\n",
       "      <td>...</td>\n",
       "      <td>...</td>\n",
       "      <td>...</td>\n",
       "      <td>...</td>\n",
       "    </tr>\n",
       "    <tr>\n",
       "      <th>6507</th>\n",
       "      <td>female</td>\n",
       "      <td>44</td>\n",
       "      <td>1</td>\n",
       "      <td>1</td>\n",
       "      <td>0</td>\n",
       "      <td>0</td>\n",
       "      <td>0</td>\n",
       "      <td>0</td>\n",
       "      <td>0</td>\n",
       "      <td>1</td>\n",
       "      <td>0</td>\n",
       "      <td>1</td>\n",
       "    </tr>\n",
       "    <tr>\n",
       "      <th>6508</th>\n",
       "      <td>female</td>\n",
       "      <td>44</td>\n",
       "      <td>1</td>\n",
       "      <td>1</td>\n",
       "      <td>0</td>\n",
       "      <td>0</td>\n",
       "      <td>0</td>\n",
       "      <td>0</td>\n",
       "      <td>0</td>\n",
       "      <td>0</td>\n",
       "      <td>0</td>\n",
       "      <td>0</td>\n",
       "    </tr>\n",
       "    <tr>\n",
       "      <th>6509</th>\n",
       "      <td>female</td>\n",
       "      <td>58</td>\n",
       "      <td>0</td>\n",
       "      <td>0</td>\n",
       "      <td>0</td>\n",
       "      <td>0</td>\n",
       "      <td>0</td>\n",
       "      <td>0</td>\n",
       "      <td>0</td>\n",
       "      <td>0</td>\n",
       "      <td>0</td>\n",
       "      <td>0</td>\n",
       "    </tr>\n",
       "    <tr>\n",
       "      <th>6510</th>\n",
       "      <td>female</td>\n",
       "      <td>58</td>\n",
       "      <td>1</td>\n",
       "      <td>1</td>\n",
       "      <td>0</td>\n",
       "      <td>0</td>\n",
       "      <td>0</td>\n",
       "      <td>0</td>\n",
       "      <td>0</td>\n",
       "      <td>0</td>\n",
       "      <td>0</td>\n",
       "      <td>0</td>\n",
       "    </tr>\n",
       "    <tr>\n",
       "      <th>6511</th>\n",
       "      <td>male</td>\n",
       "      <td>12</td>\n",
       "      <td>1</td>\n",
       "      <td>1</td>\n",
       "      <td>0</td>\n",
       "      <td>0</td>\n",
       "      <td>0</td>\n",
       "      <td>0</td>\n",
       "      <td>0</td>\n",
       "      <td>0</td>\n",
       "      <td>1</td>\n",
       "      <td>0</td>\n",
       "    </tr>\n",
       "  </tbody>\n",
       "</table>\n",
       "<p>6512 rows × 12 columns</p>\n",
       "</div>"
      ],
      "text/plain": [
       "      gender  age_year  fever  cough  runny_nose  muscle_soreness  pneumonia  \\\n",
       "0       male        89      1      1           0                0          0   \n",
       "1       male        68      1      0           0                0          0   \n",
       "2       male        68      0      0           0                0          0   \n",
       "3       male        68      1      1           0                0          0   \n",
       "4       male        50      1      1           1                0          1   \n",
       "...      ...       ...    ...    ...         ...              ...        ...   \n",
       "6507  female        44      1      1           0                0          0   \n",
       "6508  female        44      1      1           0                0          0   \n",
       "6509  female        58      0      0           0                0          0   \n",
       "6510  female        58      1      1           0                0          0   \n",
       "6511    male        12      1      1           0                0          0   \n",
       "\n",
       "      diarrhea  lung_infection  travel_history  isolation_treatment  \\\n",
       "0            0               0               1                    0   \n",
       "1            0               0               0                    0   \n",
       "2            0               0               1                    0   \n",
       "3            0               0               1                    1   \n",
       "4            0               0               1                    0   \n",
       "...        ...             ...             ...                  ...   \n",
       "6507         0               0               1                    0   \n",
       "6508         0               0               0                    0   \n",
       "6509         0               0               0                    0   \n",
       "6510         0               0               0                    0   \n",
       "6511         0               0               0                    1   \n",
       "\n",
       "      SARS-CoV-2 Positive  \n",
       "0                       0  \n",
       "1                       0  \n",
       "2                       0  \n",
       "3                       1  \n",
       "4                       1  \n",
       "...                   ...  \n",
       "6507                    1  \n",
       "6508                    0  \n",
       "6509                    0  \n",
       "6510                    0  \n",
       "6511                    0  \n",
       "\n",
       "[6512 rows x 12 columns]"
      ]
     },
     "execution_count": 4,
     "metadata": {},
     "output_type": "execute_result"
    }
   ],
   "source": [
    "raw_df"
   ]
  },
  {
   "cell_type": "code",
   "execution_count": 5,
   "id": "9770966d",
   "metadata": {},
   "outputs": [],
   "source": [
    "raw_df[\"gender\"].replace({\"male\":1, \"female\":0}, inplace=True)"
   ]
  },
  {
   "cell_type": "code",
   "execution_count": 6,
   "id": "621cdedc",
   "metadata": {},
   "outputs": [
    {
     "name": "stdout",
     "output_type": "stream",
     "text": [
      "<class 'pandas.core.frame.DataFrame'>\n",
      "RangeIndex: 6512 entries, 0 to 6511\n",
      "Data columns (total 12 columns):\n",
      " #   Column               Non-Null Count  Dtype\n",
      "---  ------               --------------  -----\n",
      " 0   gender               6512 non-null   int64\n",
      " 1   age_year             6512 non-null   int64\n",
      " 2   fever                6512 non-null   int64\n",
      " 3   cough                6512 non-null   int64\n",
      " 4   runny_nose           6512 non-null   int64\n",
      " 5   muscle_soreness      6512 non-null   int64\n",
      " 6   pneumonia            6512 non-null   int64\n",
      " 7   diarrhea             6512 non-null   int64\n",
      " 8   lung_infection       6512 non-null   int64\n",
      " 9   travel_history       6512 non-null   int64\n",
      " 10  isolation_treatment  6512 non-null   int64\n",
      " 11  Result               6512 non-null   int64\n",
      "dtypes: int64(12)\n",
      "memory usage: 610.6 KB\n"
     ]
    }
   ],
   "source": [
    "raw_df = raw_df.rename(columns={\"SARS-CoV-2 Positive\":\"Result\"})\n",
    "raw_df.info()"
   ]
  },
  {
   "cell_type": "code",
   "execution_count": 26,
   "id": "f6f73b8c",
   "metadata": {},
   "outputs": [
    {
     "data": {
      "text/html": [
       "<div>\n",
       "<style scoped>\n",
       "    .dataframe tbody tr th:only-of-type {\n",
       "        vertical-align: middle;\n",
       "    }\n",
       "\n",
       "    .dataframe tbody tr th {\n",
       "        vertical-align: top;\n",
       "    }\n",
       "\n",
       "    .dataframe thead th {\n",
       "        text-align: right;\n",
       "    }\n",
       "</style>\n",
       "<table border=\"1\" class=\"dataframe\">\n",
       "  <thead>\n",
       "    <tr style=\"text-align: right;\">\n",
       "      <th></th>\n",
       "      <th>gender</th>\n",
       "      <th>age_year</th>\n",
       "      <th>fever</th>\n",
       "      <th>cough</th>\n",
       "      <th>runny_nose</th>\n",
       "      <th>muscle_soreness</th>\n",
       "      <th>pneumonia</th>\n",
       "      <th>diarrhea</th>\n",
       "      <th>lung_infection</th>\n",
       "      <th>travel_history</th>\n",
       "      <th>isolation_treatment</th>\n",
       "      <th>Result</th>\n",
       "    </tr>\n",
       "  </thead>\n",
       "  <tbody>\n",
       "    <tr>\n",
       "      <th>0</th>\n",
       "      <td>1</td>\n",
       "      <td>89</td>\n",
       "      <td>1</td>\n",
       "      <td>1</td>\n",
       "      <td>0</td>\n",
       "      <td>0</td>\n",
       "      <td>0</td>\n",
       "      <td>0</td>\n",
       "      <td>0</td>\n",
       "      <td>1</td>\n",
       "      <td>0</td>\n",
       "      <td>0</td>\n",
       "    </tr>\n",
       "    <tr>\n",
       "      <th>1</th>\n",
       "      <td>1</td>\n",
       "      <td>68</td>\n",
       "      <td>1</td>\n",
       "      <td>0</td>\n",
       "      <td>0</td>\n",
       "      <td>0</td>\n",
       "      <td>0</td>\n",
       "      <td>0</td>\n",
       "      <td>0</td>\n",
       "      <td>0</td>\n",
       "      <td>0</td>\n",
       "      <td>0</td>\n",
       "    </tr>\n",
       "    <tr>\n",
       "      <th>2</th>\n",
       "      <td>1</td>\n",
       "      <td>68</td>\n",
       "      <td>0</td>\n",
       "      <td>0</td>\n",
       "      <td>0</td>\n",
       "      <td>0</td>\n",
       "      <td>0</td>\n",
       "      <td>0</td>\n",
       "      <td>0</td>\n",
       "      <td>1</td>\n",
       "      <td>0</td>\n",
       "      <td>0</td>\n",
       "    </tr>\n",
       "    <tr>\n",
       "      <th>3</th>\n",
       "      <td>1</td>\n",
       "      <td>68</td>\n",
       "      <td>1</td>\n",
       "      <td>1</td>\n",
       "      <td>0</td>\n",
       "      <td>0</td>\n",
       "      <td>0</td>\n",
       "      <td>0</td>\n",
       "      <td>0</td>\n",
       "      <td>1</td>\n",
       "      <td>1</td>\n",
       "      <td>1</td>\n",
       "    </tr>\n",
       "    <tr>\n",
       "      <th>4</th>\n",
       "      <td>1</td>\n",
       "      <td>50</td>\n",
       "      <td>1</td>\n",
       "      <td>1</td>\n",
       "      <td>1</td>\n",
       "      <td>0</td>\n",
       "      <td>1</td>\n",
       "      <td>0</td>\n",
       "      <td>0</td>\n",
       "      <td>1</td>\n",
       "      <td>0</td>\n",
       "      <td>1</td>\n",
       "    </tr>\n",
       "    <tr>\n",
       "      <th>...</th>\n",
       "      <td>...</td>\n",
       "      <td>...</td>\n",
       "      <td>...</td>\n",
       "      <td>...</td>\n",
       "      <td>...</td>\n",
       "      <td>...</td>\n",
       "      <td>...</td>\n",
       "      <td>...</td>\n",
       "      <td>...</td>\n",
       "      <td>...</td>\n",
       "      <td>...</td>\n",
       "      <td>...</td>\n",
       "    </tr>\n",
       "    <tr>\n",
       "      <th>6507</th>\n",
       "      <td>0</td>\n",
       "      <td>44</td>\n",
       "      <td>1</td>\n",
       "      <td>1</td>\n",
       "      <td>0</td>\n",
       "      <td>0</td>\n",
       "      <td>0</td>\n",
       "      <td>0</td>\n",
       "      <td>0</td>\n",
       "      <td>1</td>\n",
       "      <td>0</td>\n",
       "      <td>1</td>\n",
       "    </tr>\n",
       "    <tr>\n",
       "      <th>6508</th>\n",
       "      <td>0</td>\n",
       "      <td>44</td>\n",
       "      <td>1</td>\n",
       "      <td>1</td>\n",
       "      <td>0</td>\n",
       "      <td>0</td>\n",
       "      <td>0</td>\n",
       "      <td>0</td>\n",
       "      <td>0</td>\n",
       "      <td>0</td>\n",
       "      <td>0</td>\n",
       "      <td>0</td>\n",
       "    </tr>\n",
       "    <tr>\n",
       "      <th>6509</th>\n",
       "      <td>0</td>\n",
       "      <td>58</td>\n",
       "      <td>0</td>\n",
       "      <td>0</td>\n",
       "      <td>0</td>\n",
       "      <td>0</td>\n",
       "      <td>0</td>\n",
       "      <td>0</td>\n",
       "      <td>0</td>\n",
       "      <td>0</td>\n",
       "      <td>0</td>\n",
       "      <td>0</td>\n",
       "    </tr>\n",
       "    <tr>\n",
       "      <th>6510</th>\n",
       "      <td>0</td>\n",
       "      <td>58</td>\n",
       "      <td>1</td>\n",
       "      <td>1</td>\n",
       "      <td>0</td>\n",
       "      <td>0</td>\n",
       "      <td>0</td>\n",
       "      <td>0</td>\n",
       "      <td>0</td>\n",
       "      <td>0</td>\n",
       "      <td>0</td>\n",
       "      <td>0</td>\n",
       "    </tr>\n",
       "    <tr>\n",
       "      <th>6511</th>\n",
       "      <td>1</td>\n",
       "      <td>12</td>\n",
       "      <td>1</td>\n",
       "      <td>1</td>\n",
       "      <td>0</td>\n",
       "      <td>0</td>\n",
       "      <td>0</td>\n",
       "      <td>0</td>\n",
       "      <td>0</td>\n",
       "      <td>0</td>\n",
       "      <td>1</td>\n",
       "      <td>0</td>\n",
       "    </tr>\n",
       "  </tbody>\n",
       "</table>\n",
       "<p>6512 rows × 12 columns</p>\n",
       "</div>"
      ],
      "text/plain": [
       "      gender  age_year  fever  cough  runny_nose  muscle_soreness  pneumonia  \\\n",
       "0          1        89      1      1           0                0          0   \n",
       "1          1        68      1      0           0                0          0   \n",
       "2          1        68      0      0           0                0          0   \n",
       "3          1        68      1      1           0                0          0   \n",
       "4          1        50      1      1           1                0          1   \n",
       "...      ...       ...    ...    ...         ...              ...        ...   \n",
       "6507       0        44      1      1           0                0          0   \n",
       "6508       0        44      1      1           0                0          0   \n",
       "6509       0        58      0      0           0                0          0   \n",
       "6510       0        58      1      1           0                0          0   \n",
       "6511       1        12      1      1           0                0          0   \n",
       "\n",
       "      diarrhea  lung_infection  travel_history  isolation_treatment  Result  \n",
       "0            0               0               1                    0       0  \n",
       "1            0               0               0                    0       0  \n",
       "2            0               0               1                    0       0  \n",
       "3            0               0               1                    1       1  \n",
       "4            0               0               1                    0       1  \n",
       "...        ...             ...             ...                  ...     ...  \n",
       "6507         0               0               1                    0       1  \n",
       "6508         0               0               0                    0       0  \n",
       "6509         0               0               0                    0       0  \n",
       "6510         0               0               0                    0       0  \n",
       "6511         0               0               0                    1       0  \n",
       "\n",
       "[6512 rows x 12 columns]"
      ]
     },
     "execution_count": 26,
     "metadata": {},
     "output_type": "execute_result"
    }
   ],
   "source": [
    "raw_df"
   ]
  },
  {
   "cell_type": "markdown",
   "id": "6e7029ad",
   "metadata": {},
   "source": [
    "<strong>Data Analysis</strong>"
   ]
  },
  {
   "cell_type": "code",
   "execution_count": 7,
   "id": "3544bb6c",
   "metadata": {},
   "outputs": [
    {
     "data": {
      "text/plain": [
       "<AxesSubplot:title={'center':'No. of Data for COVID and Non-COVID'}, xlabel='Result', ylabel='count'>"
      ]
     },
     "execution_count": 7,
     "metadata": {},
     "output_type": "execute_result"
    },
    {
     "data": {
      "image/png": "[encoded data removed]",
      "text/plain": [
       "<Figure size 720x432 with 1 Axes>"
      ]
     },
     "metadata": {
      "needs_background": "light"
     },
     "output_type": "display_data"
    }
   ],
   "source": [
    "plt.title(\"No. of Data for COVID and Non-COVID\")\n",
    "sns.countplot(x=raw_df.Result, palette=['r','g'])"
   ]
  },
  {
   "cell_type": "code",
   "execution_count": 8,
   "id": "c94e67d4",
   "metadata": {},
   "outputs": [
    {
     "data": {
      "text/plain": [
       "Text(0.5, 1.0, 'Correlation Matrix')"
      ]
     },
     "execution_count": 8,
     "metadata": {},
     "output_type": "execute_result"
    },
    {
     "data": {
      "image/png": "[encoded data removed]",
      "text/plain": [
       "<Figure size 1440x720 with 2 Axes>"
      ]
     },
     "metadata": {
      "needs_background": "light"
     },
     "output_type": "display_data"
    }
   ],
   "source": [
    "fig, ax = plt.subplots(figsize=(20,10))\n",
    "sns.heatmap(raw_df.corr(), ax=ax, cmap=\"ocean\")\n",
    "plt.title(\"Correlation Matrix\")"
   ]
  },
  {
   "cell_type": "markdown",
   "id": "5f6bc927",
   "metadata": {},
   "source": [
    "<strong>Data Preparation</strong>"
   ]
  },
  {
   "cell_type": "code",
   "execution_count": 9,
   "id": "a4c45799",
   "metadata": {},
   "outputs": [],
   "source": [
    "from sklearn.model_selection import train_test_split"
   ]
  },
  {
   "cell_type": "code",
   "execution_count": 10,
   "id": "1b2cbed5",
   "metadata": {},
   "outputs": [],
   "source": [
    "train_val_df, test_df = train_test_split(raw_df, test_size=0.1525, random_state=42)\n",
    "train_df, val_df = train_test_split(train_val_df, test_size=0.18, random_state=42)"
   ]
  },
  {
   "cell_type": "code",
   "execution_count": 11,
   "id": "d2ed74b7",
   "metadata": {},
   "outputs": [
    {
     "name": "stdout",
     "output_type": "stream",
     "text": [
      "train_df.shape : (4524, 12)\n",
      "val_df.shape : (994, 12)\n",
      "test_df.shape : (994, 12)\n"
     ]
    }
   ],
   "source": [
    "print('train_df.shape :', train_df.shape)\n",
    "print('val_df.shape :', val_df.shape)\n",
    "print('test_df.shape :', test_df.shape)"
   ]
  },
  {
   "cell_type": "code",
   "execution_count": 12,
   "id": "a57258ac",
   "metadata": {},
   "outputs": [],
   "source": [
    "input_cols = list(train_df.columns)[0:-1]\n",
    "target_col = \"Result\""
   ]
  },
  {
   "cell_type": "code",
   "execution_count": 13,
   "id": "e250cbed",
   "metadata": {},
   "outputs": [
    {
     "name": "stdout",
     "output_type": "stream",
     "text": [
      "input_cols = ['gender', 'age_year', 'fever', 'cough', 'runny_nose', 'muscle_soreness', 'pneumonia', 'diarrhea', 'lung_infection', 'travel_history', 'isolation_treatment']\n",
      "------------------------------\n",
      "target_col = Result\n"
     ]
    }
   ],
   "source": [
    "print(\"input_cols =\", input_cols)\n",
    "print(\"------------------------------\")\n",
    "print(\"target_col =\", target_col)"
   ]
  },
  {
   "cell_type": "code",
   "execution_count": 14,
   "id": "20a729fe",
   "metadata": {},
   "outputs": [],
   "source": [
    "train_inputs = train_df[input_cols].copy()\n",
    "train_targets = train_df[target_col].copy()\n",
    "\n",
    "val_inputs = val_df[input_cols].copy()\n",
    "val_targets = val_df[target_col].copy()\n",
    "\n",
    "test_inputs = test_df[input_cols].copy()\n",
    "test_targets = test_df[target_col].copy()"
   ]
  },
  {
   "cell_type": "code",
   "execution_count": 15,
   "id": "6e21e9ea",
   "metadata": {},
   "outputs": [
    {
     "data": {
      "text/plain": [
       "(['gender',\n",
       "  'age_year',\n",
       "  'fever',\n",
       "  'cough',\n",
       "  'runny_nose',\n",
       "  'muscle_soreness',\n",
       "  'pneumonia',\n",
       "  'diarrhea',\n",
       "  'lung_infection',\n",
       "  'travel_history',\n",
       "  'isolation_treatment'],\n",
       " 11)"
      ]
     },
     "execution_count": 15,
     "metadata": {},
     "output_type": "execute_result"
    }
   ],
   "source": [
    "numeric_cols = train_inputs.select_dtypes(include=np.number).columns.tolist()\n",
    "numeric_cols, len(numeric_cols)"
   ]
  },
  {
   "cell_type": "code",
   "execution_count": 16,
   "id": "31b53292",
   "metadata": {},
   "outputs": [
    {
     "data": {
      "text/html": [
       "<div>\n",
       "<style scoped>\n",
       "    .dataframe tbody tr th:only-of-type {\n",
       "        vertical-align: middle;\n",
       "    }\n",
       "\n",
       "    .dataframe tbody tr th {\n",
       "        vertical-align: top;\n",
       "    }\n",
       "\n",
       "    .dataframe thead th {\n",
       "        text-align: right;\n",
       "    }\n",
       "</style>\n",
       "<table border=\"1\" class=\"dataframe\">\n",
       "  <thead>\n",
       "    <tr style=\"text-align: right;\">\n",
       "      <th></th>\n",
       "      <th>gender</th>\n",
       "      <th>age_year</th>\n",
       "      <th>fever</th>\n",
       "      <th>cough</th>\n",
       "      <th>runny_nose</th>\n",
       "      <th>muscle_soreness</th>\n",
       "      <th>pneumonia</th>\n",
       "      <th>diarrhea</th>\n",
       "      <th>lung_infection</th>\n",
       "      <th>travel_history</th>\n",
       "      <th>isolation_treatment</th>\n",
       "    </tr>\n",
       "  </thead>\n",
       "  <tbody>\n",
       "    <tr>\n",
       "      <th>count</th>\n",
       "      <td>6512.000000</td>\n",
       "      <td>6512.000000</td>\n",
       "      <td>6512.000000</td>\n",
       "      <td>6512.000000</td>\n",
       "      <td>6512.000000</td>\n",
       "      <td>6512.000000</td>\n",
       "      <td>6512.000000</td>\n",
       "      <td>6512.000000</td>\n",
       "      <td>6512.000000</td>\n",
       "      <td>6512.000000</td>\n",
       "      <td>6512.000000</td>\n",
       "    </tr>\n",
       "    <tr>\n",
       "      <th>mean</th>\n",
       "      <td>0.517045</td>\n",
       "      <td>44.019502</td>\n",
       "      <td>0.410780</td>\n",
       "      <td>0.303286</td>\n",
       "      <td>0.084306</td>\n",
       "      <td>0.003993</td>\n",
       "      <td>0.074785</td>\n",
       "      <td>0.005682</td>\n",
       "      <td>0.131296</td>\n",
       "      <td>0.650952</td>\n",
       "      <td>0.216984</td>\n",
       "    </tr>\n",
       "    <tr>\n",
       "      <th>std</th>\n",
       "      <td>0.499748</td>\n",
       "      <td>16.112865</td>\n",
       "      <td>0.492013</td>\n",
       "      <td>0.459713</td>\n",
       "      <td>0.277867</td>\n",
       "      <td>0.063066</td>\n",
       "      <td>0.263064</td>\n",
       "      <td>0.075169</td>\n",
       "      <td>0.337750</td>\n",
       "      <td>0.476706</td>\n",
       "      <td>0.412223</td>\n",
       "    </tr>\n",
       "    <tr>\n",
       "      <th>min</th>\n",
       "      <td>0.000000</td>\n",
       "      <td>1.000000</td>\n",
       "      <td>0.000000</td>\n",
       "      <td>0.000000</td>\n",
       "      <td>0.000000</td>\n",
       "      <td>0.000000</td>\n",
       "      <td>0.000000</td>\n",
       "      <td>0.000000</td>\n",
       "      <td>0.000000</td>\n",
       "      <td>0.000000</td>\n",
       "      <td>0.000000</td>\n",
       "    </tr>\n",
       "    <tr>\n",
       "      <th>25%</th>\n",
       "      <td>0.000000</td>\n",
       "      <td>32.000000</td>\n",
       "      <td>0.000000</td>\n",
       "      <td>0.000000</td>\n",
       "      <td>0.000000</td>\n",
       "      <td>0.000000</td>\n",
       "      <td>0.000000</td>\n",
       "      <td>0.000000</td>\n",
       "      <td>0.000000</td>\n",
       "      <td>0.000000</td>\n",
       "      <td>0.000000</td>\n",
       "    </tr>\n",
       "    <tr>\n",
       "      <th>50%</th>\n",
       "      <td>1.000000</td>\n",
       "      <td>43.000000</td>\n",
       "      <td>0.000000</td>\n",
       "      <td>0.000000</td>\n",
       "      <td>0.000000</td>\n",
       "      <td>0.000000</td>\n",
       "      <td>0.000000</td>\n",
       "      <td>0.000000</td>\n",
       "      <td>0.000000</td>\n",
       "      <td>1.000000</td>\n",
       "      <td>0.000000</td>\n",
       "    </tr>\n",
       "    <tr>\n",
       "      <th>75%</th>\n",
       "      <td>1.000000</td>\n",
       "      <td>55.000000</td>\n",
       "      <td>1.000000</td>\n",
       "      <td>1.000000</td>\n",
       "      <td>0.000000</td>\n",
       "      <td>0.000000</td>\n",
       "      <td>0.000000</td>\n",
       "      <td>0.000000</td>\n",
       "      <td>0.000000</td>\n",
       "      <td>1.000000</td>\n",
       "      <td>0.000000</td>\n",
       "    </tr>\n",
       "    <tr>\n",
       "      <th>max</th>\n",
       "      <td>1.000000</td>\n",
       "      <td>96.000000</td>\n",
       "      <td>1.000000</td>\n",
       "      <td>1.000000</td>\n",
       "      <td>1.000000</td>\n",
       "      <td>1.000000</td>\n",
       "      <td>1.000000</td>\n",
       "      <td>1.000000</td>\n",
       "      <td>1.000000</td>\n",
       "      <td>1.000000</td>\n",
       "      <td>1.000000</td>\n",
       "    </tr>\n",
       "  </tbody>\n",
       "</table>\n",
       "</div>"
      ],
      "text/plain": [
       "            gender     age_year        fever        cough   runny_nose  \\\n",
       "count  6512.000000  6512.000000  6512.000000  6512.000000  6512.000000   \n",
       "mean      0.517045    44.019502     0.410780     0.303286     0.084306   \n",
       "std       0.499748    16.112865     0.492013     0.459713     0.277867   \n",
       "min       0.000000     1.000000     0.000000     0.000000     0.000000   \n",
       "25%       0.000000    32.000000     0.000000     0.000000     0.000000   \n",
       "50%       1.000000    43.000000     0.000000     0.000000     0.000000   \n",
       "75%       1.000000    55.000000     1.000000     1.000000     0.000000   \n",
       "max       1.000000    96.000000     1.000000     1.000000     1.000000   \n",
       "\n",
       "       muscle_soreness    pneumonia     diarrhea  lung_infection  \\\n",
       "count      6512.000000  6512.000000  6512.000000     6512.000000   \n",
       "mean          0.003993     0.074785     0.005682        0.131296   \n",
       "std           0.063066     0.263064     0.075169        0.337750   \n",
       "min           0.000000     0.000000     0.000000        0.000000   \n",
       "25%           0.000000     0.000000     0.000000        0.000000   \n",
       "50%           0.000000     0.000000     0.000000        0.000000   \n",
       "75%           0.000000     0.000000     0.000000        0.000000   \n",
       "max           1.000000     1.000000     1.000000        1.000000   \n",
       "\n",
       "       travel_history  isolation_treatment  \n",
       "count     6512.000000          6512.000000  \n",
       "mean         0.650952             0.216984  \n",
       "std          0.476706             0.412223  \n",
       "min          0.000000             0.000000  \n",
       "25%          0.000000             0.000000  \n",
       "50%          1.000000             0.000000  \n",
       "75%          1.000000             0.000000  \n",
       "max          1.000000             1.000000  "
      ]
     },
     "execution_count": 16,
     "metadata": {},
     "output_type": "execute_result"
    }
   ],
   "source": [
    "raw_df[numeric_cols].describe()"
   ]
  },
  {
   "cell_type": "code",
   "execution_count": 17,
   "id": "4433771a",
   "metadata": {},
   "outputs": [],
   "source": [
    "from sklearn.impute import SimpleImputer"
   ]
  },
  {
   "cell_type": "code",
   "execution_count": 18,
   "id": "e90022d5",
   "metadata": {},
   "outputs": [],
   "source": [
    "imputer = SimpleImputer().fit(raw_df[numeric_cols])\n",
    "train_inputs[numeric_cols] = imputer.transform(train_inputs[numeric_cols])\n",
    "val_inputs[numeric_cols] = imputer.transform(val_inputs[numeric_cols])\n",
    "test_inputs[numeric_cols] = imputer.transform(test_inputs[numeric_cols])"
   ]
  },
  {
   "cell_type": "code",
   "execution_count": 19,
   "id": "9812b0fb",
   "metadata": {},
   "outputs": [],
   "source": [
    "# Aliasing for convenience\n",
    "train_inputs = train_inputs[numeric_cols]\n",
    "val_inputs = val_inputs[numeric_cols]\n",
    "test_inputs = test_inputs[numeric_cols]"
   ]
  },
  {
   "cell_type": "code",
   "execution_count": 20,
   "id": "5cdedb43",
   "metadata": {},
   "outputs": [
    {
     "name": "stdout",
     "output_type": "stream",
     "text": [
      "<class 'pandas.core.frame.DataFrame'>\n",
      "Int64Index: 4524 entries, 2829 to 113\n",
      "Data columns (total 11 columns):\n",
      " #   Column               Non-Null Count  Dtype  \n",
      "---  ------               --------------  -----  \n",
      " 0   gender               4524 non-null   float64\n",
      " 1   age_year             4524 non-null   float64\n",
      " 2   fever                4524 non-null   float64\n",
      " 3   cough                4524 non-null   float64\n",
      " 4   runny_nose           4524 non-null   float64\n",
      " 5   muscle_soreness      4524 non-null   float64\n",
      " 6   pneumonia            4524 non-null   float64\n",
      " 7   diarrhea             4524 non-null   float64\n",
      " 8   lung_infection       4524 non-null   float64\n",
      " 9   travel_history       4524 non-null   float64\n",
      " 10  isolation_treatment  4524 non-null   float64\n",
      "dtypes: float64(11)\n",
      "memory usage: 424.1 KB\n"
     ]
    }
   ],
   "source": [
    "train_inputs.info()"
   ]
  },
  {
   "cell_type": "code",
   "execution_count": 21,
   "id": "ab819b78",
   "metadata": {},
   "outputs": [
    {
     "data": {
      "text/plain": [
       "(4524,)"
      ]
     },
     "execution_count": 21,
     "metadata": {},
     "output_type": "execute_result"
    }
   ],
   "source": [
    "train_targets.shape"
   ]
  },
  {
   "cell_type": "code",
   "execution_count": 22,
   "id": "24c707d0",
   "metadata": {},
   "outputs": [
    {
     "name": "stdout",
     "output_type": "stream",
     "text": [
      "<class 'pandas.core.frame.DataFrame'>\n",
      "Int64Index: 994 entries, 5558 to 4748\n",
      "Data columns (total 11 columns):\n",
      " #   Column               Non-Null Count  Dtype  \n",
      "---  ------               --------------  -----  \n",
      " 0   gender               994 non-null    float64\n",
      " 1   age_year             994 non-null    float64\n",
      " 2   fever                994 non-null    float64\n",
      " 3   cough                994 non-null    float64\n",
      " 4   runny_nose           994 non-null    float64\n",
      " 5   muscle_soreness      994 non-null    float64\n",
      " 6   pneumonia            994 non-null    float64\n",
      " 7   diarrhea             994 non-null    float64\n",
      " 8   lung_infection       994 non-null    float64\n",
      " 9   travel_history       994 non-null    float64\n",
      " 10  isolation_treatment  994 non-null    float64\n",
      "dtypes: float64(11)\n",
      "memory usage: 93.2 KB\n"
     ]
    }
   ],
   "source": [
    "val_inputs.info()"
   ]
  },
  {
   "cell_type": "code",
   "execution_count": 23,
   "id": "b9aac5c1",
   "metadata": {},
   "outputs": [
    {
     "data": {
      "text/plain": [
       "(994,)"
      ]
     },
     "execution_count": 23,
     "metadata": {},
     "output_type": "execute_result"
    }
   ],
   "source": [
    "val_targets.shape"
   ]
  },
  {
   "cell_type": "code",
   "execution_count": 24,
   "id": "12912411",
   "metadata": {},
   "outputs": [
    {
     "name": "stdout",
     "output_type": "stream",
     "text": [
      "<class 'pandas.core.frame.DataFrame'>\n",
      "Int64Index: 994 entries, 1263 to 586\n",
      "Data columns (total 11 columns):\n",
      " #   Column               Non-Null Count  Dtype  \n",
      "---  ------               --------------  -----  \n",
      " 0   gender               994 non-null    float64\n",
      " 1   age_year             994 non-null    float64\n",
      " 2   fever                994 non-null    float64\n",
      " 3   cough                994 non-null    float64\n",
      " 4   runny_nose           994 non-null    float64\n",
      " 5   muscle_soreness      994 non-null    float64\n",
      " 6   pneumonia            994 non-null    float64\n",
      " 7   diarrhea             994 non-null    float64\n",
      " 8   lung_infection       994 non-null    float64\n",
      " 9   travel_history       994 non-null    float64\n",
      " 10  isolation_treatment  994 non-null    float64\n",
      "dtypes: float64(11)\n",
      "memory usage: 93.2 KB\n"
     ]
    }
   ],
   "source": [
    "test_inputs.info()"
   ]
  },
  {
   "cell_type": "code",
   "execution_count": 25,
   "id": "7b15d294",
   "metadata": {},
   "outputs": [
    {
     "data": {
      "text/plain": [
       "(994,)"
      ]
     },
     "execution_count": 25,
     "metadata": {},
     "output_type": "execute_result"
    }
   ],
   "source": [
    "test_targets.shape"
   ]
  },
  {
   "cell_type": "code",
   "execution_count": 27,
   "id": "10ee9c91",
   "metadata": {},
   "outputs": [],
   "source": [
    "!pip install pyarrow --quiet"
   ]
  },
  {
   "cell_type": "code",
   "execution_count": 28,
   "id": "6f87e1d6",
   "metadata": {},
   "outputs": [],
   "source": [
    "train_inputs.to_parquet('train_inputs.parquet')\n",
    "val_inputs.to_parquet('val_inputs.parquet')\n",
    "test_inputs.to_parquet('test_inputs.parquet')"
   ]
  },
  {
   "cell_type": "code",
   "execution_count": 29,
   "id": "0fe4b34a",
   "metadata": {},
   "outputs": [
    {
     "name": "stdout",
     "output_type": "stream",
     "text": [
      "CPU times: user 15.4 ms, sys: 0 ns, total: 15.4 ms\n",
      "Wall time: 13.9 ms\n"
     ]
    }
   ],
   "source": [
    "%%time\n",
    "pd.DataFrame(train_targets).to_parquet('train_targets.parquet')\n",
    "pd.DataFrame(val_targets).to_parquet('val_targets.parquet')\n",
    "pd.DataFrame(test_targets).to_parquet('test_targets.parquet')"
   ]
  },
  {
   "cell_type": "code",
   "execution_count": 30,
   "id": "c11462a0",
   "metadata": {},
   "outputs": [
    {
     "name": "stdout",
     "output_type": "stream",
     "text": [
      "CPU times: user 113 ms, sys: 16.2 ms, total: 130 ms\n",
      "Wall time: 192 ms\n"
     ]
    }
   ],
   "source": [
    "%%time\n",
    "\n",
    "train_inputs = pd.read_parquet('train_inputs.parquet')\n",
    "val_inputs = pd.read_parquet('val_inputs.parquet')\n",
    "test_inputs = pd.read_parquet('test_inputs.parquet')\n",
    "\n",
    "train_targets = pd.read_parquet('train_targets.parquet')[target_col]\n",
    "val_targets = pd.read_parquet('val_targets.parquet')[target_col]\n",
    "test_targets = pd.read_parquet('test_targets.parquet')[target_col]"
   ]
  },
  {
   "cell_type": "markdown",
   "id": "b95c4800",
   "metadata": {},
   "source": [
    "<strong>Training the Models</strong>"
   ]
  },
  {
   "cell_type": "markdown",
   "id": "12f2f85b",
   "metadata": {},
   "source": [
    "<strong>First Model Training and Evaluation: Random Forest Classifier Model</strong>"
   ]
  },
  {
   "cell_type": "code",
   "execution_count": 38,
   "id": "ea0b8ebb",
   "metadata": {},
   "outputs": [],
   "source": [
    "from sklearn.ensemble import RandomForestClassifier\n",
    "from sklearn.metrics import f1_score, accuracy_score, precision_score, recall_score, confusion_matrix\n",
    "# ?RandomForestClassifier"
   ]
  },
  {
   "cell_type": "code",
   "execution_count": 33,
   "id": "ed29d949",
   "metadata": {},
   "outputs": [],
   "source": [
    "RFC_model = RandomForestClassifier(n_jobs=-1, random_state=42)"
   ]
  },
  {
   "cell_type": "code",
   "execution_count": 46,
   "id": "6872e0a0",
   "metadata": {},
   "outputs": [
    {
     "name": "stdout",
     "output_type": "stream",
     "text": [
      "The val F1 Score is 0.7079646017699116\n",
      "The val accuracy Score is 0.8672032193158954\n",
      "The val precision Score is 0.6722689075630253\n",
      "The val recall Score is 0.7476635514018691\n",
      "Time consumed for training: 0.225 seconds\n",
      "Time consumed for prediction: 0.05494 seconds\n"
     ]
    }
   ],
   "source": [
    "import time\n",
    "training_start = time.perf_counter()\n",
    "RFC_model.fit(train_inputs[numeric_cols], train_targets)\n",
    "training_end = time.perf_counter()\n",
    "\n",
    "prediction_start = time.perf_counter()\n",
    "train_preds = RFC_model.predict(train_inputs)\n",
    "# test_preds = RFC_model.predict(test_inputs)\n",
    "val_preds = RFC_model.predict(val_inputs)\n",
    "prediction_end = time.perf_counter()\n",
    "\n",
    "print('The val F1 Score is', f1_score(val_preds, val_targets)) # primary performace metrics (f1-score)\n",
    "print('The val accuracy Score is', accuracy_score(val_preds, val_targets))\n",
    "print('The val precision Score is', precision_score(val_preds, val_targets))\n",
    "print('The val recall Score is', recall_score(val_preds, val_targets))\n",
    "\n",
    "train_time = training_end - training_start\n",
    "prediction_time = prediction_end - prediction_start\n",
    "print(\"Time consumed for training: %4.3f seconds\" % (train_time))\n",
    "print(\"Time consumed for prediction: %6.5f seconds\" % (prediction_time))"
   ]
  },
  {
   "cell_type": "code",
   "execution_count": 40,
   "id": "9348b843",
   "metadata": {},
   "outputs": [
    {
     "data": {
      "text/plain": [
       "<AxesSubplot:title={'center':'Feature Importance'}, xlabel='importance', ylabel='feature'>"
      ]
     },
     "execution_count": 40,
     "metadata": {},
     "output_type": "execute_result"
    },
    {
     "data": {
      "image/png": "[encoded data removed]",
      "text/plain": [
       "<Figure size 2160x1080 with 1 Axes>"
      ]
     },
     "metadata": {
      "needs_background": "light"
     },
     "output_type": "display_data"
    }
   ],
   "source": [
    "plt.figure(figsize=(30,15))\n",
    "\n",
    "importance_df = pd.DataFrame({\n",
    "    \"feature\": train_inputs.columns,\n",
    "    \"importance\": RFC_model.feature_importances_\n",
    "}).sort_values(\"importance\", ascending=False)\n",
    "plt.title(\"Feature Importance\")\n",
    "sns.barplot(data=importance_df.head(10), x=\"importance\", y=\"feature\")"
   ]
  },
  {
   "cell_type": "code",
   "execution_count": 41,
   "id": "da200b92",
   "metadata": {},
   "outputs": [
    {
     "data": {
      "text/html": [
       "<div>\n",
       "<style scoped>\n",
       "    .dataframe tbody tr th:only-of-type {\n",
       "        vertical-align: middle;\n",
       "    }\n",
       "\n",
       "    .dataframe tbody tr th {\n",
       "        vertical-align: top;\n",
       "    }\n",
       "\n",
       "    .dataframe thead th {\n",
       "        text-align: right;\n",
       "    }\n",
       "</style>\n",
       "<table border=\"1\" class=\"dataframe\">\n",
       "  <thead>\n",
       "    <tr style=\"text-align: right;\">\n",
       "      <th></th>\n",
       "      <th>feature</th>\n",
       "      <th>importance</th>\n",
       "    </tr>\n",
       "  </thead>\n",
       "  <tbody>\n",
       "    <tr>\n",
       "      <th>8</th>\n",
       "      <td>lung_infection</td>\n",
       "      <td>0.286918</td>\n",
       "    </tr>\n",
       "    <tr>\n",
       "      <th>1</th>\n",
       "      <td>age_year</td>\n",
       "      <td>0.241463</td>\n",
       "    </tr>\n",
       "    <tr>\n",
       "      <th>3</th>\n",
       "      <td>cough</td>\n",
       "      <td>0.180259</td>\n",
       "    </tr>\n",
       "    <tr>\n",
       "      <th>6</th>\n",
       "      <td>pneumonia</td>\n",
       "      <td>0.093779</td>\n",
       "    </tr>\n",
       "    <tr>\n",
       "      <th>2</th>\n",
       "      <td>fever</td>\n",
       "      <td>0.064031</td>\n",
       "    </tr>\n",
       "    <tr>\n",
       "      <th>4</th>\n",
       "      <td>runny_nose</td>\n",
       "      <td>0.043662</td>\n",
       "    </tr>\n",
       "    <tr>\n",
       "      <th>9</th>\n",
       "      <td>travel_history</td>\n",
       "      <td>0.043257</td>\n",
       "    </tr>\n",
       "    <tr>\n",
       "      <th>10</th>\n",
       "      <td>isolation_treatment</td>\n",
       "      <td>0.028141</td>\n",
       "    </tr>\n",
       "    <tr>\n",
       "      <th>0</th>\n",
       "      <td>gender</td>\n",
       "      <td>0.011227</td>\n",
       "    </tr>\n",
       "    <tr>\n",
       "      <th>7</th>\n",
       "      <td>diarrhea</td>\n",
       "      <td>0.004117</td>\n",
       "    </tr>\n",
       "    <tr>\n",
       "      <th>5</th>\n",
       "      <td>muscle_soreness</td>\n",
       "      <td>0.003145</td>\n",
       "    </tr>\n",
       "  </tbody>\n",
       "</table>\n",
       "</div>"
      ],
      "text/plain": [
       "                feature  importance\n",
       "8        lung_infection    0.286918\n",
       "1              age_year    0.241463\n",
       "3                 cough    0.180259\n",
       "6             pneumonia    0.093779\n",
       "2                 fever    0.064031\n",
       "4            runny_nose    0.043662\n",
       "9        travel_history    0.043257\n",
       "10  isolation_treatment    0.028141\n",
       "0                gender    0.011227\n",
       "7              diarrhea    0.004117\n",
       "5       muscle_soreness    0.003145"
      ]
     },
     "execution_count": 41,
     "metadata": {},
     "output_type": "execute_result"
    }
   ],
   "source": [
    "importance_df"
   ]
  },
  {
   "cell_type": "markdown",
   "id": "bd2ff4ff",
   "metadata": {},
   "source": [
    "<strong>Second Model Training and Evaluation: XGBoost Classifier Model</strong>"
   ]
  },
  {
   "cell_type": "code",
   "execution_count": 43,
   "id": "34b9433a",
   "metadata": {},
   "outputs": [
    {
     "name": "stdout",
     "output_type": "stream",
     "text": [
      "Collecting xgboost\n",
      "  Downloading xgboost-1.5.2-py3-none-manylinux2014_x86_64.whl (173.6 MB)\n",
      "\u001b[K     |████████████████████████████████| 173.6 MB 5.0 kB/s eta 0:00:01    |██▌                             | 13.3 MB 5.4 MB/s eta 0:00:30     |███████████████▎                | 82.9 MB 2.5 MB/s eta 0:00:36     |████████████████▎               | 88.5 MB 2.1 MB/s eta 0:00:41     |███████████████████▏            | 104.1 MB 2.5 MB/s eta 0:00:29     |███████████████████▌            | 105.8 MB 2.9 MB/s eta 0:00:24     |██████████████████████████▏     | 142.0 MB 2.7 MB/s eta 0:00:12     |██████████████████████████████▍ | 164.7 MB 4.1 MB/s eta 0:00:03     |██████████████████████████████▊ | 166.8 MB 323 kB/s eta 0:00:21\n",
      "\u001b[?25hRequirement already satisfied: numpy in /home/reymond/anaconda3/lib/python3.9/site-packages (from xgboost) (1.20.3)\n",
      "Requirement already satisfied: scipy in /home/reymond/anaconda3/lib/python3.9/site-packages (from xgboost) (1.7.1)\n",
      "Installing collected packages: xgboost\n",
      "Successfully installed xgboost-1.5.2\n"
     ]
    }
   ],
   "source": [
    "!pip install xgboost"
   ]
  },
  {
   "cell_type": "code",
   "execution_count": 44,
   "id": "645cad57",
   "metadata": {},
   "outputs": [],
   "source": [
    "from xgboost import XGBClassifier"
   ]
  },
  {
   "cell_type": "code",
   "execution_count": 45,
   "id": "a6ee5417",
   "metadata": {},
   "outputs": [],
   "source": [
    "XGB_model = XGBClassifier(n_jobs=-1, random_state=42)"
   ]
  },
  {
   "cell_type": "code",
   "execution_count": 47,
   "id": "8171e7eb",
   "metadata": {},
   "outputs": [
    {
     "name": "stderr",
     "output_type": "stream",
     "text": [
      "/home/reymond/anaconda3/lib/python3.9/site-packages/xgboost/sklearn.py:1224: UserWarning: The use of label encoder in XGBClassifier is deprecated and will be removed in a future release. To remove this warning, do the following: 1) Pass option use_label_encoder=False when constructing XGBClassifier object; and 2) Encode your labels (y) as integers starting with 0, i.e. 0, 1, 2, ..., [num_class - 1].\n",
      "  warnings.warn(label_encoder_deprecation_msg, UserWarning)\n"
     ]
    },
    {
     "name": "stdout",
     "output_type": "stream",
     "text": [
      "[18:22:30] WARNING: ../src/learner.cc:1115: Starting in XGBoost 1.3.0, the default evaluation metric used with the objective 'binary:logistic' was changed from 'error' to 'logloss'. Explicitly set eval_metric if you'd like to restore the old behavior.\n",
      "The val F1 Score is 0.7404063205417608\n",
      "The val accuracy Score is 0.8843058350100603\n",
      "The val precision Score is 0.6890756302521008\n",
      "The val recall Score is 0.8\n",
      "Time consumed for training: 0.632 seconds\n",
      "Time consumed for prediction: 0.01409 seconds\n"
     ]
    }
   ],
   "source": [
    "training_start = time.perf_counter()\n",
    "XGB_model.fit(train_inputs[numeric_cols], train_targets)\n",
    "training_end = time.perf_counter()\n",
    "\n",
    "prediction_start = time.perf_counter()\n",
    "train_preds = XGB_model.predict(train_inputs)\n",
    "# test_preds = XGB_model.predict(test_inputs)\n",
    "val_preds = XGB_model.predict(val_inputs)\n",
    "prediction_end = time.perf_counter()\n",
    "\n",
    "print('The val F1 Score is', f1_score(val_preds, val_targets)) # primary performace metrics (f1-score)\n",
    "print('The val accuracy Score is', accuracy_score(val_preds, val_targets))\n",
    "print('The val precision Score is', precision_score(val_preds, val_targets))\n",
    "print('The val recall Score is', recall_score(val_preds, val_targets))\n",
    "\n",
    "train_time = training_end - training_start\n",
    "prediction_time = prediction_end - prediction_start\n",
    "print(\"Time consumed for training: %4.3f seconds\" % (train_time))\n",
    "print(\"Time consumed for prediction: %6.5f seconds\" % (prediction_time))"
   ]
  },
  {
   "cell_type": "code",
   "execution_count": 48,
   "id": "3db570da",
   "metadata": {},
   "outputs": [
    {
     "data": {
      "text/plain": [
       "<AxesSubplot:title={'center':'Feature Importance'}, xlabel='importance', ylabel='feature'>"
      ]
     },
     "execution_count": 48,
     "metadata": {},
     "output_type": "execute_result"
    },
    {
     "data": {
      "image/png": "[encoded data removed]",
      "text/plain": [
       "<Figure size 2160x1080 with 1 Axes>"
      ]
     },
     "metadata": {
      "needs_background": "light"
     },
     "output_type": "display_data"
    }
   ],
   "source": [
    "plt.figure(figsize=(30,15))\n",
    "\n",
    "importance_df = pd.DataFrame({\n",
    "    \"feature\": train_inputs.columns,\n",
    "    \"importance\": XGB_model.feature_importances_\n",
    "}).sort_values(\"importance\", ascending=False)\n",
    "plt.title(\"Feature Importance\")\n",
    "sns.barplot(data=importance_df.head(10), x=\"importance\", y=\"feature\")"
   ]
  },
  {
   "cell_type": "code",
   "execution_count": 49,
   "id": "37ffd863",
   "metadata": {},
   "outputs": [
    {
     "data": {
      "text/html": [
       "<div>\n",
       "<style scoped>\n",
       "    .dataframe tbody tr th:only-of-type {\n",
       "        vertical-align: middle;\n",
       "    }\n",
       "\n",
       "    .dataframe tbody tr th {\n",
       "        vertical-align: top;\n",
       "    }\n",
       "\n",
       "    .dataframe thead th {\n",
       "        text-align: right;\n",
       "    }\n",
       "</style>\n",
       "<table border=\"1\" class=\"dataframe\">\n",
       "  <thead>\n",
       "    <tr style=\"text-align: right;\">\n",
       "      <th></th>\n",
       "      <th>feature</th>\n",
       "      <th>importance</th>\n",
       "    </tr>\n",
       "  </thead>\n",
       "  <tbody>\n",
       "    <tr>\n",
       "      <th>8</th>\n",
       "      <td>lung_infection</td>\n",
       "      <td>0.492106</td>\n",
       "    </tr>\n",
       "    <tr>\n",
       "      <th>6</th>\n",
       "      <td>pneumonia</td>\n",
       "      <td>0.221447</td>\n",
       "    </tr>\n",
       "    <tr>\n",
       "      <th>3</th>\n",
       "      <td>cough</td>\n",
       "      <td>0.195472</td>\n",
       "    </tr>\n",
       "    <tr>\n",
       "      <th>10</th>\n",
       "      <td>isolation_treatment</td>\n",
       "      <td>0.018289</td>\n",
       "    </tr>\n",
       "    <tr>\n",
       "      <th>5</th>\n",
       "      <td>muscle_soreness</td>\n",
       "      <td>0.013262</td>\n",
       "    </tr>\n",
       "    <tr>\n",
       "      <th>9</th>\n",
       "      <td>travel_history</td>\n",
       "      <td>0.012601</td>\n",
       "    </tr>\n",
       "    <tr>\n",
       "      <th>2</th>\n",
       "      <td>fever</td>\n",
       "      <td>0.012431</td>\n",
       "    </tr>\n",
       "    <tr>\n",
       "      <th>7</th>\n",
       "      <td>diarrhea</td>\n",
       "      <td>0.010709</td>\n",
       "    </tr>\n",
       "    <tr>\n",
       "      <th>4</th>\n",
       "      <td>runny_nose</td>\n",
       "      <td>0.010226</td>\n",
       "    </tr>\n",
       "    <tr>\n",
       "      <th>1</th>\n",
       "      <td>age_year</td>\n",
       "      <td>0.007320</td>\n",
       "    </tr>\n",
       "    <tr>\n",
       "      <th>0</th>\n",
       "      <td>gender</td>\n",
       "      <td>0.006136</td>\n",
       "    </tr>\n",
       "  </tbody>\n",
       "</table>\n",
       "</div>"
      ],
      "text/plain": [
       "                feature  importance\n",
       "8        lung_infection    0.492106\n",
       "6             pneumonia    0.221447\n",
       "3                 cough    0.195472\n",
       "10  isolation_treatment    0.018289\n",
       "5       muscle_soreness    0.013262\n",
       "9        travel_history    0.012601\n",
       "2                 fever    0.012431\n",
       "7              diarrhea    0.010709\n",
       "4            runny_nose    0.010226\n",
       "1              age_year    0.007320\n",
       "0                gender    0.006136"
      ]
     },
     "execution_count": 49,
     "metadata": {},
     "output_type": "execute_result"
    }
   ],
   "source": [
    "importance_df"
   ]
  },
  {
   "cell_type": "markdown",
   "id": "cfe54c7e",
   "metadata": {},
   "source": [
    "<strong>Third Model Training and Evaluation: Support Vector Machine Classifier Model</strong>"
   ]
  },
  {
   "cell_type": "code",
   "execution_count": 51,
   "id": "e338dd1d",
   "metadata": {},
   "outputs": [],
   "source": [
    "# !pip install SVC"
   ]
  },
  {
   "cell_type": "code",
   "execution_count": 54,
   "id": "fdc000c4",
   "metadata": {},
   "outputs": [],
   "source": [
    "from sklearn.svm import SVC\n",
    "SVC_model = SVC(random_state=42)"
   ]
  },
  {
   "cell_type": "code",
   "execution_count": 55,
   "id": "48865971",
   "metadata": {},
   "outputs": [
    {
     "name": "stdout",
     "output_type": "stream",
     "text": [
      "The val F1 Score is 0.3\n",
      "The val accuracy Score is 0.8028169014084507\n",
      "The val precision Score is 0.17647058823529413\n",
      "The val recall Score is 1.0\n",
      "Time consumed for training: 0.622 seconds\n",
      "Time consumed for prediction: 0.83501 seconds\n"
     ]
    }
   ],
   "source": [
    "training_start = time.perf_counter()\n",
    "SVC_model.fit(train_inputs[numeric_cols], train_targets)\n",
    "training_end = time.perf_counter()\n",
    "\n",
    "prediction_start = time.perf_counter()\n",
    "train_preds = SVC_model.predict(train_inputs)\n",
    "test_preds = SVC_model.predict(test_inputs)\n",
    "val_preds = SVC_model.predict(val_inputs)\n",
    "prediction_end = time.perf_counter()\n",
    "\n",
    "print('The val F1 Score is', f1_score(val_preds, val_targets)) # primary performace metrics (f1-score)\n",
    "print('The val accuracy Score is', accuracy_score(val_preds, val_targets))\n",
    "print('The val precision Score is', precision_score(val_preds, val_targets))\n",
    "print('The val recall Score is', recall_score(val_preds, val_targets))\n",
    "\n",
    "train_time = training_end - training_start\n",
    "prediction_time = prediction_end - prediction_start\n",
    "print(\"Time consumed for training: %4.3f seconds\" % (train_time))\n",
    "print(\"Time consumed for prediction: %6.5f seconds\" % (prediction_time))"
   ]
  },
  {
   "cell_type": "code",
   "execution_count": 56,
   "id": "02ba2565",
   "metadata": {},
   "outputs": [],
   "source": [
    "# add other ML mddels and save them"
   ]
  },
  {
   "cell_type": "code",
   "execution_count": null,
   "id": "a8355802",
   "metadata": {},
   "outputs": [],
   "source": []
  },
  {
   "cell_type": "code",
   "execution_count": null,
   "id": "cc794ba8",
   "metadata": {},
   "outputs": [],
   "source": []
  }
 ],
 "metadata": {
  "kernelspec": {
   "display_name": "Python 3 (ipykernel)",
   "language": "python",
   "name": "python3"
  },
  "language_info": {
   "codemirror_mode": {
    "name": "ipython",
    "version": 3
   },
   "file_extension": ".py",
   "mimetype": "text/x-python",
   "name": "python",
   "nbconvert_exporter": "python",
   "pygments_lexer": "ipython3",
   "version": "3.9.7"
  }
 },
 "nbformat": 4,
 "nbformat_minor": 5
}
