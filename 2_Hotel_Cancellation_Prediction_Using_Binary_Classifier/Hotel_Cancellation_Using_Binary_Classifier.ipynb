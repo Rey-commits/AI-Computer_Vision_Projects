{
  "nbformat": 4,
  "nbformat_minor": 0,
  "metadata": {
    "colab": {
      "name": "Hotel_Cancellation_Using_Binary_Classifier.ipynb",
      "provenance": [],
      "collapsed_sections": []
    },
    "kernelspec": {
      "name": "python3",
      "display_name": "Python 3"
    },
    "language_info": {
      "name": "python"
    },
    "accelerator": "GPU"
  },
  "cells": [
    {
      "cell_type": "markdown",
      "metadata": {
        "id": "HllH4jIV6L-f"
      },
      "source": [
        "<h3><strong>Hotel Cancellation Prediction Using Binary Classifier</strong></h3>\n",
        "\n",
        "<p><i>Author: Mesuga, Reymond R.</i></p>"
      ]
    },
    {
      "cell_type": "code",
      "metadata": {
        "id": "kjMhGQ8hcQPC"
      },
      "source": [
        "!pip install opendatasets --upgrade --quiet"
      ],
      "execution_count": 1,
      "outputs": []
    },
    {
      "cell_type": "code",
      "metadata": {
        "id": "8AV2r_wobgvM"
      },
      "source": [
        "import opendatasets as od"
      ],
      "execution_count": 2,
      "outputs": []
    },
    {
      "cell_type": "markdown",
      "metadata": {
        "id": "yN-nqNxvyurs"
      },
      "source": [
        "<h3><strong>Plot Utilities</strong></h3>"
      ]
    },
    {
      "cell_type": "code",
      "metadata": {
        "id": "NO8rcDyUcc1I"
      },
      "source": [
        "# Setup plotting\n",
        "import matplotlib.pyplot as plt\n",
        "plt.style.use('seaborn-whitegrid')\n",
        "# Set Matplotlib defaults\n",
        "plt.rc('figure', autolayout=True)\n",
        "plt.rc('axes', labelweight='bold', labelsize='large',\n",
        "       titleweight='bold', titlesize=18, titlepad=10)\n",
        "plt.rc('animation', html='html5')"
      ],
      "execution_count": 4,
      "outputs": []
    },
    {
      "cell_type": "markdown",
      "metadata": {
        "id": "1r4vW70Iy6-O"
      },
      "source": [
        "<h3><strong>Data Preparation</strong></h3>"
      ]
    },
    {
      "cell_type": "code",
      "metadata": {
        "colab": {
          "base_uri": "https://localhost:8080/",
          "height": 305
        },
        "id": "AujwfChhcsgt",
        "outputId": "8ee93c9f-9a84-4552-da05-c5ff37a1f686"
      },
      "source": [
        "import pandas as pd\n",
        "\n",
        "from sklearn.model_selection import train_test_split\n",
        "from sklearn.preprocessing import StandardScaler, OneHotEncoder\n",
        "from sklearn.impute import SimpleImputer\n",
        "from sklearn.pipeline import make_pipeline\n",
        "from sklearn.compose import make_column_transformer\n",
        "\n",
        "hotel = pd.read_csv('hotel.csv')\n",
        "\n",
        "X = hotel.copy()\n",
        "y = X.pop('is_canceled')\n",
        "hotel.head()\n"
      ],
      "execution_count": 15,
      "outputs": [
        {
          "output_type": "execute_result",
          "data": {
            "text/html": [
              "<div>\n",
              "<style scoped>\n",
              "    .dataframe tbody tr th:only-of-type {\n",
              "        vertical-align: middle;\n",
              "    }\n",
              "\n",
              "    .dataframe tbody tr th {\n",
              "        vertical-align: top;\n",
              "    }\n",
              "\n",
              "    .dataframe thead th {\n",
              "        text-align: right;\n",
              "    }\n",
              "</style>\n",
              "<table border=\"1\" class=\"dataframe\">\n",
              "  <thead>\n",
              "    <tr style=\"text-align: right;\">\n",
              "      <th></th>\n",
              "      <th>hotel</th>\n",
              "      <th>is_canceled</th>\n",
              "      <th>lead_time</th>\n",
              "      <th>arrival_date_year</th>\n",
              "      <th>arrival_date_month</th>\n",
              "      <th>arrival_date_week_number</th>\n",
              "      <th>arrival_date_day_of_month</th>\n",
              "      <th>stays_in_weekend_nights</th>\n",
              "      <th>stays_in_week_nights</th>\n",
              "      <th>adults</th>\n",
              "      <th>children</th>\n",
              "      <th>babies</th>\n",
              "      <th>meal</th>\n",
              "      <th>country</th>\n",
              "      <th>market_segment</th>\n",
              "      <th>distribution_channel</th>\n",
              "      <th>is_repeated_guest</th>\n",
              "      <th>previous_cancellations</th>\n",
              "      <th>previous_bookings_not_canceled</th>\n",
              "      <th>reserved_room_type</th>\n",
              "      <th>assigned_room_type</th>\n",
              "      <th>booking_changes</th>\n",
              "      <th>deposit_type</th>\n",
              "      <th>agent</th>\n",
              "      <th>company</th>\n",
              "      <th>days_in_waiting_list</th>\n",
              "      <th>customer_type</th>\n",
              "      <th>adr</th>\n",
              "      <th>required_car_parking_spaces</th>\n",
              "      <th>total_of_special_requests</th>\n",
              "      <th>reservation_status</th>\n",
              "      <th>reservation_status_date</th>\n",
              "    </tr>\n",
              "  </thead>\n",
              "  <tbody>\n",
              "    <tr>\n",
              "      <th>0</th>\n",
              "      <td>Resort Hotel</td>\n",
              "      <td>0</td>\n",
              "      <td>342</td>\n",
              "      <td>2015</td>\n",
              "      <td>July</td>\n",
              "      <td>27</td>\n",
              "      <td>1</td>\n",
              "      <td>0</td>\n",
              "      <td>0</td>\n",
              "      <td>2</td>\n",
              "      <td>0.0</td>\n",
              "      <td>0</td>\n",
              "      <td>BB</td>\n",
              "      <td>PRT</td>\n",
              "      <td>Direct</td>\n",
              "      <td>Direct</td>\n",
              "      <td>0</td>\n",
              "      <td>0</td>\n",
              "      <td>0</td>\n",
              "      <td>C</td>\n",
              "      <td>C</td>\n",
              "      <td>3</td>\n",
              "      <td>No Deposit</td>\n",
              "      <td>NaN</td>\n",
              "      <td>NaN</td>\n",
              "      <td>0</td>\n",
              "      <td>Transient</td>\n",
              "      <td>0.0</td>\n",
              "      <td>0</td>\n",
              "      <td>0</td>\n",
              "      <td>Check-Out</td>\n",
              "      <td>2015-07-01</td>\n",
              "    </tr>\n",
              "    <tr>\n",
              "      <th>1</th>\n",
              "      <td>Resort Hotel</td>\n",
              "      <td>0</td>\n",
              "      <td>737</td>\n",
              "      <td>2015</td>\n",
              "      <td>July</td>\n",
              "      <td>27</td>\n",
              "      <td>1</td>\n",
              "      <td>0</td>\n",
              "      <td>0</td>\n",
              "      <td>2</td>\n",
              "      <td>0.0</td>\n",
              "      <td>0</td>\n",
              "      <td>BB</td>\n",
              "      <td>PRT</td>\n",
              "      <td>Direct</td>\n",
              "      <td>Direct</td>\n",
              "      <td>0</td>\n",
              "      <td>0</td>\n",
              "      <td>0</td>\n",
              "      <td>C</td>\n",
              "      <td>C</td>\n",
              "      <td>4</td>\n",
              "      <td>No Deposit</td>\n",
              "      <td>NaN</td>\n",
              "      <td>NaN</td>\n",
              "      <td>0</td>\n",
              "      <td>Transient</td>\n",
              "      <td>0.0</td>\n",
              "      <td>0</td>\n",
              "      <td>0</td>\n",
              "      <td>Check-Out</td>\n",
              "      <td>2015-07-01</td>\n",
              "    </tr>\n",
              "    <tr>\n",
              "      <th>2</th>\n",
              "      <td>Resort Hotel</td>\n",
              "      <td>0</td>\n",
              "      <td>7</td>\n",
              "      <td>2015</td>\n",
              "      <td>July</td>\n",
              "      <td>27</td>\n",
              "      <td>1</td>\n",
              "      <td>0</td>\n",
              "      <td>1</td>\n",
              "      <td>1</td>\n",
              "      <td>0.0</td>\n",
              "      <td>0</td>\n",
              "      <td>BB</td>\n",
              "      <td>GBR</td>\n",
              "      <td>Direct</td>\n",
              "      <td>Direct</td>\n",
              "      <td>0</td>\n",
              "      <td>0</td>\n",
              "      <td>0</td>\n",
              "      <td>A</td>\n",
              "      <td>C</td>\n",
              "      <td>0</td>\n",
              "      <td>No Deposit</td>\n",
              "      <td>NaN</td>\n",
              "      <td>NaN</td>\n",
              "      <td>0</td>\n",
              "      <td>Transient</td>\n",
              "      <td>75.0</td>\n",
              "      <td>0</td>\n",
              "      <td>0</td>\n",
              "      <td>Check-Out</td>\n",
              "      <td>2015-07-02</td>\n",
              "    </tr>\n",
              "    <tr>\n",
              "      <th>3</th>\n",
              "      <td>Resort Hotel</td>\n",
              "      <td>0</td>\n",
              "      <td>13</td>\n",
              "      <td>2015</td>\n",
              "      <td>July</td>\n",
              "      <td>27</td>\n",
              "      <td>1</td>\n",
              "      <td>0</td>\n",
              "      <td>1</td>\n",
              "      <td>1</td>\n",
              "      <td>0.0</td>\n",
              "      <td>0</td>\n",
              "      <td>BB</td>\n",
              "      <td>GBR</td>\n",
              "      <td>Corporate</td>\n",
              "      <td>Corporate</td>\n",
              "      <td>0</td>\n",
              "      <td>0</td>\n",
              "      <td>0</td>\n",
              "      <td>A</td>\n",
              "      <td>A</td>\n",
              "      <td>0</td>\n",
              "      <td>No Deposit</td>\n",
              "      <td>304.0</td>\n",
              "      <td>NaN</td>\n",
              "      <td>0</td>\n",
              "      <td>Transient</td>\n",
              "      <td>75.0</td>\n",
              "      <td>0</td>\n",
              "      <td>0</td>\n",
              "      <td>Check-Out</td>\n",
              "      <td>2015-07-02</td>\n",
              "    </tr>\n",
              "    <tr>\n",
              "      <th>4</th>\n",
              "      <td>Resort Hotel</td>\n",
              "      <td>0</td>\n",
              "      <td>14</td>\n",
              "      <td>2015</td>\n",
              "      <td>July</td>\n",
              "      <td>27</td>\n",
              "      <td>1</td>\n",
              "      <td>0</td>\n",
              "      <td>2</td>\n",
              "      <td>2</td>\n",
              "      <td>0.0</td>\n",
              "      <td>0</td>\n",
              "      <td>BB</td>\n",
              "      <td>GBR</td>\n",
              "      <td>Online TA</td>\n",
              "      <td>TA/TO</td>\n",
              "      <td>0</td>\n",
              "      <td>0</td>\n",
              "      <td>0</td>\n",
              "      <td>A</td>\n",
              "      <td>A</td>\n",
              "      <td>0</td>\n",
              "      <td>No Deposit</td>\n",
              "      <td>240.0</td>\n",
              "      <td>NaN</td>\n",
              "      <td>0</td>\n",
              "      <td>Transient</td>\n",
              "      <td>98.0</td>\n",
              "      <td>0</td>\n",
              "      <td>1</td>\n",
              "      <td>Check-Out</td>\n",
              "      <td>2015-07-03</td>\n",
              "    </tr>\n",
              "  </tbody>\n",
              "</table>\n",
              "</div>"
            ],
            "text/plain": [
              "          hotel  is_canceled  ...  reservation_status  reservation_status_date\n",
              "0  Resort Hotel            0  ...           Check-Out               2015-07-01\n",
              "1  Resort Hotel            0  ...           Check-Out               2015-07-01\n",
              "2  Resort Hotel            0  ...           Check-Out               2015-07-02\n",
              "3  Resort Hotel            0  ...           Check-Out               2015-07-02\n",
              "4  Resort Hotel            0  ...           Check-Out               2015-07-03\n",
              "\n",
              "[5 rows x 32 columns]"
            ]
          },
          "metadata": {
            "tags": []
          },
          "execution_count": 15
        }
      ]
    },
    {
      "cell_type": "code",
      "metadata": {
        "colab": {
          "base_uri": "https://localhost:8080/"
        },
        "id": "Osk3MC8z1NVX",
        "outputId": "ddce7f6d-e796-4cca-97b2-6e54274acae5"
      },
      "source": [
        "X['arrival_date_month'] = \\\n",
        "    X['arrival_date_month'].map(\n",
        "        {'January':1, 'February': 2, 'March':3,\n",
        "         'April':4, 'May':5, 'June':6, 'July':7,\n",
        "         'August':8, 'September':9, 'October':10,\n",
        "         'November':11, 'December':12}\n",
        "    )\n",
        "\n",
        "features_num = [\n",
        "    \"lead_time\", \"arrival_date_week_number\",\n",
        "    \"arrival_date_day_of_month\", \"stays_in_weekend_nights\",\n",
        "    \"stays_in_week_nights\", \"adults\", \"children\", \"babies\",\n",
        "    \"is_repeated_guest\", \"previous_cancellations\",\n",
        "    \"previous_bookings_not_canceled\", \"required_car_parking_spaces\",\n",
        "    \"total_of_special_requests\", \"adr\",\n",
        "]\n",
        "features_cat = [\n",
        "    \"hotel\", \"arrival_date_month\", \"meal\",\n",
        "    \"market_segment\", \"distribution_channel\",\n",
        "    \"reserved_room_type\", \"deposit_type\", \"customer_type\",\n",
        "]\n",
        "\n",
        "transformer_num = make_pipeline(\n",
        "    SimpleImputer(strategy=\"constant\"), # there are a few missing values\n",
        "    StandardScaler(),\n",
        ")\n",
        "transformer_cat = make_pipeline(\n",
        "    SimpleImputer(strategy=\"constant\", fill_value=\"NA\"),\n",
        "    OneHotEncoder(handle_unknown='ignore'),\n",
        ")\n",
        "\n",
        "preprocessor = make_column_transformer(\n",
        "    (transformer_num, features_num),\n",
        "    (transformer_cat, features_cat),\n",
        ")\n",
        "\n",
        "# stratify - make sure classes are evenlly represented across splits\n",
        "X_train, X_valid, y_train, y_valid = \\\n",
        "    train_test_split(X, y, stratify=y, train_size=0.75)\n",
        "\n",
        "X_train = preprocessor.fit_transform(X_train)\n",
        "X_valid = preprocessor.transform(X_valid)\n",
        "\n",
        "input_shape = [X_train.shape[1]]\n",
        "input_shape"
      ],
      "execution_count": 16,
      "outputs": [
        {
          "output_type": "execute_result",
          "data": {
            "text/plain": [
              "[62]"
            ]
          },
          "metadata": {
            "tags": []
          },
          "execution_count": 16
        }
      ]
    },
    {
      "cell_type": "markdown",
      "metadata": {
        "id": "zgy5H-yyfteO"
      },
      "source": [
        "<h3><strong>Defining the Model</strong></h3>\n",
        "<p>The model that we'll be using will have both batch normalization and dropout layers.\n",
        "\n",
        "The first layer will be the input data where the Batch Normalization is also applied. The two hidden layers were both contain of 256 units, ReLU Activation Function, Batch Normalization and Dropout Rate of 0.3.\n",
        "\n",
        "The output layer will have 1 unit and a Sigmoid Activation Function.</p>"
      ]
    },
    {
      "cell_type": "code",
      "metadata": {
        "id": "dbptPN2_mavs"
      },
      "source": [
        "from tensorflow import keras\n",
        "from tensorflow.keras import layers\n",
        "\n",
        "from tensorflow import keras\n",
        "from tensorflow.keras import layers\n",
        "\n",
        "model = keras.Sequential([\n",
        "    layers.BatchNormalization(input_shape=input_shape),\n",
        "    layers.Dense(256, activation='relu'),\n",
        "    layers.BatchNormalization(),\n",
        "    layers.Dropout(0.3),\n",
        "    layers.Dense(256, activation='relu'),\n",
        "    layers.BatchNormalization(),\n",
        "    layers.Dropout(0.3),\n",
        "    layers.Dense(256, activation='relu'),\n",
        "    layers.BatchNormalization(),\n",
        "    layers.Dropout(0.3),\n",
        "    layers.Dense(256, activation='relu'),\n",
        "    layers.BatchNormalization(),\n",
        "    layers.Dropout(0.3),\n",
        "    layers.Dense(1, activation='sigmoid'),\n",
        "])"
      ],
      "execution_count": 44,
      "outputs": []
    },
    {
      "cell_type": "markdown",
      "metadata": {
        "id": "ml5BGBaLmy6y"
      },
      "source": [
        "<h3><strong>Adding Optimizer, Loss, and Metric to the Model</strong><h3>\n",
        "<p>We'll be adding the Adam optimizer and binary versions of cross-entropy and accuracy metric.</p>"
      ]
    },
    {
      "cell_type": "code",
      "metadata": {
        "id": "hPf56HwsfUTl"
      },
      "source": [
        "model.compile(\n",
        "    optimizer='adam',\n",
        "    loss='binary_crossentropy',\n",
        "    metrics=['binary_accuracy'],\n",
        ")"
      ],
      "execution_count": 45,
      "outputs": []
    },
    {
      "cell_type": "markdown",
      "metadata": {
        "id": "pzG0qNckyiGz"
      },
      "source": [
        "<h3><strong>Training the Model</strong></h3>\n",
        "<p>The early_stopping has been applied to the model during training to prevent the sudden increase of validation loss that causes the overfitting.\n",
        "</p>"
      ]
    },
    {
      "cell_type": "code",
      "metadata": {
        "id": "fvn_TR6NnmUX",
        "colab": {
          "base_uri": "https://localhost:8080/",
          "height": 1000
        },
        "outputId": "ff1aec75-4976-49a9-a83f-d3dacfdd726a"
      },
      "source": [
        "early_stopping = keras.callbacks.EarlyStopping(\n",
        "    patience=5,\n",
        "    min_delta=0.001,\n",
        "    restore_best_weights=True,\n",
        ")\n",
        "history = model.fit(\n",
        "    X_train, y_train,\n",
        "    validation_data=(X_valid, y_valid),\n",
        "    batch_size=512,\n",
        "    epochs=300,\n",
        "    callbacks=[early_stopping],\n",
        ")\n",
        "history_df = pd.DataFrame(history.history)\n",
        "history_df.loc[:, ['loss', 'val_loss']].plot(title=\"Cross-entropy\")\n",
        "history_df.loc[:, ['binary_accuracy', 'val_binary_accuracy']].plot(title=\"Accuracy\")"
      ],
      "execution_count": 46,
      "outputs": [
        {
          "output_type": "stream",
          "text": [
            "Epoch 1/300\n",
            "175/175 [==============================] - 3s 7ms/step - loss: 0.5676 - binary_accuracy: 0.7242 - val_loss: 0.4402 - val_binary_accuracy: 0.7860\n",
            "Epoch 2/300\n",
            "175/175 [==============================] - 1s 6ms/step - loss: 0.4341 - binary_accuracy: 0.7979 - val_loss: 0.4078 - val_binary_accuracy: 0.8110\n",
            "Epoch 3/300\n",
            "175/175 [==============================] - 1s 6ms/step - loss: 0.4124 - binary_accuracy: 0.8076 - val_loss: 0.3967 - val_binary_accuracy: 0.8156\n",
            "Epoch 4/300\n",
            "175/175 [==============================] - 1s 6ms/step - loss: 0.4088 - binary_accuracy: 0.8105 - val_loss: 0.3894 - val_binary_accuracy: 0.8170\n",
            "Epoch 5/300\n",
            "175/175 [==============================] - 1s 6ms/step - loss: 0.4021 - binary_accuracy: 0.8130 - val_loss: 0.3853 - val_binary_accuracy: 0.8209\n",
            "Epoch 6/300\n",
            "175/175 [==============================] - 1s 6ms/step - loss: 0.3973 - binary_accuracy: 0.8130 - val_loss: 0.3823 - val_binary_accuracy: 0.8250\n",
            "Epoch 7/300\n",
            "175/175 [==============================] - 1s 6ms/step - loss: 0.3923 - binary_accuracy: 0.8168 - val_loss: 0.3787 - val_binary_accuracy: 0.8276\n",
            "Epoch 8/300\n",
            "175/175 [==============================] - 1s 6ms/step - loss: 0.3890 - binary_accuracy: 0.8192 - val_loss: 0.3767 - val_binary_accuracy: 0.8258\n",
            "Epoch 9/300\n",
            "175/175 [==============================] - 1s 6ms/step - loss: 0.3813 - binary_accuracy: 0.8251 - val_loss: 0.3780 - val_binary_accuracy: 0.8254\n",
            "Epoch 10/300\n",
            "175/175 [==============================] - 1s 6ms/step - loss: 0.3813 - binary_accuracy: 0.8235 - val_loss: 0.3710 - val_binary_accuracy: 0.8284\n",
            "Epoch 11/300\n",
            "175/175 [==============================] - 1s 6ms/step - loss: 0.3737 - binary_accuracy: 0.8286 - val_loss: 0.3697 - val_binary_accuracy: 0.8309\n",
            "Epoch 12/300\n",
            "175/175 [==============================] - 1s 6ms/step - loss: 0.3792 - binary_accuracy: 0.8243 - val_loss: 0.3712 - val_binary_accuracy: 0.8292\n",
            "Epoch 13/300\n",
            "175/175 [==============================] - 1s 6ms/step - loss: 0.3729 - binary_accuracy: 0.8261 - val_loss: 0.3659 - val_binary_accuracy: 0.8332\n",
            "Epoch 14/300\n",
            "175/175 [==============================] - 1s 6ms/step - loss: 0.3719 - binary_accuracy: 0.8288 - val_loss: 0.3696 - val_binary_accuracy: 0.8287\n",
            "Epoch 15/300\n",
            "175/175 [==============================] - 1s 6ms/step - loss: 0.3678 - binary_accuracy: 0.8293 - val_loss: 0.3626 - val_binary_accuracy: 0.8350\n",
            "Epoch 16/300\n",
            "175/175 [==============================] - 1s 6ms/step - loss: 0.3695 - binary_accuracy: 0.8292 - val_loss: 0.3639 - val_binary_accuracy: 0.8327\n",
            "Epoch 17/300\n",
            "175/175 [==============================] - 1s 6ms/step - loss: 0.3663 - binary_accuracy: 0.8298 - val_loss: 0.3609 - val_binary_accuracy: 0.8357\n",
            "Epoch 18/300\n",
            "175/175 [==============================] - 1s 6ms/step - loss: 0.3607 - binary_accuracy: 0.8333 - val_loss: 0.3628 - val_binary_accuracy: 0.8355\n",
            "Epoch 19/300\n",
            "175/175 [==============================] - 1s 6ms/step - loss: 0.3606 - binary_accuracy: 0.8341 - val_loss: 0.3615 - val_binary_accuracy: 0.8350\n",
            "Epoch 20/300\n",
            "175/175 [==============================] - 1s 6ms/step - loss: 0.3594 - binary_accuracy: 0.8341 - val_loss: 0.3595 - val_binary_accuracy: 0.8371\n",
            "Epoch 21/300\n",
            "175/175 [==============================] - 1s 6ms/step - loss: 0.3593 - binary_accuracy: 0.8345 - val_loss: 0.3631 - val_binary_accuracy: 0.8337\n",
            "Epoch 22/300\n",
            "175/175 [==============================] - 1s 6ms/step - loss: 0.3550 - binary_accuracy: 0.8371 - val_loss: 0.3671 - val_binary_accuracy: 0.8295\n",
            "Epoch 23/300\n",
            "175/175 [==============================] - 1s 6ms/step - loss: 0.3570 - binary_accuracy: 0.8360 - val_loss: 0.3584 - val_binary_accuracy: 0.8352\n",
            "Epoch 24/300\n",
            "175/175 [==============================] - 1s 6ms/step - loss: 0.3527 - binary_accuracy: 0.8366 - val_loss: 0.3560 - val_binary_accuracy: 0.8391\n",
            "Epoch 25/300\n",
            "175/175 [==============================] - 1s 6ms/step - loss: 0.3537 - binary_accuracy: 0.8362 - val_loss: 0.3581 - val_binary_accuracy: 0.8346\n",
            "Epoch 26/300\n",
            "175/175 [==============================] - 1s 6ms/step - loss: 0.3533 - binary_accuracy: 0.8363 - val_loss: 0.3557 - val_binary_accuracy: 0.8388\n",
            "Epoch 27/300\n",
            "175/175 [==============================] - 1s 6ms/step - loss: 0.3535 - binary_accuracy: 0.8372 - val_loss: 0.3560 - val_binary_accuracy: 0.8390\n",
            "Epoch 28/300\n",
            "175/175 [==============================] - 1s 6ms/step - loss: 0.3479 - binary_accuracy: 0.8394 - val_loss: 0.3532 - val_binary_accuracy: 0.8408\n",
            "Epoch 29/300\n",
            "175/175 [==============================] - 1s 6ms/step - loss: 0.3488 - binary_accuracy: 0.8388 - val_loss: 0.3543 - val_binary_accuracy: 0.8406\n",
            "Epoch 30/300\n",
            "175/175 [==============================] - 1s 6ms/step - loss: 0.3453 - binary_accuracy: 0.8395 - val_loss: 0.3544 - val_binary_accuracy: 0.8393\n",
            "Epoch 31/300\n",
            "175/175 [==============================] - 1s 6ms/step - loss: 0.3434 - binary_accuracy: 0.8418 - val_loss: 0.3536 - val_binary_accuracy: 0.8391\n",
            "Epoch 32/300\n",
            "175/175 [==============================] - 1s 6ms/step - loss: 0.3434 - binary_accuracy: 0.8419 - val_loss: 0.3521 - val_binary_accuracy: 0.8403\n",
            "Epoch 33/300\n",
            "175/175 [==============================] - 1s 6ms/step - loss: 0.3463 - binary_accuracy: 0.8390 - val_loss: 0.3525 - val_binary_accuracy: 0.8407\n",
            "Epoch 34/300\n",
            "175/175 [==============================] - 1s 6ms/step - loss: 0.3420 - binary_accuracy: 0.8407 - val_loss: 0.3570 - val_binary_accuracy: 0.8393\n",
            "Epoch 35/300\n",
            "175/175 [==============================] - 1s 6ms/step - loss: 0.3440 - binary_accuracy: 0.8412 - val_loss: 0.3534 - val_binary_accuracy: 0.8411\n",
            "Epoch 36/300\n",
            "175/175 [==============================] - 1s 6ms/step - loss: 0.3414 - binary_accuracy: 0.8439 - val_loss: 0.3505 - val_binary_accuracy: 0.8432\n",
            "Epoch 37/300\n",
            "175/175 [==============================] - 1s 6ms/step - loss: 0.3418 - binary_accuracy: 0.8427 - val_loss: 0.3519 - val_binary_accuracy: 0.8407\n",
            "Epoch 38/300\n",
            "175/175 [==============================] - 1s 6ms/step - loss: 0.3402 - binary_accuracy: 0.8419 - val_loss: 0.3520 - val_binary_accuracy: 0.8407\n",
            "Epoch 39/300\n",
            "175/175 [==============================] - 1s 6ms/step - loss: 0.3421 - binary_accuracy: 0.8414 - val_loss: 0.3502 - val_binary_accuracy: 0.8417\n",
            "Epoch 40/300\n",
            "175/175 [==============================] - 1s 6ms/step - loss: 0.3382 - binary_accuracy: 0.8451 - val_loss: 0.3523 - val_binary_accuracy: 0.8402\n",
            "Epoch 41/300\n",
            "175/175 [==============================] - 1s 6ms/step - loss: 0.3334 - binary_accuracy: 0.8469 - val_loss: 0.3498 - val_binary_accuracy: 0.8405\n"
          ],
          "name": "stdout"
        },
        {
          "output_type": "execute_result",
          "data": {
            "text/plain": [
              "<matplotlib.axes._subplots.AxesSubplot at 0x7f1d204ea1d0>"
            ]
          },
          "metadata": {
            "tags": []
          },
          "execution_count": 46
        },
        {
          "output_type": "display_data",
          "data": {
            "image/png": "[encoded data removed]",
            "text/plain": [
              "<Figure size 432x288 with 1 Axes>"
            ]
          },
          "metadata": {
            "tags": []
          }
        },
        {
          "output_type": "display_data",
          "data": {
            "image/png": "[encoded data removed]",
            "text/plain": [
              "<Figure size 432x288 with 1 Axes>"
            ]
          },
          "metadata": {
            "tags": []
          }
        }
      ]
    },
    {
      "cell_type": "markdown",
      "metadata": {
        "id": "ppnIPmDb0vLl"
      },
      "source": [
        "<h3><strong>Conclusion</strong></h3>\n",
        "<p>The model reaches an accuracy of approxiamtely 84% which is not bad for a simple binary classifier model. The author recommend making the model wider or deeper or adjust the values of some parameters and evaluate if the accuracy of the model increases.</p>"
      ]
    }
  ]
}