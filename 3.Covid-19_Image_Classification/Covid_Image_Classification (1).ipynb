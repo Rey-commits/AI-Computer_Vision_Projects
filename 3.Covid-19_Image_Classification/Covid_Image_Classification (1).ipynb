{
  "nbformat": 4,
  "nbformat_minor": 0,
  "metadata": {
    "colab": {
      "name": "Covid_Image_Classification.ipynb",
      "provenance": [],
      "collapsed_sections": []
    },
    "kernelspec": {
      "name": "python3",
      "display_name": "Python 3"
    },
    "language_info": {
      "name": "python"
    },
    "accelerator": "GPU"
  },
  "cells": [
    {
      "cell_type": "markdown",
      "metadata": {
        "id": "r1YF2UqvfxbN"
      },
      "source": [
        "<h3><strong>Covid-19 Image Classification</strong></h3>\n",
        "\n",
        "<p>Author: Mesuga, Reymond R.</p>"
      ]
    },
    {
      "cell_type": "code",
      "metadata": {
        "id": "vzRCH2Xc8a6e"
      },
      "source": [
        "!pip install opendatasets --upgrade --quiet"
      ],
      "execution_count": 1,
      "outputs": []
    },
    {
      "cell_type": "code",
      "metadata": {
        "id": "VdtaSGfn765V"
      },
      "source": [
        "import os\n",
        "import torch\n",
        "import torchvision\n",
        "import tarfile\n",
        "from torchvision.datasets.utils import download_url\n",
        "from torch.utils.data import random_split\n",
        "import shutil\n",
        "from torchvision.datasets import ImageFolder\n",
        "from torchvision.transforms import ToTensor\n",
        "import opendatasets as od\n",
        "import torchvision.transforms as tt\n",
        "import matplotlib.pyplot as plt\n",
        "%matplotlib inline"
      ],
      "execution_count": 2,
      "outputs": []
    },
    {
      "cell_type": "code",
      "metadata": {
        "id": "22pgLaWK8e8S"
      },
      "source": [
        "dataset_url = \"https://www.kaggle.com/unaissait/curated-chest-xray-image-dataset-for-covid19\""
      ],
      "execution_count": 3,
      "outputs": []
    },
    {
      "cell_type": "code",
      "metadata": {
        "colab": {
          "base_uri": "https://localhost:8080/"
        },
        "id": "kcdvYtw38fDf",
        "outputId": "78c032a3-6e2c-4b64-ed68-9c6dae97c60d"
      },
      "source": [
        "od.download(dataset_url)"
      ],
      "execution_count": 4,
      "outputs": [
        {
          "output_type": "stream",
          "text": [
            "Please provide your Kaggle credentials to download this dataset. Learn more: http://bit.ly/kaggle-creds\n",
            "Your Kaggle username: mesugareymond\n",
            "Your Kaggle Key: ··········\n"
          ],
          "name": "stdout"
        },
        {
          "output_type": "stream",
          "text": [
            "  0%|          | 12.0M/3.49G [00:00<00:29, 125MB/s]"
          ],
          "name": "stderr"
        },
        {
          "output_type": "stream",
          "text": [
            "Downloading curated-chest-xray-image-dataset-for-covid19.zip to ./curated-chest-xray-image-dataset-for-covid19\n"
          ],
          "name": "stdout"
        },
        {
          "output_type": "stream",
          "text": [
            "100%|██████████| 3.49G/3.49G [01:01<00:00, 60.9MB/s]\n"
          ],
          "name": "stderr"
        },
        {
          "output_type": "stream",
          "text": [
            "\n"
          ],
          "name": "stdout"
        }
      ]
    },
    {
      "cell_type": "code",
      "metadata": {
        "colab": {
          "base_uri": "https://localhost:8080/"
        },
        "id": "vbLaG4Gg8fFw",
        "outputId": "26b59b58-3f88-4e5d-96f5-a1437af05def"
      },
      "source": [
        "data_dir = \"/content/curated-chest-xray-image-dataset-for-covid19/Curated X-Ray Dataset\"\n",
        "shutil.rmtree(data_dir + \"/Pneumonia-Viral\")\n",
        "shutil.rmtree(data_dir + \"/Pneumonia-Bacterial\")\n",
        "os.listdir(data_dir)"
      ],
      "execution_count": 5,
      "outputs": [
        {
          "output_type": "execute_result",
          "data": {
            "text/plain": [
              "['Normal', 'COVID-19']"
            ]
          },
          "metadata": {
            "tags": []
          },
          "execution_count": 5
        }
      ]
    },
    {
      "cell_type": "markdown",
      "metadata": {
        "id": "SMH7VFZvDWaT"
      },
      "source": [
        "Converting Images into Tensors"
      ]
    },
    {
      "cell_type": "code",
      "metadata": {
        "colab": {
          "base_uri": "https://localhost:8080/"
        },
        "id": "9X54z-VY8fKd",
        "outputId": "ae1eb03d-833f-4197-f8ba-e4edcffb7261"
      },
      "source": [
        "dataset = ImageFolder(data_dir, tt.Compose([tt.Resize(240), tt.CenterCrop(240), tt.ToTensor()]))\n",
        "len(dataset)"
      ],
      "execution_count": 6,
      "outputs": [
        {
          "output_type": "execute_result",
          "data": {
            "text/plain": [
              "4551"
            ]
          },
          "metadata": {
            "tags": []
          },
          "execution_count": 6
        }
      ]
    },
    {
      "cell_type": "markdown",
      "metadata": {
        "id": "EN9z1gghDlGG"
      },
      "source": [
        "Checking some Image Tensors"
      ]
    },
    {
      "cell_type": "code",
      "metadata": {
        "colab": {
          "base_uri": "https://localhost:8080/"
        },
        "id": "hGyoDfbS8fRo",
        "outputId": "6b87787b-2381-4d72-db9f-3193ee9697df"
      },
      "source": [
        "img, label = dataset[0]\n",
        "print(img.shape, label)\n",
        "img"
      ],
      "execution_count": 7,
      "outputs": [
        {
          "output_type": "stream",
          "text": [
            "torch.Size([3, 240, 240]) 0\n"
          ],
          "name": "stdout"
        },
        {
          "output_type": "execute_result",
          "data": {
            "text/plain": [
              "tensor([[[0.1569, 0.1216, 0.1176,  ..., 0.0000, 0.0000, 0.0000],\n",
              "         [0.2549, 0.1922, 0.1451,  ..., 0.0039, 0.0000, 0.0000],\n",
              "         [0.3373, 0.2941, 0.2471,  ..., 0.0275, 0.0118, 0.0039],\n",
              "         ...,\n",
              "         [0.3529, 0.3725, 0.3882,  ..., 0.3294, 0.2980, 0.2941],\n",
              "         [0.3490, 0.3686, 0.3843,  ..., 0.3137, 0.2902, 0.2902],\n",
              "         [0.3529, 0.3608, 0.3765,  ..., 0.3059, 0.2863, 0.2902]],\n",
              "\n",
              "        [[0.1569, 0.1216, 0.1176,  ..., 0.0000, 0.0000, 0.0000],\n",
              "         [0.2549, 0.1922, 0.1451,  ..., 0.0039, 0.0000, 0.0000],\n",
              "         [0.3373, 0.2941, 0.2471,  ..., 0.0275, 0.0118, 0.0039],\n",
              "         ...,\n",
              "         [0.3529, 0.3725, 0.3882,  ..., 0.3294, 0.2980, 0.2941],\n",
              "         [0.3490, 0.3686, 0.3843,  ..., 0.3137, 0.2902, 0.2902],\n",
              "         [0.3529, 0.3608, 0.3765,  ..., 0.3059, 0.2863, 0.2902]],\n",
              "\n",
              "        [[0.1569, 0.1216, 0.1176,  ..., 0.0000, 0.0000, 0.0000],\n",
              "         [0.2549, 0.1922, 0.1451,  ..., 0.0039, 0.0000, 0.0000],\n",
              "         [0.3373, 0.2941, 0.2471,  ..., 0.0275, 0.0118, 0.0039],\n",
              "         ...,\n",
              "         [0.3529, 0.3725, 0.3882,  ..., 0.3294, 0.2980, 0.2941],\n",
              "         [0.3490, 0.3686, 0.3843,  ..., 0.3137, 0.2902, 0.2902],\n",
              "         [0.3529, 0.3608, 0.3765,  ..., 0.3059, 0.2863, 0.2902]]])"
            ]
          },
          "metadata": {
            "tags": []
          },
          "execution_count": 7
        }
      ]
    },
    {
      "cell_type": "code",
      "metadata": {
        "colab": {
          "base_uri": "https://localhost:8080/"
        },
        "id": "PDoPqdli8fTj",
        "outputId": "2b0eb249-aba3-4bb1-e652-d737c3d1825f"
      },
      "source": [
        "img, label = dataset[1]\n",
        "print(img.shape, label)\n",
        "img"
      ],
      "execution_count": 8,
      "outputs": [
        {
          "output_type": "stream",
          "text": [
            "torch.Size([3, 240, 240]) 0\n"
          ],
          "name": "stdout"
        },
        {
          "output_type": "execute_result",
          "data": {
            "text/plain": [
              "tensor([[[0.6275, 0.6549, 0.6588,  ..., 0.0000, 0.0000, 0.0000],\n",
              "         [0.6510, 0.6745, 0.6784,  ..., 0.0000, 0.0000, 0.0000],\n",
              "         [0.6667, 0.6863, 0.7020,  ..., 0.0000, 0.0000, 0.0000],\n",
              "         ...,\n",
              "         [0.0000, 0.0000, 0.0000,  ..., 0.0000, 0.0000, 0.0000],\n",
              "         [0.0000, 0.0000, 0.0000,  ..., 0.0000, 0.0000, 0.0000],\n",
              "         [0.0000, 0.0000, 0.0000,  ..., 0.0000, 0.0000, 0.0000]],\n",
              "\n",
              "        [[0.6275, 0.6549, 0.6588,  ..., 0.0000, 0.0000, 0.0000],\n",
              "         [0.6510, 0.6745, 0.6784,  ..., 0.0000, 0.0000, 0.0000],\n",
              "         [0.6667, 0.6863, 0.7020,  ..., 0.0000, 0.0000, 0.0000],\n",
              "         ...,\n",
              "         [0.0000, 0.0000, 0.0000,  ..., 0.0000, 0.0000, 0.0000],\n",
              "         [0.0000, 0.0000, 0.0000,  ..., 0.0000, 0.0000, 0.0000],\n",
              "         [0.0000, 0.0000, 0.0000,  ..., 0.0000, 0.0000, 0.0000]],\n",
              "\n",
              "        [[0.6275, 0.6549, 0.6588,  ..., 0.0000, 0.0000, 0.0000],\n",
              "         [0.6510, 0.6745, 0.6784,  ..., 0.0000, 0.0000, 0.0000],\n",
              "         [0.6667, 0.6863, 0.7020,  ..., 0.0000, 0.0000, 0.0000],\n",
              "         ...,\n",
              "         [0.0000, 0.0000, 0.0000,  ..., 0.0000, 0.0000, 0.0000],\n",
              "         [0.0000, 0.0000, 0.0000,  ..., 0.0000, 0.0000, 0.0000],\n",
              "         [0.0000, 0.0000, 0.0000,  ..., 0.0000, 0.0000, 0.0000]]])"
            ]
          },
          "metadata": {
            "tags": []
          },
          "execution_count": 8
        }
      ]
    },
    {
      "cell_type": "markdown",
      "metadata": {
        "id": "G4ZcbM-5EDQB"
      },
      "source": [
        "Checking what the image looks like"
      ]
    },
    {
      "cell_type": "code",
      "metadata": {
        "colab": {
          "base_uri": "https://localhost:8080/",
          "height": 286
        },
        "id": "K3DALRcwECk3",
        "outputId": "bb72d44c-6200-4069-9486-1a708e861992"
      },
      "source": [
        "img, label = dataset[8]\n",
        "\n",
        "plt.imshow(img.permute((1,2,0)))"
      ],
      "execution_count": 9,
      "outputs": [
        {
          "output_type": "execute_result",
          "data": {
            "text/plain": [
              "<matplotlib.image.AxesImage at 0x7f02c9dfe810>"
            ]
          },
          "metadata": {
            "tags": []
          },
          "execution_count": 9
        },
        {
          "output_type": "display_data",
          "data": {
            "image/png": "[encoded data removed]",
            "text/plain": [
              "<Figure size 432x288 with 1 Axes>"
            ]
          },
          "metadata": {
            "tags": [],
            "needs_background": "light"
          }
        }
      ]
    },
    {
      "cell_type": "markdown",
      "metadata": {
        "id": "RD68OB0eENLw"
      },
      "source": [
        "Splitting the Dataset"
      ]
    },
    {
      "cell_type": "code",
      "metadata": {
        "colab": {
          "base_uri": "https://localhost:8080/"
        },
        "id": "iUug_x0A8fV9",
        "outputId": "d6be39fa-fcbc-43cb-e253-133fef6912a6"
      },
      "source": [
        "random_seed = 42\n",
        "torch.manual_seed(random_seed);\n",
        "\n",
        "val_size = 455\n",
        "train_size = len(dataset) - val_size\n",
        "train_ds, val_ds = random_split(dataset, [train_size, val_size])\n",
        "len(train_ds), len(val_ds)"
      ],
      "execution_count": 10,
      "outputs": [
        {
          "output_type": "execute_result",
          "data": {
            "text/plain": [
              "(4096, 455)"
            ]
          },
          "metadata": {
            "tags": []
          },
          "execution_count": 10
        }
      ]
    },
    {
      "cell_type": "markdown",
      "metadata": {
        "id": "pgYFi7z2FTx5"
      },
      "source": [
        "Creating the Data Loaders"
      ]
    },
    {
      "cell_type": "code",
      "metadata": {
        "colab": {
          "base_uri": "https://localhost:8080/"
        },
        "id": "eohmSBqj8fY6",
        "outputId": "d54d1f6c-3462-40b1-a960-216f458570ab"
      },
      "source": [
        "from torch.utils.data.dataloader import DataLoader\n",
        "batch_size = 16\n",
        "\n",
        "train_dl = DataLoader(train_ds, batch_size, shuffle=True, num_workers=4, pin_memory=True)\n",
        "val_dl = DataLoader(val_ds, batch_size, num_workers=4, pin_memory=True)"
      ],
      "execution_count": 11,
      "outputs": [
        {
          "output_type": "stream",
          "text": [
            "/usr/local/lib/python3.7/dist-packages/torch/utils/data/dataloader.py:477: UserWarning: This DataLoader will create 4 worker processes in total. Our suggested max number of worker in current system is 2, which is smaller than what this DataLoader is going to create. Please be aware that excessive worker creation might get DataLoader running slow or even freeze, lower the worker number to avoid potential slowness/freeze if necessary.\n",
            "  cpuset_checked))\n"
          ],
          "name": "stderr"
        }
      ]
    },
    {
      "cell_type": "markdown",
      "metadata": {
        "id": "excIeQikFeEi"
      },
      "source": [
        "Visualizing Images in a Batch"
      ]
    },
    {
      "cell_type": "code",
      "metadata": {
        "id": "SDCMsjhjFZkx"
      },
      "source": [
        "from torchvision.utils import make_grid\n",
        "\n",
        "def show_batch(dl):\n",
        "    for images, labels in dl:\n",
        "        fig, ax = plt.subplots(figsize=(12, 6))\n",
        "        ax.set_xticks([]); ax.set_yticks([])\n",
        "        ax.imshow(make_grid(images, nrow=16).permute(1, 2, 0))\n",
        "        break"
      ],
      "execution_count": 12,
      "outputs": []
    },
    {
      "cell_type": "code",
      "metadata": {
        "colab": {
          "base_uri": "https://localhost:8080/",
          "height": 132
        },
        "id": "JI8gjQ9NFkY7",
        "outputId": "c840ea88-5c0f-4229-f540-ea7bce0b0119"
      },
      "source": [
        "show_batch(train_dl)"
      ],
      "execution_count": 13,
      "outputs": [
        {
          "output_type": "stream",
          "text": [
            "/usr/local/lib/python3.7/dist-packages/torch/utils/data/dataloader.py:477: UserWarning: This DataLoader will create 4 worker processes in total. Our suggested max number of worker in current system is 2, which is smaller than what this DataLoader is going to create. Please be aware that excessive worker creation might get DataLoader running slow or even freeze, lower the worker number to avoid potential slowness/freeze if necessary.\n",
            "  cpuset_checked))\n"
          ],
          "name": "stderr"
        },
        {
          "output_type": "display_data",
          "data": {
            "image/png": "[encoded data removed]",
            "text/plain": [
              "<Figure size 864x432 with 1 Axes>"
            ]
          },
          "metadata": {
            "tags": []
          }
        }
      ]
    },
    {
      "cell_type": "code",
      "metadata": {
        "colab": {
          "base_uri": "https://localhost:8080/",
          "height": 132
        },
        "id": "LmUnKAwPFw5m",
        "outputId": "20880b4f-0ec0-40b1-fc37-4a84d312eaa9"
      },
      "source": [
        "show_batch(val_dl)"
      ],
      "execution_count": 14,
      "outputs": [
        {
          "output_type": "stream",
          "text": [
            "/usr/local/lib/python3.7/dist-packages/torch/utils/data/dataloader.py:477: UserWarning: This DataLoader will create 4 worker processes in total. Our suggested max number of worker in current system is 2, which is smaller than what this DataLoader is going to create. Please be aware that excessive worker creation might get DataLoader running slow or even freeze, lower the worker number to avoid potential slowness/freeze if necessary.\n",
            "  cpuset_checked))\n"
          ],
          "name": "stderr"
        },
        {
          "output_type": "display_data",
          "data": {
            "image/png": "[encoded data removed]",
            "text/plain": [
              "<Figure size 864x432 with 1 Axes>"
            ]
          },
          "metadata": {
            "tags": []
          }
        }
      ]
    },
    {
      "cell_type": "markdown",
      "metadata": {
        "id": "PdGjoVbQHb1V"
      },
      "source": [
        "GPU Utilities"
      ]
    },
    {
      "cell_type": "code",
      "metadata": {
        "id": "lvbSZdCnHfer"
      },
      "source": [
        "import torch\n",
        "def get_default_device():\n",
        "    \"\"\"Pick GPU if available, else CPU\"\"\"\n",
        "    if torch.cuda.is_available():\n",
        "        return torch.device('cuda')\n",
        "    else:\n",
        "        return torch.device('cpu')\n",
        "    \n",
        "def to_device(data, device):\n",
        "    \"\"\"Move tensor(s) to chosen device\"\"\"\n",
        "    if isinstance(data, (list,tuple)):\n",
        "        return [to_device(x, device) for x in data]\n",
        "    return data.to(device, non_blocking=True)\n",
        "\n",
        "class DeviceDataLoader():\n",
        "    \"\"\"Wrap a dataloader to move data to a device\"\"\"\n",
        "    def __init__(self, dl, device):\n",
        "        self.dl = dl\n",
        "        self.device = device\n",
        "        \n",
        "    def __iter__(self):\n",
        "        \"\"\"Yield a batch of data after moving it to device\"\"\"\n",
        "        for b in self.dl: \n",
        "            yield to_device(b, self.device)\n",
        "\n",
        "    def __len__(self):\n",
        "        \"\"\"Number of batches\"\"\"\n",
        "        return len(self.dl)"
      ],
      "execution_count": 15,
      "outputs": []
    },
    {
      "cell_type": "code",
      "metadata": {
        "colab": {
          "base_uri": "https://localhost:8080/"
        },
        "id": "LiokvGyyHbPi",
        "outputId": "d57e0db2-fd71-4bef-ba7a-09a859e6a673"
      },
      "source": [
        "torch.cuda.is_available()"
      ],
      "execution_count": 16,
      "outputs": [
        {
          "output_type": "execute_result",
          "data": {
            "text/plain": [
              "True"
            ]
          },
          "metadata": {
            "tags": []
          },
          "execution_count": 16
        }
      ]
    },
    {
      "cell_type": "code",
      "metadata": {
        "colab": {
          "base_uri": "https://localhost:8080/"
        },
        "id": "zwtZdpkIHshj",
        "outputId": "32089783-4bcd-4e44-9b43-cf6f190d8e4a"
      },
      "source": [
        "device = get_default_device()\n",
        "device"
      ],
      "execution_count": 17,
      "outputs": [
        {
          "output_type": "execute_result",
          "data": {
            "text/plain": [
              "device(type='cuda')"
            ]
          },
          "metadata": {
            "tags": []
          },
          "execution_count": 17
        }
      ]
    },
    {
      "cell_type": "code",
      "metadata": {
        "colab": {
          "base_uri": "https://localhost:8080/"
        },
        "id": "IoCeX1W_Hsmo",
        "outputId": "2a64a497-2a2a-4e9f-96b5-974011bb7cb7"
      },
      "source": [
        "img.device"
      ],
      "execution_count": 18,
      "outputs": [
        {
          "output_type": "execute_result",
          "data": {
            "text/plain": [
              "device(type='cpu')"
            ]
          },
          "metadata": {
            "tags": []
          },
          "execution_count": 18
        }
      ]
    },
    {
      "cell_type": "code",
      "metadata": {
        "colab": {
          "base_uri": "https://localhost:8080/"
        },
        "id": "YTQdO7i_HsrD",
        "outputId": "caaf2ecc-6fe5-4ac7-c875-889982d5eef1"
      },
      "source": [
        "img_gpu = to_device(img, device)\n",
        "img_gpu.device"
      ],
      "execution_count": 19,
      "outputs": [
        {
          "output_type": "execute_result",
          "data": {
            "text/plain": [
              "device(type='cuda', index=0)"
            ]
          },
          "metadata": {
            "tags": []
          },
          "execution_count": 19
        }
      ]
    },
    {
      "cell_type": "code",
      "metadata": {
        "colab": {
          "base_uri": "https://localhost:8080/"
        },
        "id": "EHa9GAyPHsvN",
        "outputId": "a2f34aab-0021-4f3b-eee6-590da962374c"
      },
      "source": [
        "train_dl = DeviceDataLoader(train_dl, device )\n",
        "val_dl = DeviceDataLoader(val_dl, device)\n",
        "print(train_dl.device, val_dl.device)"
      ],
      "execution_count": 20,
      "outputs": [
        {
          "output_type": "stream",
          "text": [
            "cuda cuda\n"
          ],
          "name": "stdout"
        }
      ]
    },
    {
      "cell_type": "markdown",
      "metadata": {
        "id": "GHmow4_zIAs3"
      },
      "source": [
        "Model and Training Utilities"
      ]
    },
    {
      "cell_type": "code",
      "metadata": {
        "id": "_ENJzLm9Hsx9"
      },
      "source": [
        "import torch.nn as nn\n",
        "import torch.nn.functional as F\n",
        "\n",
        "class ImageClassificationBase(nn.Module):\n",
        "    def training_step(self, batch):\n",
        "        \"calculate loss for a batch of training data\"\n",
        "        images, labels = batch \n",
        "        out = self(images)                  # Generate predictions\n",
        "        loss = F.cross_entropy(out, labels) # Calculate loss\n",
        "        return loss\n",
        "    \n",
        "    def validation_step(self, batch):\n",
        "        \"calculate loss & accuracy for a batch of validation data\"\n",
        "        images, labels = batch \n",
        "        out = self(images)                    # Generate predictions\n",
        "        loss = F.cross_entropy(out, labels)   # Calculate loss\n",
        "        acc = accuracy(out, labels)           # Calculate accuracy\n",
        "        return {'val_loss': loss.detach(), 'val_acc': acc}\n",
        "        \n",
        "    def validation_epoch_end(self, outputs):\n",
        "        batch_losses = [x['val_loss'] for x in outputs]\n",
        "        epoch_loss = torch.stack(batch_losses).mean()   # Combine losses\n",
        "        batch_accs = [x['val_acc'] for x in outputs]\n",
        "        epoch_acc = torch.stack(batch_accs).mean()      # Combine accuracies\n",
        "        return {'val_loss': epoch_loss.item(), 'val_acc': epoch_acc.item()}\n",
        "    \n",
        "    def epoch_end(self, epoch, result):\n",
        "        print(\"Epoch [{}], train_loss: {:.4f}, val_loss: {:.4f}, val_acc: {:.4f}\".format(\n",
        "            epoch, result['train_loss'], result['val_loss'], result['val_acc']))\n",
        "        \n",
        "def accuracy(outputs, labels):\n",
        "    _, preds = torch.max(outputs, dim=1)\n",
        "    return torch.tensor(torch.sum(preds == labels).item() / len(preds))"
      ],
      "execution_count": 21,
      "outputs": []
    },
    {
      "cell_type": "code",
      "metadata": {
        "id": "50O-2R78Hs0h"
      },
      "source": [
        "\n",
        "@torch.no_grad()\n",
        "def evaluate(model, val_loader):\n",
        "    \"Evaluate the models performance on the validation set\"\n",
        "    model.eval()\n",
        "    outputs = [model.validation_step(batch) for batch in val_loader]\n",
        "    return model.validation_epoch_end(outputs)\n",
        "\n",
        "def fit(epochs, lr, model, train_loader, val_loader, opt_func=torch.optim.SGD):\n",
        "    history = []\n",
        "    optimizer = opt_func(model.parameters(), lr)\n",
        "    for epoch in range(epochs):\n",
        "        # Training Phase \n",
        "        model.train()\n",
        "        train_losses = []\n",
        "        for batch in train_loader:\n",
        "            loss = model.training_step(batch)\n",
        "            train_losses.append(loss)\n",
        "            loss.backward()\n",
        "            optimizer.step()\n",
        "            optimizer.zero_grad()\n",
        "        # Validation phase\n",
        "        result = evaluate(model, val_loader)\n",
        "        result['train_loss'] = torch.stack(train_losses).mean().item()\n",
        "        model.epoch_end(epoch, result)\n",
        "        history.append(result)\n",
        "    return history"
      ],
      "execution_count": 22,
      "outputs": []
    },
    {
      "cell_type": "markdown",
      "metadata": {
        "id": "dPX9JRlXIMeD"
      },
      "source": [
        "Model (ResNet9)\n"
      ]
    },
    {
      "cell_type": "code",
      "metadata": {
        "id": "44VljIhtHs39"
      },
      "source": [
        "def conv_block(in_channels, out_channels, pool=False):\n",
        "    layers = [nn.Conv2d(in_channels, out_channels, kernel_size=3, padding=1), \n",
        "              nn.BatchNorm2d(out_channels), \n",
        "              nn.ReLU(inplace=True)]\n",
        "    if pool: layers.append(nn.MaxPool2d(2))\n",
        "    return nn.Sequential(*layers)\n",
        "\n",
        "class ResNet9(ImageClassificationBase):\n",
        "    def __init__(self, in_channels, num_classes):\n",
        "        super().__init__()\n",
        "        # Input: 10 x x 3 x 224 x 224\n",
        "        self.conv1 = conv_block(in_channels, 224) #Input: 10 x 224 x 224 x 224\n",
        "        self.conv2 = conv_block(224, 128, pool=True) #Input: 10 x 128 x 112 x 112, feature map is reduced to 16 x 16 because pool is set to true\n",
        "        self.res1 = nn.Sequential(conv_block(128, 128), #Input: 10 x  128 x 112 x 112\n",
        "                                  conv_block(128, 128)) # 10 x 128 x 112 x 112\n",
        "        \n",
        "        self.conv3 = conv_block(128, 256, pool=True) # 10 x 256 x 28 x 28\n",
        "        self.conv4 = conv_block(256, 512, pool=True) # 10 x 512 x 14 x 14\n",
        "        self.res2 = nn.Sequential(conv_block(512, 512), # 10 x 512 x 14 x 14\n",
        "                                  conv_block(512, 512)) # 10 x 512 x 14 x 14\n",
        "        \n",
        "        self.classifier = nn.Sequential(nn.AdaptiveMaxPool2d(1), # 10 x 512 x 1 x 1\n",
        "                                        nn.Flatten(), # 10 x 512\n",
        "                                        nn.Dropout(0.2), # . Dropout makes the model learn by analyzing relationships not by specific values\n",
        "                                        nn.Linear(512, num_classes))   \n",
        "        \n",
        "    def forward(self, xb):\n",
        "        out = self.conv1(xb)\n",
        "        out = self.conv2(out)\n",
        "        out = self.res1(out) + out\n",
        "        out = self.conv3(out)\n",
        "        out = self.conv4(out)\n",
        "        out = self.res2(out) + out\n",
        "        out = self.classifier(out)\n",
        "        return out"
      ],
      "execution_count": 23,
      "outputs": []
    },
    {
      "cell_type": "code",
      "metadata": {
        "colab": {
          "base_uri": "https://localhost:8080/"
        },
        "id": "VjoP-ez3Hs50",
        "outputId": "e44ae875-1363-4685-be97-30e89c230915"
      },
      "source": [
        "model = to_device(ResNet9(3, len(train_ds)), device)\n",
        "model"
      ],
      "execution_count": 24,
      "outputs": [
        {
          "output_type": "execute_result",
          "data": {
            "text/plain": [
              "ResNet9(\n",
              "  (conv1): Sequential(\n",
              "    (0): Conv2d(3, 224, kernel_size=(3, 3), stride=(1, 1), padding=(1, 1))\n",
              "    (1): BatchNorm2d(224, eps=1e-05, momentum=0.1, affine=True, track_running_stats=True)\n",
              "    (2): ReLU(inplace=True)\n",
              "  )\n",
              "  (conv2): Sequential(\n",
              "    (0): Conv2d(224, 128, kernel_size=(3, 3), stride=(1, 1), padding=(1, 1))\n",
              "    (1): BatchNorm2d(128, eps=1e-05, momentum=0.1, affine=True, track_running_stats=True)\n",
              "    (2): ReLU(inplace=True)\n",
              "    (3): MaxPool2d(kernel_size=2, stride=2, padding=0, dilation=1, ceil_mode=False)\n",
              "  )\n",
              "  (res1): Sequential(\n",
              "    (0): Sequential(\n",
              "      (0): Conv2d(128, 128, kernel_size=(3, 3), stride=(1, 1), padding=(1, 1))\n",
              "      (1): BatchNorm2d(128, eps=1e-05, momentum=0.1, affine=True, track_running_stats=True)\n",
              "      (2): ReLU(inplace=True)\n",
              "    )\n",
              "    (1): Sequential(\n",
              "      (0): Conv2d(128, 128, kernel_size=(3, 3), stride=(1, 1), padding=(1, 1))\n",
              "      (1): BatchNorm2d(128, eps=1e-05, momentum=0.1, affine=True, track_running_stats=True)\n",
              "      (2): ReLU(inplace=True)\n",
              "    )\n",
              "  )\n",
              "  (conv3): Sequential(\n",
              "    (0): Conv2d(128, 256, kernel_size=(3, 3), stride=(1, 1), padding=(1, 1))\n",
              "    (1): BatchNorm2d(256, eps=1e-05, momentum=0.1, affine=True, track_running_stats=True)\n",
              "    (2): ReLU(inplace=True)\n",
              "    (3): MaxPool2d(kernel_size=2, stride=2, padding=0, dilation=1, ceil_mode=False)\n",
              "  )\n",
              "  (conv4): Sequential(\n",
              "    (0): Conv2d(256, 512, kernel_size=(3, 3), stride=(1, 1), padding=(1, 1))\n",
              "    (1): BatchNorm2d(512, eps=1e-05, momentum=0.1, affine=True, track_running_stats=True)\n",
              "    (2): ReLU(inplace=True)\n",
              "    (3): MaxPool2d(kernel_size=2, stride=2, padding=0, dilation=1, ceil_mode=False)\n",
              "  )\n",
              "  (res2): Sequential(\n",
              "    (0): Sequential(\n",
              "      (0): Conv2d(512, 512, kernel_size=(3, 3), stride=(1, 1), padding=(1, 1))\n",
              "      (1): BatchNorm2d(512, eps=1e-05, momentum=0.1, affine=True, track_running_stats=True)\n",
              "      (2): ReLU(inplace=True)\n",
              "    )\n",
              "    (1): Sequential(\n",
              "      (0): Conv2d(512, 512, kernel_size=(3, 3), stride=(1, 1), padding=(1, 1))\n",
              "      (1): BatchNorm2d(512, eps=1e-05, momentum=0.1, affine=True, track_running_stats=True)\n",
              "      (2): ReLU(inplace=True)\n",
              "    )\n",
              "  )\n",
              "  (classifier): Sequential(\n",
              "    (0): AdaptiveMaxPool2d(output_size=1)\n",
              "    (1): Flatten(start_dim=1, end_dim=-1)\n",
              "    (2): Dropout(p=0.2, inplace=False)\n",
              "    (3): Linear(in_features=512, out_features=4096, bias=True)\n",
              "  )\n",
              ")"
            ]
          },
          "metadata": {
            "tags": []
          },
          "execution_count": 24
        }
      ]
    },
    {
      "cell_type": "code",
      "metadata": {
        "colab": {
          "base_uri": "https://localhost:8080/"
        },
        "id": "9_hbaPKiHs8H",
        "outputId": "80e5bc1b-477e-4778-e6c3-bfd5c1a81024"
      },
      "source": [
        "\n",
        "# Checking if the weight of a layer is on cude\n",
        "model.conv1[0].weight.device"
      ],
      "execution_count": 25,
      "outputs": [
        {
          "output_type": "execute_result",
          "data": {
            "text/plain": [
              "device(type='cuda', index=0)"
            ]
          },
          "metadata": {
            "tags": []
          },
          "execution_count": 25
        }
      ]
    },
    {
      "cell_type": "code",
      "metadata": {
        "colab": {
          "base_uri": "https://localhost:8080/"
        },
        "id": "sDdYxby8Hs-q",
        "outputId": "65916158-3f1d-415a-a540-89b9f03f02c3"
      },
      "source": [
        "for batch in train_dl:\n",
        "  images, label = batch\n",
        "  print(\"images.shape\",images.shape)\n",
        "  print(\"images.device\",images.device)\n",
        "  preds = model(images)\n",
        "  print(\"preds.shape\", preds.shape)\n",
        "  break"
      ],
      "execution_count": 26,
      "outputs": [
        {
          "output_type": "stream",
          "text": [
            "/usr/local/lib/python3.7/dist-packages/torch/utils/data/dataloader.py:477: UserWarning: This DataLoader will create 4 worker processes in total. Our suggested max number of worker in current system is 2, which is smaller than what this DataLoader is going to create. Please be aware that excessive worker creation might get DataLoader running slow or even freeze, lower the worker number to avoid potential slowness/freeze if necessary.\n",
            "  cpuset_checked))\n"
          ],
          "name": "stderr"
        },
        {
          "output_type": "stream",
          "text": [
            "images.shape torch.Size([16, 3, 240, 240])\n",
            "images.device cuda:0\n",
            "preds.shape torch.Size([16, 4096])\n"
          ],
          "name": "stdout"
        }
      ]
    },
    {
      "cell_type": "code",
      "metadata": {
        "colab": {
          "base_uri": "https://localhost:8080/"
        },
        "id": "MrX3faRmHtBm",
        "outputId": "5af76718-4baa-4079-dcab-29c4404b6eb6"
      },
      "source": [
        "history = [evaluate(model, val_dl)]\n",
        "history"
      ],
      "execution_count": 27,
      "outputs": [
        {
          "output_type": "stream",
          "text": [
            "/usr/local/lib/python3.7/dist-packages/torch/utils/data/dataloader.py:477: UserWarning: This DataLoader will create 4 worker processes in total. Our suggested max number of worker in current system is 2, which is smaller than what this DataLoader is going to create. Please be aware that excessive worker creation might get DataLoader running slow or even freeze, lower the worker number to avoid potential slowness/freeze if necessary.\n",
            "  cpuset_checked))\n"
          ],
          "name": "stderr"
        },
        {
          "output_type": "execute_result",
          "data": {
            "text/plain": [
              "[{'val_acc': 0.0, 'val_loss': 8.321183204650879}]"
            ]
          },
          "metadata": {
            "tags": []
          },
          "execution_count": 27
        }
      ]
    },
    {
      "cell_type": "code",
      "metadata": {
        "colab": {
          "base_uri": "https://localhost:8080/"
        },
        "id": "cM2tLinrJHlu",
        "outputId": "b0f8fa15-7eed-40b3-dd6d-69291a2f81ae"
      },
      "source": [
        "history += fit(5, 0.0001, model, train_dl, val_dl, torch.optim.Adam)"
      ],
      "execution_count": 28,
      "outputs": [
        {
          "output_type": "stream",
          "text": [
            "/usr/local/lib/python3.7/dist-packages/torch/utils/data/dataloader.py:477: UserWarning: This DataLoader will create 4 worker processes in total. Our suggested max number of worker in current system is 2, which is smaller than what this DataLoader is going to create. Please be aware that excessive worker creation might get DataLoader running slow or even freeze, lower the worker number to avoid potential slowness/freeze if necessary.\n",
            "  cpuset_checked))\n"
          ],
          "name": "stderr"
        },
        {
          "output_type": "stream",
          "text": [
            "Epoch [0], train_loss: 0.3313, val_loss: 0.0606, val_acc: 0.9843\n",
            "Epoch [1], train_loss: 0.0733, val_loss: 0.0333, val_acc: 0.9828\n",
            "Epoch [2], train_loss: 0.0364, val_loss: 0.0338, val_acc: 0.9871\n",
            "Epoch [3], train_loss: 0.0279, val_loss: 0.0380, val_acc: 0.9892\n",
            "Epoch [4], train_loss: 0.0218, val_loss: 0.0422, val_acc: 0.9892\n"
          ],
          "name": "stdout"
        }
      ]
    },
    {
      "cell_type": "code",
      "metadata": {
        "colab": {
          "base_uri": "https://localhost:8080/"
        },
        "id": "c-jU_tUtO1U7",
        "outputId": "4414fcfc-5ed2-4a90-ac5d-1e1eac6f05f3"
      },
      "source": [
        "history += fit(5, 0.0001, model, train_dl, val_dl, torch.optim.Adam)"
      ],
      "execution_count": 29,
      "outputs": [
        {
          "output_type": "stream",
          "text": [
            "/usr/local/lib/python3.7/dist-packages/torch/utils/data/dataloader.py:477: UserWarning: This DataLoader will create 4 worker processes in total. Our suggested max number of worker in current system is 2, which is smaller than what this DataLoader is going to create. Please be aware that excessive worker creation might get DataLoader running slow or even freeze, lower the worker number to avoid potential slowness/freeze if necessary.\n",
            "  cpuset_checked))\n"
          ],
          "name": "stderr"
        },
        {
          "output_type": "stream",
          "text": [
            "Epoch [0], train_loss: 0.0596, val_loss: 0.0378, val_acc: 0.9892\n",
            "Epoch [1], train_loss: 0.0542, val_loss: 0.0402, val_acc: 0.9935\n",
            "Epoch [2], train_loss: 0.0186, val_loss: 0.0455, val_acc: 0.9828\n",
            "Epoch [3], train_loss: 0.0248, val_loss: 0.0338, val_acc: 0.9914\n",
            "Epoch [4], train_loss: 0.0192, val_loss: 0.0330, val_acc: 0.9914\n"
          ],
          "name": "stdout"
        }
      ]
    },
    {
      "cell_type": "code",
      "metadata": {
        "colab": {
          "base_uri": "https://localhost:8080/"
        },
        "id": "pqko3XepSBMO",
        "outputId": "d73861df-7cbd-4d92-f580-4c66980c82c1"
      },
      "source": [
        "history += fit(5, 0.0001, model, train_dl, val_dl, torch.optim.Adam)"
      ],
      "execution_count": 30,
      "outputs": [
        {
          "output_type": "stream",
          "text": [
            "/usr/local/lib/python3.7/dist-packages/torch/utils/data/dataloader.py:477: UserWarning: This DataLoader will create 4 worker processes in total. Our suggested max number of worker in current system is 2, which is smaller than what this DataLoader is going to create. Please be aware that excessive worker creation might get DataLoader running slow or even freeze, lower the worker number to avoid potential slowness/freeze if necessary.\n",
            "  cpuset_checked))\n"
          ],
          "name": "stderr"
        },
        {
          "output_type": "stream",
          "text": [
            "Epoch [0], train_loss: 0.0261, val_loss: 0.0368, val_acc: 0.9935\n",
            "Epoch [1], train_loss: 0.0223, val_loss: 0.0730, val_acc: 0.9806\n",
            "Epoch [2], train_loss: 0.0113, val_loss: 0.0264, val_acc: 0.9892\n",
            "Epoch [3], train_loss: 0.0223, val_loss: 0.0437, val_acc: 0.9892\n",
            "Epoch [4], train_loss: 0.0175, val_loss: 0.0270, val_acc: 0.9935\n"
          ],
          "name": "stdout"
        }
      ]
    },
    {
      "cell_type": "code",
      "metadata": {
        "colab": {
          "base_uri": "https://localhost:8080/"
        },
        "id": "kjjjjwFoVFwR",
        "outputId": "c86af6b3-74c7-4818-c4bb-ad66008bdfee"
      },
      "source": [
        "history += fit(5, 0.0001, model, train_dl, val_dl, torch.optim.Adam)"
      ],
      "execution_count": 31,
      "outputs": [
        {
          "output_type": "stream",
          "text": [
            "/usr/local/lib/python3.7/dist-packages/torch/utils/data/dataloader.py:477: UserWarning: This DataLoader will create 4 worker processes in total. Our suggested max number of worker in current system is 2, which is smaller than what this DataLoader is going to create. Please be aware that excessive worker creation might get DataLoader running slow or even freeze, lower the worker number to avoid potential slowness/freeze if necessary.\n",
            "  cpuset_checked))\n"
          ],
          "name": "stderr"
        },
        {
          "output_type": "stream",
          "text": [
            "Epoch [0], train_loss: 0.0193, val_loss: 0.0390, val_acc: 0.9892\n",
            "Epoch [1], train_loss: 0.0115, val_loss: 0.0366, val_acc: 0.9892\n",
            "Epoch [2], train_loss: 0.0114, val_loss: 0.0807, val_acc: 0.9763\n",
            "Epoch [3], train_loss: 0.0132, val_loss: 0.0362, val_acc: 0.9892\n",
            "Epoch [4], train_loss: 0.0075, val_loss: 0.0440, val_acc: 0.9935\n"
          ],
          "name": "stdout"
        }
      ]
    },
    {
      "cell_type": "code",
      "metadata": {
        "colab": {
          "base_uri": "https://localhost:8080/"
        },
        "id": "8Zzj2KTcYJBr",
        "outputId": "2ab4ba51-75fd-43e3-df45-2e5f251c2501"
      },
      "source": [
        "history += fit(5, 0.0001, model, train_dl, val_dl, torch.optim.Adam)"
      ],
      "execution_count": 32,
      "outputs": [
        {
          "output_type": "stream",
          "text": [
            "/usr/local/lib/python3.7/dist-packages/torch/utils/data/dataloader.py:477: UserWarning: This DataLoader will create 4 worker processes in total. Our suggested max number of worker in current system is 2, which is smaller than what this DataLoader is going to create. Please be aware that excessive worker creation might get DataLoader running slow or even freeze, lower the worker number to avoid potential slowness/freeze if necessary.\n",
            "  cpuset_checked))\n"
          ],
          "name": "stderr"
        },
        {
          "output_type": "stream",
          "text": [
            "Epoch [0], train_loss: 0.0038, val_loss: 0.0282, val_acc: 0.9957\n",
            "Epoch [1], train_loss: 0.0186, val_loss: 0.0464, val_acc: 0.9871\n",
            "Epoch [2], train_loss: 0.0147, val_loss: 0.0447, val_acc: 0.9892\n",
            "Epoch [3], train_loss: 0.0056, val_loss: 0.0404, val_acc: 0.9871\n",
            "Epoch [4], train_loss: 0.0035, val_loss: 0.0177, val_acc: 0.9957\n"
          ],
          "name": "stdout"
        }
      ]
    },
    {
      "cell_type": "code",
      "metadata": {
        "colab": {
          "base_uri": "https://localhost:8080/"
        },
        "id": "ANxPNr5QbgTG",
        "outputId": "6f5bfd8b-05a2-441e-fa04-12cd4bd2c242"
      },
      "source": [
        "history += fit(5, 0.0001, model, train_dl, val_dl, torch.optim.Adam)"
      ],
      "execution_count": 33,
      "outputs": [
        {
          "output_type": "stream",
          "text": [
            "/usr/local/lib/python3.7/dist-packages/torch/utils/data/dataloader.py:477: UserWarning: This DataLoader will create 4 worker processes in total. Our suggested max number of worker in current system is 2, which is smaller than what this DataLoader is going to create. Please be aware that excessive worker creation might get DataLoader running slow or even freeze, lower the worker number to avoid potential slowness/freeze if necessary.\n",
            "  cpuset_checked))\n"
          ],
          "name": "stderr"
        },
        {
          "output_type": "stream",
          "text": [
            "Epoch [0], train_loss: 0.0036, val_loss: 0.0363, val_acc: 0.9957\n",
            "Epoch [1], train_loss: 0.0113, val_loss: 0.0482, val_acc: 0.9914\n",
            "Epoch [2], train_loss: 0.0044, val_loss: 0.0433, val_acc: 0.9914\n",
            "Epoch [3], train_loss: 0.0019, val_loss: 0.0411, val_acc: 0.9935\n",
            "Epoch [4], train_loss: 0.0030, val_loss: 0.0373, val_acc: 0.9935\n"
          ],
          "name": "stdout"
        }
      ]
    },
    {
      "cell_type": "code",
      "metadata": {
        "id": "HIpIIaXReq4Y"
      },
      "source": [
        "def plot_accuracies(history):\n",
        "    accuracies = [x['val_acc'] for x in history]\n",
        "    plt.plot(accuracies, '-x')\n",
        "    plt.xlabel('epoch')\n",
        "    plt.ylabel('accuracy')\n",
        "    plt.title('Figure 1: Accuracy vs. No. of epochs');"
      ],
      "execution_count": 34,
      "outputs": []
    },
    {
      "cell_type": "code",
      "metadata": {
        "colab": {
          "base_uri": "https://localhost:8080/",
          "height": 294
        },
        "id": "SZzKsj5meuYL",
        "outputId": "a82c1756-8d9d-432d-ca56-9977c4b25cf2"
      },
      "source": [
        "plot_accuracies(history)"
      ],
      "execution_count": 35,
      "outputs": [
        {
          "output_type": "display_data",
          "data": {
            "image/png": "[encoded data removed]",
            "text/plain": [
              "<Figure size 432x288 with 1 Axes>"
            ]
          },
          "metadata": {
            "tags": [],
            "needs_background": "light"
          }
        }
      ]
    },
    {
      "cell_type": "code",
      "metadata": {
        "id": "26fFe_zVe0WO"
      },
      "source": [
        "def plot_losses(history):\n",
        "    train_losses = [x.get('train_loss') for x in history]\n",
        "    val_losses = [x['val_loss'] for x in history]\n",
        "    plt.plot(train_losses, '-bx')\n",
        "    plt.plot(val_losses, '-rx')\n",
        "    plt.xlabel('epoch')\n",
        "    plt.ylabel('loss')\n",
        "    plt.legend(['Training', 'Validation'])\n",
        "    plt.title('Figure 2: Loss vs. No. of epochs');"
      ],
      "execution_count": 36,
      "outputs": []
    },
    {
      "cell_type": "code",
      "metadata": {
        "colab": {
          "base_uri": "https://localhost:8080/",
          "height": 294
        },
        "id": "Yw5ndKebe45X",
        "outputId": "f273167a-df72-43bb-f9f9-066fc924d2db"
      },
      "source": [
        "plot_losses(history)"
      ],
      "execution_count": 37,
      "outputs": [
        {
          "output_type": "display_data",
          "data": {
            "image/png": "[encoded data removed]",
            "text/plain": [
              "<Figure size 432x288 with 1 Axes>"
            ]
          },
          "metadata": {
            "tags": [],
            "needs_background": "light"
          }
        }
      ]
    }
  ]
}